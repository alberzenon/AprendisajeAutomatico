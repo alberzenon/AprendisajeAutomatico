{
 "cells": [
  {
   "cell_type": "code",
   "execution_count": 1,
   "metadata": {},
   "outputs": [
    {
     "name": "stdout",
     "output_type": "stream",
     "text": [
      "Requirement already satisfied: spotipy in c:\\users\\alberto\\appdata\\local\\programs\\python\\python36-32\\lib\\site-packages (2.20.0)\n",
      "Requirement already satisfied: six>=1.15.0 in c:\\users\\alberto\\appdata\\local\\programs\\python\\python36-32\\lib\\site-packages (from spotipy) (1.16.0)\n",
      "Requirement already satisfied: redis>=3.5.3 in c:\\users\\alberto\\appdata\\local\\programs\\python\\python36-32\\lib\\site-packages (from spotipy) (4.3.4)\n",
      "Requirement already satisfied: requests>=2.25.0 in c:\\users\\alberto\\appdata\\local\\programs\\python\\python36-32\\lib\\site-packages (from spotipy) (2.27.1)\n",
      "Requirement already satisfied: urllib3>=1.26.0 in c:\\users\\alberto\\appdata\\local\\programs\\python\\python36-32\\lib\\site-packages (from spotipy) (1.26.11)\n",
      "Requirement already satisfied: packaging>=20.4 in c:\\users\\alberto\\appdata\\local\\programs\\python\\python36-32\\lib\\site-packages (from redis>=3.5.3->spotipy) (21.3)\n",
      "Requirement already satisfied: deprecated>=1.2.3 in c:\\users\\alberto\\appdata\\local\\programs\\python\\python36-32\\lib\\site-packages (from redis>=3.5.3->spotipy) (1.2.13)\n",
      "Requirement already satisfied: async-timeout>=4.0.2 in c:\\users\\alberto\\appdata\\local\\programs\\python\\python36-32\\lib\\site-packages (from redis>=3.5.3->spotipy) (4.0.2)\n",
      "Requirement already satisfied: typing-extensions in c:\\users\\alberto\\appdata\\local\\programs\\python\\python36-32\\lib\\site-packages (from redis>=3.5.3->spotipy) (4.1.1)\n",
      "Requirement already satisfied: importlib-metadata>=1.0 in c:\\users\\alberto\\appdata\\local\\programs\\python\\python36-32\\lib\\site-packages (from redis>=3.5.3->spotipy) (4.8.3)\n",
      "Requirement already satisfied: charset-normalizer~=2.0.0 in c:\\users\\alberto\\appdata\\local\\programs\\python\\python36-32\\lib\\site-packages (from requests>=2.25.0->spotipy) (2.0.12)\n",
      "Requirement already satisfied: idna<4,>=2.5 in c:\\users\\alberto\\appdata\\local\\programs\\python\\python36-32\\lib\\site-packages (from requests>=2.25.0->spotipy) (3.3)\n",
      "Requirement already satisfied: certifi>=2017.4.17 in c:\\users\\alberto\\appdata\\local\\programs\\python\\python36-32\\lib\\site-packages (from requests>=2.25.0->spotipy) (2022.6.15)\n",
      "Requirement already satisfied: wrapt<2,>=1.10 in c:\\users\\alberto\\appdata\\local\\programs\\python\\python36-32\\lib\\site-packages (from deprecated>=1.2.3->redis>=3.5.3->spotipy) (1.14.1)\n",
      "Requirement already satisfied: zipp>=0.5 in c:\\users\\alberto\\appdata\\local\\programs\\python\\python36-32\\lib\\site-packages (from importlib-metadata>=1.0->redis>=3.5.3->spotipy) (3.6.0)\n",
      "Requirement already satisfied: pyparsing!=3.0.5,>=2.0.2 in c:\\users\\alberto\\appdata\\local\\programs\\python\\python36-32\\lib\\site-packages (from packaging>=20.4->redis>=3.5.3->spotipy) (3.0.7)\n",
      "Note: you may need to restart the kernel to use updated packages.\n"
     ]
    }
   ],
   "source": [
    "pip install spotipy\n"
   ]
  },
  {
   "cell_type": "code",
   "execution_count": 2,
   "metadata": {},
   "outputs": [],
   "source": [
    "#Importamos las librerías principales\n",
    "import math\n",
    "from scipy.spatial.distance import euclidean\n",
    "from pandas import read_csv\n",
    "import seaborn as sns\n",
    "import matplotlib.pyplot as plt\n",
    "import numpy as np\n",
    "import spotipy \n",
    "sns.set()"
   ]
  },
  {
   "cell_type": "code",
   "execution_count": 3,
   "metadata": {},
   "outputs": [],
   "source": [
    "#clientID y Clinet Secret\n",
    "sp = spotipy.Spotify() \n",
    "from spotipy.oauth2 import SpotifyClientCredentials \n",
    "cid =\"0cbdc493e9df45b0bfa38bf1a7f1fd43\"\n",
    "secret = \"6be1132f0fed4f1eafd20d18f9c2fe14\"\n",
    "client_credentials_manager = SpotifyClientCredentials(client_id=cid, client_secret=secret) \n",
    "sp = spotipy.Spotify(client_credentials_manager=client_credentials_manager) \n",
    "sp.trace=False"
   ]
  },
  {
   "cell_type": "code",
   "execution_count": 4,
   "metadata": {},
   "outputs": [
    {
     "name": "stdout",
     "output_type": "stream",
     "text": [
      "track    : Stairway to Heaven - Remaster\n",
      "audio    : https://p.scdn.co/mp3-preview/fc80a280376d5142c888475bd8fdcd00b4fc8d7d?cid=0cbdc493e9df45b0bfa38bf1a7f1fd43\n",
      "cover art: https://i.scdn.co/image/ab67616d0000b273c8a11e48c91a982d086afc69\n",
      "\n",
      "track    : Immigrant Song - Remaster\n",
      "audio    : https://p.scdn.co/mp3-preview/e5910b86cc788766388cca1c494094e39186aa1e?cid=0cbdc493e9df45b0bfa38bf1a7f1fd43\n",
      "cover art: https://i.scdn.co/image/ab67616d0000b27390a50cfe99a4c19ff3cbfbdb\n",
      "\n",
      "track    : Whole Lotta Love - 1990 Remaster\n",
      "audio    : https://p.scdn.co/mp3-preview/f3765a6c5b194302c6e7fffc31ba21e2bd616cf6?cid=0cbdc493e9df45b0bfa38bf1a7f1fd43\n",
      "cover art: https://i.scdn.co/image/ab67616d0000b273fc4f17340773c6c3579fea0d\n",
      "\n",
      "track    : Black Dog - Remaster\n",
      "audio    : https://p.scdn.co/mp3-preview/f82af31817a7ec198a709e68f0f0f9edfc9a7e81?cid=0cbdc493e9df45b0bfa38bf1a7f1fd43\n",
      "cover art: https://i.scdn.co/image/ab67616d0000b273c8a11e48c91a982d086afc69\n",
      "\n",
      "track    : Kashmir - Remaster\n",
      "audio    : https://p.scdn.co/mp3-preview/64908f0ca685e8727a2f07615ee147d28adbc450?cid=0cbdc493e9df45b0bfa38bf1a7f1fd43\n",
      "cover art: https://i.scdn.co/image/ab67616d0000b273765b0617b572bdd1dbdc7d8e\n",
      "\n",
      "track    : Ramble On - 1990 Remaster\n",
      "audio    : https://p.scdn.co/mp3-preview/6b06102e8b3cf22d49834f443f7870f7f1bbdbb4?cid=0cbdc493e9df45b0bfa38bf1a7f1fd43\n",
      "cover art: https://i.scdn.co/image/ab67616d0000b273fc4f17340773c6c3579fea0d\n",
      "\n",
      "track    : Rock and Roll - Remaster\n",
      "audio    : https://p.scdn.co/mp3-preview/6ce49759af47a1eb104e05dac1938d79ddb15ebd?cid=0cbdc493e9df45b0bfa38bf1a7f1fd43\n",
      "cover art: https://i.scdn.co/image/ab67616d0000b273c8a11e48c91a982d086afc69\n",
      "\n",
      "track    : Going to California - Remaster\n",
      "audio    : https://p.scdn.co/mp3-preview/85bbb9572e554786b320555e9bab071986fe73de?cid=0cbdc493e9df45b0bfa38bf1a7f1fd43\n",
      "cover art: https://i.scdn.co/image/ab67616d0000b273c8a11e48c91a982d086afc69\n",
      "\n",
      "track    : Good Times Bad Times - 1993 Remaster\n",
      "audio    : https://p.scdn.co/mp3-preview/9d54ac8d655aebf2920de790b421ba13e3508d5b?cid=0cbdc493e9df45b0bfa38bf1a7f1fd43\n",
      "cover art: https://i.scdn.co/image/ab67616d0000b2736f2f499c1df1f210c9b34b32\n",
      "\n",
      "track    : D'yer Mak'er - Remaster\n",
      "audio    : https://p.scdn.co/mp3-preview/d270345618cefadf336a0c7289601e844099265c?cid=0cbdc493e9df45b0bfa38bf1a7f1fd43\n",
      "cover art: https://i.scdn.co/image/ab67616d0000b2731816adce1d49e35d3ce9a1d1\n",
      "\n"
     ]
    }
   ],
   "source": [
    "#muestra de 30 segundos y arte de portada. para las 10 mejores pistas de Led Zeppelin\n",
    "\n",
    "lz_uri = 'spotify:artist:36QJpDe2go2KgaRleHCDTp'\n",
    "spotify = spotipy.Spotify(client_credentials_manager = SpotifyClientCredentials(client_id=cid, client_secret=secret))\n",
    "results = spotify.artist_top_tracks(lz_uri)\n",
    "\n",
    "for track in results['tracks'][:50]:\n",
    "    print('track    : ' + track['name'])\n",
    "    print('audio    : ' + track['preview_url'])\n",
    "    print('cover art: ' + track['album']['images'][0]['url'])\n",
    "    print()"
   ]
  },
  {
   "cell_type": "code",
   "execution_count": 5,
   "metadata": {},
   "outputs": [
    {
     "data": {
      "text/plain": [
       "{'album': {'album_type': 'album',\n",
       "  'artists': [{'external_urls': {'spotify': 'https://open.spotify.com/artist/36QJpDe2go2KgaRleHCDTp'},\n",
       "    'href': 'https://api.spotify.com/v1/artists/36QJpDe2go2KgaRleHCDTp',\n",
       "    'id': '36QJpDe2go2KgaRleHCDTp',\n",
       "    'name': 'Led Zeppelin',\n",
       "    'type': 'artist',\n",
       "    'uri': 'spotify:artist:36QJpDe2go2KgaRleHCDTp'}],\n",
       "  'external_urls': {'spotify': 'https://open.spotify.com/album/7gS8ozSkvPW3VBPLnXOZ7S'},\n",
       "  'href': 'https://api.spotify.com/v1/albums/7gS8ozSkvPW3VBPLnXOZ7S',\n",
       "  'id': '7gS8ozSkvPW3VBPLnXOZ7S',\n",
       "  'images': [{'height': 640,\n",
       "    'url': 'https://i.scdn.co/image/ab67616d0000b2731816adce1d49e35d3ce9a1d1',\n",
       "    'width': 640},\n",
       "   {'height': 300,\n",
       "    'url': 'https://i.scdn.co/image/ab67616d00001e021816adce1d49e35d3ce9a1d1',\n",
       "    'width': 300},\n",
       "   {'height': 64,\n",
       "    'url': 'https://i.scdn.co/image/ab67616d000048511816adce1d49e35d3ce9a1d1',\n",
       "    'width': 64}],\n",
       "  'name': 'Houses of the Holy (Deluxe Edition)',\n",
       "  'release_date': '1973-03-28',\n",
       "  'release_date_precision': 'day',\n",
       "  'total_tracks': 15,\n",
       "  'type': 'album',\n",
       "  'uri': 'spotify:album:7gS8ozSkvPW3VBPLnXOZ7S'},\n",
       " 'artists': [{'external_urls': {'spotify': 'https://open.spotify.com/artist/36QJpDe2go2KgaRleHCDTp'},\n",
       "   'href': 'https://api.spotify.com/v1/artists/36QJpDe2go2KgaRleHCDTp',\n",
       "   'id': '36QJpDe2go2KgaRleHCDTp',\n",
       "   'name': 'Led Zeppelin',\n",
       "   'type': 'artist',\n",
       "   'uri': 'spotify:artist:36QJpDe2go2KgaRleHCDTp'}],\n",
       " 'disc_number': 1,\n",
       " 'duration_ms': 262748,\n",
       " 'explicit': False,\n",
       " 'external_ids': {'isrc': 'USAT21300895'},\n",
       " 'external_urls': {'spotify': 'https://open.spotify.com/track/4ItljeeAXtHsnsnnQojaO2'},\n",
       " 'href': 'https://api.spotify.com/v1/tracks/4ItljeeAXtHsnsnnQojaO2',\n",
       " 'id': '4ItljeeAXtHsnsnnQojaO2',\n",
       " 'is_local': False,\n",
       " 'is_playable': True,\n",
       " 'name': \"D'yer Mak'er - Remaster\",\n",
       " 'popularity': 66,\n",
       " 'preview_url': 'https://p.scdn.co/mp3-preview/d270345618cefadf336a0c7289601e844099265c?cid=0cbdc493e9df45b0bfa38bf1a7f1fd43',\n",
       " 'track_number': 6,\n",
       " 'type': 'track',\n",
       " 'uri': 'spotify:track:4ItljeeAXtHsnsnnQojaO2'}"
      ]
     },
     "execution_count": 5,
     "metadata": {},
     "output_type": "execute_result"
    }
   ],
   "source": [
    "track"
   ]
  },
  {
   "cell_type": "code",
   "execution_count": 6,
   "metadata": {},
   "outputs": [
    {
     "data": {
      "text/plain": [
       "dict"
      ]
     },
     "execution_count": 6,
     "metadata": {},
     "output_type": "execute_result"
    }
   ],
   "source": [
    "type(results)\n",
    "type(track)"
   ]
  },
  {
   "cell_type": "code",
   "execution_count": 2,
   "metadata": {},
   "outputs": [],
   "source": [
    "\n",
    "\n",
    "#Importamos los datos levantados del servidor de GitHub\n",
    "from pandas import read_csv\n",
    "data_url = 'https://gist.githubusercontent.com/jackbandy/5cd988ab5c3d95b79219364dce7ee5ae/raw/731ecdbecc7b33030f23cd919e6067dfbaf42feb/song-ratings.csv'\n",
    "ratings = read_csv(data_url,index_col=0)\n",
    "\n"
   ]
  },
  {
   "cell_type": "code",
   "execution_count": 3,
   "metadata": {},
   "outputs": [
    {
     "data": {
      "text/html": [
       "<table border=\"1\" class=\"dataframe\">\n",
       "  <thead>\n",
       "    <tr style=\"text-align: right;\">\n",
       "      <th></th>\n",
       "      <th>One Dance (Drake)</th>\n",
       "      <th>Lean On (Major Lazer)</th>\n",
       "      <th>Sunflower (Post Malone and Swae Lee)</th>\n",
       "      <th>Somebody That I Used To Know (Gotye)</th>\n",
       "      <th>Rolling in the Deep (Adele)</th>\n",
       "      <th>Can't Hold Us (Macklemore)</th>\n",
       "      <th>7 Rings (Ariana Grande)</th>\n",
       "      <th>Wake Me Up (Avicii)</th>\n",
       "      <th>Love The Way You Lie (Eminem and Rihanna)</th>\n",
       "      <th>bad guy (Billie Eilish)</th>\n",
       "      <th>Rather Be (Clean Bandit and Jess Glynne)</th>\n",
       "      <th>Call Me Maybe (Carly Rae Jepsen)</th>\n",
       "      <th>We Are Young (fun.)</th>\n",
       "      <th>Shape of You (Ed Sheeran)</th>\n",
       "      <th>Closer (The Chainsmokers)</th>\n",
       "      <th>Cheerleader (OMI)</th>\n",
       "      <th>Radioactive (Imagine Dragons)</th>\n",
       "      <th>Señorita (Shawn Mendes and Camila Cabello)</th>\n",
       "      <th>Airplanes (B.o.B and Hayley Williams)</th>\n",
       "      <th>Want (Birdtalker)</th>\n",
       "      <th>Without You (David Guetta and Usher)</th>\n",
       "      <th>Half Love (Red Hearse)</th>\n",
       "      <th>Old Town Road - Remix (Lil Nas X and Billy Ray Cyrus)</th>\n",
       "      <th>Never Really Over (Katy Perry)</th>\n",
       "    </tr>\n",
       "    <tr>\n",
       "      <th>First Name (or Alias)</th>\n",
       "      <th></th>\n",
       "      <th></th>\n",
       "      <th></th>\n",
       "      <th></th>\n",
       "      <th></th>\n",
       "      <th></th>\n",
       "      <th></th>\n",
       "      <th></th>\n",
       "      <th></th>\n",
       "      <th></th>\n",
       "      <th></th>\n",
       "      <th></th>\n",
       "      <th></th>\n",
       "      <th></th>\n",
       "      <th></th>\n",
       "      <th></th>\n",
       "      <th></th>\n",
       "      <th></th>\n",
       "      <th></th>\n",
       "      <th></th>\n",
       "      <th></th>\n",
       "      <th></th>\n",
       "      <th></th>\n",
       "      <th></th>\n",
       "    </tr>\n",
       "  </thead>\n",
       "  <tbody>\n",
       "    <tr>\n",
       "      <th>Jack</th>\n",
       "      <td>3.0</td>\n",
       "      <td>5.0</td>\n",
       "      <td>5.0</td>\n",
       "      <td>2</td>\n",
       "      <td>4</td>\n",
       "      <td>4</td>\n",
       "      <td>NaN</td>\n",
       "      <td>5.0</td>\n",
       "      <td>2.0</td>\n",
       "      <td>4.0</td>\n",
       "      <td>5.0</td>\n",
       "      <td>5</td>\n",
       "      <td>4.0</td>\n",
       "      <td>2</td>\n",
       "      <td>5.0</td>\n",
       "      <td>2.0</td>\n",
       "      <td>5</td>\n",
       "      <td>2.0</td>\n",
       "      <td>2.0</td>\n",
       "      <td>5.0</td>\n",
       "      <td>5.0</td>\n",
       "      <td>4.0</td>\n",
       "      <td>5</td>\n",
       "      <td>5</td>\n",
       "    </tr>\n",
       "    <tr>\n",
       "      <th>Nick</th>\n",
       "      <td>2.0</td>\n",
       "      <td>5.0</td>\n",
       "      <td>5.0</td>\n",
       "      <td>4</td>\n",
       "      <td>5</td>\n",
       "      <td>3</td>\n",
       "      <td>5.0</td>\n",
       "      <td>2.0</td>\n",
       "      <td>3.0</td>\n",
       "      <td>5.0</td>\n",
       "      <td>4.0</td>\n",
       "      <td>5</td>\n",
       "      <td>5.0</td>\n",
       "      <td>1</td>\n",
       "      <td>1.0</td>\n",
       "      <td>2.0</td>\n",
       "      <td>2</td>\n",
       "      <td>3.0</td>\n",
       "      <td>3.0</td>\n",
       "      <td>4.0</td>\n",
       "      <td>3.0</td>\n",
       "      <td>4.0</td>\n",
       "      <td>2</td>\n",
       "      <td>5</td>\n",
       "    </tr>\n",
       "    <tr>\n",
       "      <th>Jubilee</th>\n",
       "      <td>5.0</td>\n",
       "      <td>4.0</td>\n",
       "      <td>2.0</td>\n",
       "      <td>3</td>\n",
       "      <td>3</td>\n",
       "      <td>5</td>\n",
       "      <td>4.0</td>\n",
       "      <td>3.0</td>\n",
       "      <td>2.0</td>\n",
       "      <td>5.0</td>\n",
       "      <td>5.0</td>\n",
       "      <td>2</td>\n",
       "      <td>4.0</td>\n",
       "      <td>1</td>\n",
       "      <td>3.0</td>\n",
       "      <td>2.0</td>\n",
       "      <td>5</td>\n",
       "      <td>1.0</td>\n",
       "      <td>5.0</td>\n",
       "      <td>1.0</td>\n",
       "      <td>1.0</td>\n",
       "      <td>1.0</td>\n",
       "      <td>4</td>\n",
       "      <td>5</td>\n",
       "    </tr>\n",
       "    <tr>\n",
       "      <th>Jules</th>\n",
       "      <td>5.0</td>\n",
       "      <td>5.0</td>\n",
       "      <td>3.0</td>\n",
       "      <td>3</td>\n",
       "      <td>5</td>\n",
       "      <td>4</td>\n",
       "      <td>3.0</td>\n",
       "      <td>4.0</td>\n",
       "      <td>3.0</td>\n",
       "      <td>5.0</td>\n",
       "      <td>3.0</td>\n",
       "      <td>3</td>\n",
       "      <td>3.0</td>\n",
       "      <td>3</td>\n",
       "      <td>4.0</td>\n",
       "      <td>2.0</td>\n",
       "      <td>3</td>\n",
       "      <td>2.0</td>\n",
       "      <td>3.0</td>\n",
       "      <td>NaN</td>\n",
       "      <td>4.0</td>\n",
       "      <td>NaN</td>\n",
       "      <td>1</td>\n",
       "      <td>5</td>\n",
       "    </tr>\n",
       "    <tr>\n",
       "      <th>Trevor</th>\n",
       "      <td>4.0</td>\n",
       "      <td>3.0</td>\n",
       "      <td>2.0</td>\n",
       "      <td>4</td>\n",
       "      <td>3</td>\n",
       "      <td>1</td>\n",
       "      <td>3.0</td>\n",
       "      <td>4.0</td>\n",
       "      <td>3.0</td>\n",
       "      <td>2.0</td>\n",
       "      <td>NaN</td>\n",
       "      <td>1</td>\n",
       "      <td>3.0</td>\n",
       "      <td>4</td>\n",
       "      <td>4.0</td>\n",
       "      <td>1.0</td>\n",
       "      <td>5</td>\n",
       "      <td>4.0</td>\n",
       "      <td>3.0</td>\n",
       "      <td>NaN</td>\n",
       "      <td>NaN</td>\n",
       "      <td>NaN</td>\n",
       "      <td>1</td>\n",
       "      <td>3</td>\n",
       "    </tr>\n",
       "    <tr>\n",
       "      <th>Megan</th>\n",
       "      <td>5.0</td>\n",
       "      <td>4.0</td>\n",
       "      <td>4.0</td>\n",
       "      <td>3</td>\n",
       "      <td>3</td>\n",
       "      <td>3</td>\n",
       "      <td>3.0</td>\n",
       "      <td>5.0</td>\n",
       "      <td>4.0</td>\n",
       "      <td>5.0</td>\n",
       "      <td>5.0</td>\n",
       "      <td>4</td>\n",
       "      <td>3.0</td>\n",
       "      <td>4</td>\n",
       "      <td>3.0</td>\n",
       "      <td>2.0</td>\n",
       "      <td>5</td>\n",
       "      <td>3.0</td>\n",
       "      <td>3.0</td>\n",
       "      <td>3.0</td>\n",
       "      <td>4.0</td>\n",
       "      <td>NaN</td>\n",
       "      <td>2</td>\n",
       "      <td>5</td>\n",
       "    </tr>\n",
       "    <tr>\n",
       "      <th>Joe</th>\n",
       "      <td>3.0</td>\n",
       "      <td>4.0</td>\n",
       "      <td>5.0</td>\n",
       "      <td>4</td>\n",
       "      <td>5</td>\n",
       "      <td>4</td>\n",
       "      <td>3.0</td>\n",
       "      <td>4.0</td>\n",
       "      <td>3.0</td>\n",
       "      <td>4.0</td>\n",
       "      <td>3.0</td>\n",
       "      <td>4</td>\n",
       "      <td>4.0</td>\n",
       "      <td>4</td>\n",
       "      <td>2.0</td>\n",
       "      <td>4.0</td>\n",
       "      <td>3</td>\n",
       "      <td>3.0</td>\n",
       "      <td>4.0</td>\n",
       "      <td>4.0</td>\n",
       "      <td>3.0</td>\n",
       "      <td>4.0</td>\n",
       "      <td>5</td>\n",
       "      <td>3</td>\n",
       "    </tr>\n",
       "    <tr>\n",
       "      <th>Hallie</th>\n",
       "      <td>NaN</td>\n",
       "      <td>NaN</td>\n",
       "      <td>NaN</td>\n",
       "      <td>3</td>\n",
       "      <td>5</td>\n",
       "      <td>3</td>\n",
       "      <td>NaN</td>\n",
       "      <td>NaN</td>\n",
       "      <td>NaN</td>\n",
       "      <td>NaN</td>\n",
       "      <td>NaN</td>\n",
       "      <td>3</td>\n",
       "      <td>NaN</td>\n",
       "      <td>5</td>\n",
       "      <td>NaN</td>\n",
       "      <td>NaN</td>\n",
       "      <td>4</td>\n",
       "      <td>NaN</td>\n",
       "      <td>NaN</td>\n",
       "      <td>NaN</td>\n",
       "      <td>NaN</td>\n",
       "      <td>NaN</td>\n",
       "      <td>2</td>\n",
       "      <td>4</td>\n",
       "    </tr>\n",
       "  </tbody>\n",
       "</table>"
      ],
      "text/plain": [
       "<IPython.core.display.HTML object>"
      ]
     },
     "metadata": {},
     "output_type": "display_data"
    }
   ],
   "source": [
    "from IPython.display import display, HTML\n",
    "display(HTML(ratings.to_html()))"
   ]
  },
  {
   "cell_type": "code",
   "execution_count": 4,
   "metadata": {},
   "outputs": [
    {
     "data": {
      "text/plain": [
       "<AxesSubplot:ylabel='First Name (or Alias)'>"
      ]
     },
     "execution_count": 4,
     "metadata": {},
     "output_type": "execute_result"
    },
    {
     "data": {
      "image/png": "[encoded data removed]",
      "text/plain": [
       "<Figure size 864x648 with 2 Axes>"
      ]
     },
     "metadata": {
      "needs_background": "light"
     },
     "output_type": "display_data"
    }
   ],
   "source": [
    "#Ajustamos y ploteamos un mapa de calor para observar los resultados hasta aquí\n",
    "import matplotlib.pyplot as plt\n",
    "plt.figure(figsize=(12, 9))\n",
    "ratings=ratings.fillna(3)\n",
    "sns.heatmap(ratings, annot=True)"
   ]
  },
  {
   "cell_type": "code",
   "execution_count": 5,
   "metadata": {},
   "outputs": [],
   "source": [
    "#Utilizo esta función euclidiana del sistema para calcular la similitud entre los usuarios\n",
    "def eDistance(person1,person2):\n",
    "  distance = euclidean(person1,person2)\n",
    "  return distance"
   ]
  },
  {
   "cell_type": "code",
   "execution_count": 6,
   "metadata": {},
   "outputs": [],
   "source": [
    "#Definir función para calcular similitud entre personas\n",
    "def most_similar_to(name):\n",
    "  person = ratings.loc[name]\n",
    "  closest_distance=float('inf')\n",
    "  closest_person=''\n",
    "  for other_person in ratings.itertuples():\n",
    "    if other_person.Index==name:\n",
    "      # don't compare a person to themself\n",
    "      continue\n",
    "    distance_to_other_person = eDistance(person,ratings.loc[other_person.Index])\n",
    "    #print(distance_to_other_person)\n",
    "    if distance_to_other_person < closest_distance:\n",
    "       # new high score! save it\n",
    "       closest_distance = distance_to_other_person\n",
    "       closest_person = other_person.Index\n",
    "  return closest_person, closest_distance"
   ]
  },
  {
   "cell_type": "code",
   "execution_count": 13,
   "metadata": {},
   "outputs": [
    {
     "name": "stdout",
     "output_type": "stream",
     "text": [
      "Nick es más similar a Joe con una distancia de 6.6332495807108\n"
     ]
    }
   ],
   "source": [
    "#Introduzca entre las comillas, el nombre de la persona a la que que quiere encontrar el mas similar\n",
    "#Las opciones son Hallie, Jack, Joe, Megan, Trevor, Jules, Jubilee y Nick\n",
    "\n",
    "name='Nick'\n",
    "closest_person, closest_distance = most_similar_to(name)\n",
    "print(name,\"es más similar a\",closest_person,\"con una distancia de\",closest_distance)"
   ]
  },
  {
   "cell_type": "code",
   "execution_count": 7,
   "metadata": {},
   "outputs": [],
   "source": [
    "#Devuelvo la función con los ítems o canciones más preferidas por el usuario\n",
    "def preferred_items(name):\n",
    "    person = ratings.loc[name]\n",
    "    preferred_items = person[person==5].index.values\n",
    "    return preferred_items"
   ]
  },
  {
   "cell_type": "code",
   "execution_count": 14,
   "metadata": {},
   "outputs": [
    {
     "name": "stdout",
     "output_type": "stream",
     "text": [
      "Las canciones preferidas de Joe son:\n",
      " ['Sunflower (Post Malone and Swae Lee)' 'Rolling in the Deep (Adele)'\n",
      " 'Old Town Road - Remix (Lil Nas X and Billy Ray Cyrus)']\n"
     ]
    },
    {
     "ename": "",
     "evalue": "",
     "output_type": "error",
     "traceback": [
      "\u001b[1;31mEl Kernel se bloqueó al ejecutar código en la celda actual o en una celda anterior. Revise el código de las celdas para identificar una posible causa del error. Haga clic <a href='https://aka.ms/vscodeJupyterKernelCrash'>aquí</a> para obtener más información. Vea el [registro] de Jupyter (command:jupyter.viewOutput) para obtener más detalles."
     ]
    }
   ],
   "source": [
    "#Introduzca entre las comillas, el nombre de la persona a la que que quiere encontrar sus canciones preferidas\n",
    "#Los usuarios son Hallie, Jack, Joe, Megan, Trevor, Jules, Jubilee y Nick\n",
    "\n",
    "name='Joe'\n",
    "recommended_items = preferred_items(closest_person)\n",
    "print(\"Las canciones preferidas de\",name,\"son:\\n\",recommended_items)"
   ]
  },
  {
   "cell_type": "code",
   "execution_count": 8,
   "metadata": {},
   "outputs": [
    {
     "name": "stdout",
     "output_type": "stream",
     "text": [
      "Jules es más similar a Megan con una distancia de 4.69041575982343\n",
      "Las canciones preferidas de Jules son:\n",
      " ['One Dance (Drake)' 'Wake Me Up (Avicii)' 'bad guy (Billie Eilish)'\n",
      " 'Rather Be (Clean Bandit and Jess Glynne)'\n",
      " 'Radioactive (Imagine Dragons)' 'Never Really Over (Katy Perry)']\n"
     ]
    }
   ],
   "source": [
    "#Introduzca entre las comillas, el nombre de la persona a la que que quiere encontrar su usuario más similar\n",
    "#y sus canciones preferidas\n",
    "#Los usuarios posibles son Hallie, Jack, Joe, Megan, Trevor, Jules, Jubilee y Nick\n",
    "\n",
    "name='Jules'\n",
    "closest_person, closest_distance = most_similar_to(name)\n",
    "recommended_items = preferred_items(closest_person)\n",
    "print(name,\"es más similar a\",closest_person,\"con una distancia de\",closest_distance)\n",
    "print(\"Las canciones preferidas de\",name,\"son:\\n\",recommended_items)"
   ]
  },
  {
   "cell_type": "code",
   "execution_count": 9,
   "metadata": {},
   "outputs": [],
   "source": [
    "#Metodo para encontrar el item mas similiar a otro\n",
    "def most_similar_item_to(item):\n",
    "    item = ratings.loc[:,item_name]\n",
    "    closest_distance=float('inf')\n",
    "    closest_item=''\n",
    "    for column in ratings:\n",
    "        if column==item_name:\n",
    "            continue   \n",
    "        distance_to_other_item = eDistance(item,ratings.loc[:,column])\n",
    "        if distance_to_other_item < closest_distance:\n",
    "         closest_distance = distance_to_other_item\n",
    "         closest_item = column\n",
    "    return closest_item, closest_distance"
   ]
  },
  {
   "cell_type": "code",
   "execution_count": 10,
   "metadata": {},
   "outputs": [
    {
     "name": "stdout",
     "output_type": "stream",
     "text": [
      "Lean On (Major Lazer) es muy similar a ('bad guy (Billie Eilish)', 2.0)\n"
     ]
    }
   ],
   "source": [
    "#Tema preferido de Hallie\n",
    "item_name = \"Lean On (Major Lazer)\"\n",
    "closest_item  = most_similar_item_to(item_name)\n",
    "print(item_name,\"es muy similar a\",closest_item)"
   ]
  },
  {
   "cell_type": "code",
   "execution_count": 11,
   "metadata": {},
   "outputs": [
    {
     "name": "stdout",
     "output_type": "stream",
     "text": [
      "Rolling in the Deep (Adele) es muy similar a ('Lean On (Major Lazer)', 2.8284271247461903)\n"
     ]
    }
   ],
   "source": [
    "#Tema preferido de Hallie\n",
    "item_name = \"Rolling in the Deep (Adele)\"\n",
    "closest_item  = most_similar_item_to(item_name)\n",
    "print(item_name,\"es muy similar a\",closest_item)\n"
   ]
  },
  {
   "cell_type": "code",
   "execution_count": 12,
   "metadata": {},
   "outputs": [
    {
     "data": {
      "text/plain": [
       "<AxesSubplot:ylabel='First Name (or Alias)'>"
      ]
     },
     "execution_count": 12,
     "metadata": {},
     "output_type": "execute_result"
    },
    {
     "data": {
      "image/png": "[encoded data removed]",
      "text/plain": [
       "<Figure size 864x648 with 2 Axes>"
      ]
     },
     "metadata": {
      "needs_background": "light"
     },
     "output_type": "display_data"
    }
   ],
   "source": [
    "tema1 = ratings.loc[:,\"Rolling in the Deep (Adele)\"]\n",
    "tema2 = ratings.loc[:,\"Never Really Over (Katy Perry)\"]\n",
    "plt.figure(figsize=(12, 9))\n",
    "comparativo = pd.concat([tema1, tema2], axis=1)\n",
    "sns.heatmap(comparativo, annot=True)"
   ]
  }
 ],
 "metadata": {
  "kernelspec": {
   "display_name": "Python 3.6.5 32-bit",
   "language": "python",
   "name": "python3"
  },
  "language_info": {
   "codemirror_mode": {
    "name": "ipython",
    "version": 3
   },
   "file_extension": ".py",
   "mimetype": "text/x-python",
   "name": "python",
   "nbconvert_exporter": "python",
   "pygments_lexer": "ipython3",
   "version": "3.6.5"
  },
  "orig_nbformat": 4,
  "vscode": {
   "interpreter": {
    "hash": "43b119962622a055f7f17cb51cbc39f144b651538889cfff7ccea34a1bb9c3f1"
   }
  }
 },
 "nbformat": 4,
 "nbformat_minor": 2
}
