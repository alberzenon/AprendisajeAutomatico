{
 "cells": [
  {
   "cell_type": "code",
   "execution_count": 11,
   "metadata": {},
   "outputs": [],
   "source": [
    "from os.path import dirname, join as pjoin\n",
    "from scipy.io import wavfile\n",
    "import scipy.io"
   ]
  },
  {
   "cell_type": "code",
   "execution_count": 12,
   "metadata": {},
   "outputs": [
    {
     "ename": "ValueError",
     "evalue": "max() arg is an empty sequence",
     "output_type": "error",
     "traceback": [
      "\u001b[1;31m---------------------------------------------------------------------------\u001b[0m",
      "\u001b[1;31mValueError\u001b[0m                                Traceback (most recent call last)",
      "\u001b[1;32m<ipython-input-12-21808767f888>\u001b[0m in \u001b[0;36m<module>\u001b[1;34m\u001b[0m\n\u001b[0;32m      9\u001b[0m \u001b[1;31m# get a different part of the noise clip for calculating statistics\u001b[0m\u001b[1;33m\u001b[0m\u001b[1;33m\u001b[0m\u001b[0m\n\u001b[0;32m     10\u001b[0m \u001b[0mnoise_clip\u001b[0m \u001b[1;33m=\u001b[0m \u001b[0mnoise_data\u001b[0m\u001b[1;33m[\u001b[0m\u001b[1;33m:\u001b[0m \u001b[0mlen\u001b[0m\u001b[1;33m(\u001b[0m\u001b[0msrc_data\u001b[0m\u001b[1;33m)\u001b[0m\u001b[1;33m]\u001b[0m\u001b[1;33m\u001b[0m\u001b[0m\n\u001b[1;32m---> 11\u001b[1;33m \u001b[0mnoise_clip\u001b[0m \u001b[1;33m=\u001b[0m \u001b[0mnoise_clip\u001b[0m \u001b[1;33m/\u001b[0m \u001b[0mmax\u001b[0m\u001b[1;33m(\u001b[0m\u001b[0mnoise_to_add\u001b[0m\u001b[1;33m)\u001b[0m\u001b[1;33m\u001b[0m\u001b[0m\n\u001b[0m\u001b[0;32m     12\u001b[0m \u001b[0mnoise_to_add\u001b[0m \u001b[1;33m=\u001b[0m \u001b[0mnoise_to_add\u001b[0m \u001b[1;33m/\u001b[0m \u001b[0mmax\u001b[0m\u001b[1;33m(\u001b[0m\u001b[0mnoise_to_add\u001b[0m\u001b[1;33m)\u001b[0m\u001b[1;33m\u001b[0m\u001b[0m\n\u001b[0;32m     13\u001b[0m \u001b[1;31m# apply noise\u001b[0m\u001b[1;33m\u001b[0m\u001b[1;33m\u001b[0m\u001b[0m\n",
      "\u001b[1;31mValueError\u001b[0m: max() arg is an empty sequence"
     ]
    }
   ],
   "source": [
    "wav_loc = \"C:/Prueba/Audio1.wav\"\n",
    "src_rate, src_data = wavfile.read(wav_loc)\n",
    "# src_data = np.concatenate((src_data, np.zeros(src_rate*3)))\n",
    "src_data = src_data / 32768\n",
    "wav_loc = \"C:/Prueba/Audio1.wav\"\n",
    "noise_rate, noise_data = wavfile.read(wav_loc)\n",
    "# get some noise to add to the signal\n",
    "noise_to_add = noise_data[len(src_data) : len(src_data) * 2]\n",
    "# get a different part of the noise clip for calculating statistics\n",
    "noise_clip = noise_data[: len(src_data)]\n",
    "noise_clip = noise_clip / max(noise_to_add)\n",
    "noise_to_add = noise_to_add / max(noise_to_add)\n",
    "# apply noise\n",
    "snr = 1  # signal to noise ratio\n",
    "audio_clip_cafe = src_data + noise_to_add / snr\n",
    "noise_clip = noise_clip / snr\n",
    "fig, ax = plt.subplots(figsize=(20, 4))\n",
    "ax.plot(noise_clip)\n",
    "IPython.display.Audio(data=noise_clip, rate=src_rate)"
   ]
  }
 ],
 "metadata": {
  "kernelspec": {
   "display_name": "Python 3.6.5 32-bit",
   "language": "python",
   "name": "python3"
  },
  "language_info": {
   "codemirror_mode": {
    "name": "ipython",
    "version": 3
   },
   "file_extension": ".py",
   "mimetype": "text/x-python",
   "name": "python",
   "nbconvert_exporter": "python",
   "pygments_lexer": "ipython3",
   "version": "3.6.5"
  },
  "orig_nbformat": 4,
  "vscode": {
   "interpreter": {
    "hash": "43b119962622a055f7f17cb51cbc39f144b651538889cfff7ccea34a1bb9c3f1"
   }
  }
 },
 "nbformat": 4,
 "nbformat_minor": 2
}
