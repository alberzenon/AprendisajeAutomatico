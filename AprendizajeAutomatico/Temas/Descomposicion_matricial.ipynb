{
  "nbformat": 4,
  "nbformat_minor": 0,
  "metadata": {
    "colab": {
      "name": "Descomposicion_matricial.ipynb",
      "provenance": []
    },
    "kernelspec": {
      "name": "python3",
      "display_name": "Python 3"
    },
    "language_info": {
      "name": "python"
    }
  },
  "cells": [
    {
      "cell_type": "code",
      "metadata": {
        "id": "iuEJVRjfIl--"
      },
      "source": [
        "import numpy as np\n",
        "import numpy.linalg as npl"
      ],
      "execution_count": null,
      "outputs": []
    },
    {
      "cell_type": "code",
      "metadata": {
        "colab": {
          "base_uri": "https://localhost:8080/"
        },
        "id": "9EyktnsUI1Iq",
        "outputId": "ad5f2cbb-3e5a-4e85-edf4-bc5d458b36fa"
      },
      "source": [
        "matriz_A = np.array([[1,6,8],[3,2,-9] ,[0,4,3]])\n",
        "determinante_matriz_A = npl.det(matriz_A)\n",
        "print(determinante_matriz_A)"
      ],
      "execution_count": null,
      "outputs": [
        {
          "output_type": "stream",
          "name": "stdout",
          "text": [
            "84.00000000000006\n"
          ]
        }
      ]
    },
    {
      "cell_type": "code",
      "metadata": {
        "colab": {
          "base_uri": "https://localhost:8080/"
        },
        "id": "t-QbexPTMTIZ",
        "outputId": "493774cf-e039-40ea-c04a-1e6112441bce"
      },
      "source": [
        "rango = npl.matrix_rank(matriz_A)\n",
        "print(rango)"
      ],
      "execution_count": null,
      "outputs": [
        {
          "output_type": "stream",
          "name": "stdout",
          "text": [
            "3\n"
          ]
        }
      ]
    },
    {
      "cell_type": "code",
      "metadata": {
        "colab": {
          "base_uri": "https://localhost:8080/"
        },
        "id": "R4fN5p18NRWe",
        "outputId": "367715cf-e727-4290-d9e8-2e0207d2476f"
      },
      "source": [
        "np.trace(matriz_A)"
      ],
      "execution_count": null,
      "outputs": [
        {
          "output_type": "execute_result",
          "data": {
            "text/plain": [
              "6"
            ]
          },
          "metadata": {},
          "execution_count": 4
        }
      ]
    },
    {
      "cell_type": "code",
      "metadata": {
        "colab": {
          "base_uri": "https://localhost:8080/"
        },
        "id": "9rBPJXQmWd9q",
        "outputId": "23436f08-aece-46cb-cbd9-1e58d6fe64ff"
      },
      "source": [
        "matriz_ejemplo = np.array([[4,2],[1,3]])\n",
        "print(matriz_ejemplo)"
      ],
      "execution_count": null,
      "outputs": [
        {
          "output_type": "stream",
          "name": "stdout",
          "text": [
            "[[4 2]\n",
            " [1 3]]\n"
          ]
        }
      ]
    },
    {
      "cell_type": "code",
      "metadata": {
        "colab": {
          "base_uri": "https://localhost:8080/"
        },
        "id": "Jxj6Or8MVpW3",
        "outputId": "7698ca04-9422-4941-9b1f-3a9c5690ed40"
      },
      "source": [
        "coeff = np.poly(matriz_ejemplo)\n",
        "print(coeff)"
      ],
      "execution_count": null,
      "outputs": [
        {
          "output_type": "stream",
          "name": "stdout",
          "text": [
            "[ 1. -7. 10.]\n"
          ]
        }
      ]
    },
    {
      "cell_type": "code",
      "metadata": {
        "colab": {
          "base_uri": "https://localhost:8080/"
        },
        "id": "ljKbyEwNjUET",
        "outputId": "2acb96d6-1d17-44f2-fe38-abd1c9478596"
      },
      "source": [
        "raices = np.roots(coeff)\n",
        "print(raices)"
      ],
      "execution_count": null,
      "outputs": [
        {
          "output_type": "stream",
          "name": "stdout",
          "text": [
            "[5. 2.]\n"
          ]
        }
      ]
    },
    {
      "cell_type": "code",
      "metadata": {
        "colab": {
          "base_uri": "https://localhost:8080/"
        },
        "id": "CABWlypqEc5A",
        "outputId": "5cb58986-8b67-41ed-e6cd-88c03d9f44c9"
      },
      "source": [
        "resultados = npl.eig(matriz_ejemplo)\n",
        "print(resultados)"
      ],
      "execution_count": null,
      "outputs": [
        {
          "output_type": "stream",
          "name": "stdout",
          "text": [
            "(array([5., 2.]), array([[ 0.89442719, -0.70710678],\n",
            "       [ 0.4472136 ,  0.70710678]]))\n"
          ]
        }
      ]
    },
    {
      "cell_type": "code",
      "metadata": {
        "colab": {
          "base_uri": "https://localhost:8080/"
        },
        "id": "xqr68k3-jptN",
        "outputId": "c6e8d18f-c654-4488-d1ee-4648138485fa"
      },
      "source": [
        "autovector_1= npl.eig(matriz_ejemplo)[1][:,1]\n",
        "autovector_2= npl.eig(matriz_ejemplo)[1][:,0]\n",
        "print(autovector_1)\n",
        "print(autovector_2)"
      ],
      "execution_count": null,
      "outputs": [
        {
          "output_type": "stream",
          "name": "stdout",
          "text": [
            "[-0.70710678  0.70710678]\n",
            "[0.89442719 0.4472136 ]\n"
          ]
        }
      ]
    },
    {
      "cell_type": "code",
      "metadata": {
        "id": "WZQ_QA4Mx1QM"
      },
      "source": [
        "import matplotlib.pyplot as plt"
      ],
      "execution_count": null,
      "outputs": []
    },
    {
      "cell_type": "code",
      "metadata": {
        "colab": {
          "base_uri": "https://localhost:8080/",
          "height": 265
        },
        "id": "scrlAV2Qx4ks",
        "outputId": "9431b8bc-aa58-4a3e-cda1-dc02fc4a0e12"
      },
      "source": [
        "# Figure setup.\n",
        "fig = plt.figure()\n",
        "ax = fig.add_subplot(111)\n",
        "scale = 10\n",
        "origin2D = np.vstack([0,0])\n",
        "plt.axis([-scale/2,scale/2,-scale/2,scale/2])\n",
        "#plt.title(\"Vectores Originales  y autovectores generados.\")\n",
        "plt.quiver(*origin2D,*matriz_ejemplo[:,0],scale=scale, label='Vectores Originales')\n",
        "plt.quiver(*origin2D,*matriz_ejemplo[:,1],scale=scale)\n",
        "# Figure setup.\n",
        "\n",
        "\n",
        "# Eigenvectors.\n",
        "\n",
        "plt.quiver(*origin2D, *(autovector_1*5), scale=scale,color=\"gold\", label='Autovectores')\n",
        "plt.quiver(*origin2D, *(autovector_2*2), scale=scale,color=\"gold\")\n",
        "#plt.quiver(*origin2D, *eigenvalueVec(lam1)[:,1], scale=scale,color=\"gold\")\n",
        "#plt.quiver(*origin2D, *eigenvalueVec(lam2)[:,0], scale=scale,color=\"lightblue\")\n",
        "#plt.quiver(*origin2D, *eigenvalueVec(lam2)[:,1], scale=scale,color=\"lightblue\")\n",
        "# Eigenvectors.\n",
        "\n",
        "\n",
        "\n",
        "ax.set_aspect('equal', adjustable='box')\n",
        "plt.legend();"
      ],
      "execution_count": null,
      "outputs": [
        {
          "output_type": "display_data",
          "data": {
            "text/plain": [
              "<Figure size 432x288 with 1 Axes>"
            ],
            "image/png": "[encoded data removed]"
          },
          "metadata": {
            "needs_background": "light"
          }
        }
      ]
    }
  ]
}