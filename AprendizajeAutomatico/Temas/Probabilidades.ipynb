{
  "nbformat": 4,
  "nbformat_minor": 0,
  "metadata": {
    "colab": {
      "name": "Probabilidades.ipynb",
      "provenance": [],
      "collapsed_sections": []
    },
    "kernelspec": {
      "name": "python3",
      "display_name": "Python 3"
    },
    "language_info": {
      "name": "python"
    }
  },
  "cells": [
    {
      "cell_type": "code",
      "metadata": {
        "id": "PpG1gJPKRj7-"
      },
      "source": [
        "import numpy as np\n",
        "import matplotlib.pyplot as plt\n",
        "import seaborn as sns"
      ],
      "execution_count": null,
      "outputs": []
    },
    {
      "cell_type": "markdown",
      "source": [
        "## Problema de Ejemplo\n",
        "Supongamos que tenemos dos cestos, uno rojo y otro azul. Dentro de cada cesto se encuentran tomates y papas. En el cesto rojo hay 3 tomates y 1 papa, mientras que en el esto azul se localizan 2 tomates y 6 papas. El experimento consiste en seleccionar aleatoriamente unos de los cestos (primera variable aleatoria), y después seleccionar uno de los elementos de su interior de manera igualmente aleatoria (segunda variable aleatoria). \n",
        "\n",
        "Supongamos que cada cesto se vuelve a completar con el elemento retirado de manera inmediata, por lo cual, cada vez que se vaya a extraer un objeto de su interior las condiciones iniciales se mantendrán exactamente iguales. Después de ejecutar este experimento un número considerable de veces se puede obtener como dato que las probabilidades de seleccionar el cesto rojo son del 40%, mientras que, existe una preferencia por el cesto azul con una probabilidad de opción del 60%."
      ],
      "metadata": {
        "id": "Ne9KK5CamdNO"
      }
    },
    {
      "cell_type": "markdown",
      "source": [
        "En este caso el valor 0 representa los tomates y el valor 1, las papas "
      ],
      "metadata": {
        "id": "K4fyv7RaUoyb"
      }
    },
    {
      "cell_type": "code",
      "metadata": {
        "id": "S3ZLjoY3Rvk3"
      },
      "source": [
        "cesto_azul = np.array([0,0,0,1])\n",
        "cesto_rojo = np.array([0,0,1,1,1,1,1,1])"
      ],
      "execution_count": null,
      "outputs": []
    },
    {
      "cell_type": "code",
      "metadata": {
        "id": "bqAxXuspSRPM"
      },
      "source": [
        "P_cesto_rojo = 0.4\n",
        "P_cesto_azul = 0.6"
      ],
      "execution_count": null,
      "outputs": []
    },
    {
      "cell_type": "code",
      "metadata": {
        "id": "_ImZy9vYSW5J"
      },
      "source": [
        "def probabilidad_elemento(elemento, cesto):\n",
        "  valores, cantidades = np.unique(cesto, return_counts=True)\n",
        "  proba_marginal = cantidades/cesto.size\n",
        "  \n",
        "  for v in valores:\n",
        "    if v == elemento:\n",
        "      return proba_marginal[v]\n",
        "\n",
        "\n"
      ],
      "execution_count": null,
      "outputs": []
    },
    {
      "cell_type": "code",
      "metadata": {
        "colab": {
          "base_uri": "https://localhost:8080/"
        },
        "id": "jyZKGCQOBke6",
        "outputId": "7c5a20c0-c39d-440f-b8bd-c77cd467516e"
      },
      "source": [
        "print(probabilidad_elemento(0, cesto_rojo))\n",
        "print(probabilidad_elemento(0, cesto_azul))"
      ],
      "execution_count": null,
      "outputs": [
        {
          "output_type": "stream",
          "name": "stdout",
          "text": [
            "0.25\n",
            "0.75\n"
          ]
        }
      ]
    },
    {
      "cell_type": "code",
      "metadata": {
        "id": "hwxUMIxsTk0R"
      },
      "source": [
        "def probabilidad_marginal(elemento,cesto_1,P_cesto_1,cesto_2,P_cesto_2):\n",
        "  probabilidad_cesto_1 =probabilidad_elemento(elemento,cesto_1)*P_cesto_1\n",
        "  probabilidad_cesto_2 =probabilidad_elemento(elemento,cesto_2)*P_cesto_2\n",
        "  prob_marginal = probabilidad_cesto_1 + probabilidad_cesto_2\n",
        "  return prob_marginal"
      ],
      "execution_count": null,
      "outputs": []
    },
    {
      "cell_type": "code",
      "metadata": {
        "colab": {
          "base_uri": "https://localhost:8080/"
        },
        "id": "inYA-dv0UtaK",
        "outputId": "0abf8cda-4fe5-4765-d751-c7ad13f2d4df"
      },
      "source": [
        "pm0 = probabilidad_marginal(0,cesto_rojo,P_cesto_rojo,cesto_azul,P_cesto_azul)\n",
        "pm1 = probabilidad_marginal(1,cesto_rojo,P_cesto_rojo,cesto_azul,P_cesto_azul)\n",
        "print(pm0)\n",
        "print(pm1)"
      ],
      "execution_count": null,
      "outputs": [
        {
          "output_type": "stream",
          "name": "stdout",
          "text": [
            "0.5499999999999999\n",
            "0.45000000000000007\n"
          ]
        }
      ]
    },
    {
      "cell_type": "code",
      "metadata": {
        "id": "MXWkE-kPVDnJ"
      },
      "source": [
        "def probabilidad_condicional(elemento,cesto):\n",
        "  prob_conjunta = probabilidad_elemento(elemento,cesto)\n",
        "  return prob_conjunta"
      ],
      "execution_count": null,
      "outputs": []
    },
    {
      "cell_type": "code",
      "metadata": {
        "colab": {
          "base_uri": "https://localhost:8080/"
        },
        "id": "HHsC0HgxVbIB",
        "outputId": "25df6c02-4957-4ea2-b0ad-a40a47245c0e"
      },
      "source": [
        "probabilidad_condicional(1,cesto_azul)"
      ],
      "execution_count": null,
      "outputs": [
        {
          "output_type": "execute_result",
          "data": {
            "text/plain": [
              "0.25"
            ]
          },
          "metadata": {},
          "execution_count": 22
        }
      ]
    },
    {
      "cell_type": "code",
      "metadata": {
        "id": "piOMFt2QHGYK"
      },
      "source": [
        "def probabilidad_conjunta(P_elemento, P_cesto):\n",
        "  prob_conjunta =  P_elemento*P_cesto\n",
        "  return prob_conjunta"
      ],
      "execution_count": null,
      "outputs": []
    },
    {
      "cell_type": "code",
      "metadata": {
        "colab": {
          "base_uri": "https://localhost:8080/"
        },
        "id": "Fh5SS3JBHiDQ",
        "outputId": "62cb2729-8e90-45ad-88c6-e862a19c2d36"
      },
      "source": [
        "probabilidad_conjunta(0.25,0.6)"
      ],
      "execution_count": null,
      "outputs": [
        {
          "output_type": "execute_result",
          "data": {
            "text/plain": [
              "0.15"
            ]
          },
          "metadata": {},
          "execution_count": 24
        }
      ]
    },
    {
      "cell_type": "markdown",
      "source": [
        "$$ P(c \\vert x) = \\frac{P(x \\vert c)P(c)}{P(x)} $$"
      ],
      "metadata": {
        "id": "1HVQShw2uGeT"
      }
    },
    {
      "cell_type": "code",
      "metadata": {
        "id": "RJr1QBajVxEX"
      },
      "source": [
        "def bayes(elemento, cesto, P_cesto, probabilidad_marginal_elemento):\n",
        "  #print(probabilidad_condicional(elemento,cesto))\n",
        "  #print(P_cesto)\n",
        "  #print(probabilidad_marginal_elemento)\n",
        "  prob_posterior = probabilidad_condicional(elemento,cesto)* P_cesto/probabilidad_marginal_elemento\n",
        "  return prob_posterior"
      ],
      "execution_count": null,
      "outputs": []
    },
    {
      "cell_type": "code",
      "metadata": {
        "colab": {
          "base_uri": "https://localhost:8080/"
        },
        "id": "__DRux7wXdfR",
        "outputId": "03ee3c15-09f2-49c5-af72-e5b6a133dce7"
      },
      "source": [
        "bayes(0,cesto_rojo,P_cesto_rojo,pm0)"
      ],
      "execution_count": null,
      "outputs": [
        {
          "output_type": "execute_result",
          "data": {
            "text/plain": [
              "0.18181818181818185"
            ]
          },
          "metadata": {},
          "execution_count": 19
        }
      ]
    },
    {
      "cell_type": "markdown",
      "source": [
        "## Ejercicio de la Actividad 3"
      ],
      "metadata": {
        "id": "UvFGKqM6nTsg"
      }
    },
    {
      "cell_type": "markdown",
      "source": [
        "*Los dispositivos electrónicos que se construían a base de transistores en la década de 1990 presentaban dos tipos de fallas principales: la fuente de alimentación y el circuito principal (tarjeta principal). Según las estadísticas de esa época un taller promedio recibía de manera mensual un 30% de equipos con afectaciones en la fuente de alimentación y la efectividad de la   reparación de un equipo era de un 75% si la falla estaba localizada en el circuito principal y de un 20% si el defecto se encontraba en la fuente.* \n",
        "\n",
        "\n",
        "\n",
        "1.  *Calcule la probabilidad de que un equipo que no tuviera reparación hubiera ingresado al taller por problemas en la tarjeta principal.*\n",
        "\n",
        "\n"
      ],
      "metadata": {
        "id": "fTwjJqMunZFm"
      }
    },
    {
      "cell_type": "markdown",
      "source": [
        "## Lanzamiento de dados"
      ],
      "metadata": {
        "id": "GmURx-Px6gc5"
      }
    },
    {
      "cell_type": "code",
      "metadata": {
        "id": "zGy35NPhMDvq"
      },
      "source": [
        "dados = np.random.randint(1,7,12)"
      ],
      "execution_count": null,
      "outputs": []
    },
    {
      "cell_type": "code",
      "metadata": {
        "colab": {
          "base_uri": "https://localhost:8080/",
          "height": 283
        },
        "id": "hLOUr-dtMQ8Q",
        "outputId": "c596e8da-cf5d-4f03-cf11-6a04df8fac7e"
      },
      "source": [
        "val, conteo = np.unique(dados, return_counts=True)\n",
        "plt.stem(val, conteo/len(dados), basefmt=\"C2-\", use_line_collection=True)"
      ],
      "execution_count": null,
      "outputs": [
        {
          "output_type": "execute_result",
          "data": {
            "text/plain": [
              "<StemContainer object of 3 artists>"
            ]
          },
          "metadata": {},
          "execution_count": 27
        },
        {
          "output_type": "display_data",
          "data": {
            "text/plain": [
              "<Figure size 432x288 with 1 Axes>"
            ],
            "image/png": "[encoded data removed]"
          },
          "metadata": {
            "needs_background": "light"
          }
        }
      ]
    },
    {
      "cell_type": "code",
      "metadata": {
        "colab": {
          "base_uri": "https://localhost:8080/",
          "height": 369
        },
        "id": "CT1ef6_hOXVh",
        "outputId": "37aca80f-5c3e-4fb9-96b1-cdb11836be19"
      },
      "source": [
        "x = \n",
        "\n",
        "sns.displot(x)\n",
        "plt.show()"
      ],
      "execution_count": null,
      "outputs": [
        {
          "output_type": "display_data",
          "data": {
            "image/png": "[encoded data removed]",
            "text/plain": [
              "<Figure size 360x360 with 1 Axes>"
            ]
          },
          "metadata": {
            "tags": [],
            "needs_background": "light"
          }
        }
      ]
    },
    {
      "cell_type": "code",
      "metadata": {
        "colab": {
          "base_uri": "https://localhost:8080/",
          "height": 324
        },
        "id": "tM-yMouvPSKC",
        "outputId": "bb284cd6-4cc2-44e0-98b9-6d3bb93ba7cc"
      },
      "source": [
        "sns.set_theme(); np.random.seed(0)\n",
        "x = np.random.uniform(0,1,100000)\n",
        "ax = sns.distplot(x)"
      ],
      "execution_count": null,
      "outputs": [
        {
          "output_type": "stream",
          "text": [
            "/usr/local/lib/python3.7/dist-packages/seaborn/distributions.py:2557: FutureWarning: `distplot` is a deprecated function and will be removed in a future version. Please adapt your code to use either `displot` (a figure-level function with similar flexibility) or `histplot` (an axes-level function for histograms).\n",
            "  warnings.warn(msg, FutureWarning)\n"
          ],
          "name": "stderr"
        },
        {
          "output_type": "display_data",
          "data": {
            "image/png": "[encoded data removed]",
            "text/plain": [
              "<Figure size 432x288 with 1 Axes>"
            ]
          },
          "metadata": {
            "tags": []
          }
        }
      ]
    }
  ]
}