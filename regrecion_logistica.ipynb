{
  "nbformat": 4,
  "nbformat_minor": 0,
  "metadata": {
    "colab": {
      "name": "regrecion_logistica.ipynb",
      "provenance": [],
      "authorship_tag": "ABX9TyPot2oB0hAShz3Z83FdgCw2",
      "include_colab_link": true
    },
    "kernelspec": {
      "name": "python3",
      "display_name": "Python 3"
    },
    "language_info": {
      "name": "python"
    }
  },
  "cells": [
    {
      "cell_type": "markdown",
      "metadata": {
        "id": "view-in-github",
        "colab_type": "text"
      },
      "source": [
        "<a href=\"https://colab.research.google.com/github/alberzenon/AprendizajeAutomatico/blob/main/regrecion_logistica.ipynb\" target=\"_parent\"><img src=\"https://colab.research.google.com/assets/colab-badge.svg\" alt=\"Open In Colab\"/></a>"
      ]
    },
    {
      "cell_type": "markdown",
      "source": [
        "La regresión logística es uno de los métodos de aprendizaje automático que se utiliza para resolver problemas de clasificación binaria de una manera muy eficiente. Identifica una situación real (centro laboral, negocio, hogar) de la cual puedas adquirir una cantidad considerable de datos y que represente una problemática de clasificación binaria, por ejemplo: (0/1), (si/no), (continuar/detener), entre otras. Elabora un programa en Python donde, a partir del análisis previo del comportamiento de los datos, puedas elaborar un modelo capaz de predecir el resultado adecuado para nuevas condiciones que se pudieran presentar."
      ],
      "metadata": {
        "id": "15N70oxQot1W"
      }
    },
    {
      "cell_type": "code",
      "source": [
        "# Paso 1: importamos la librería numérica NumPy\n",
        "import numpy as np\n",
        "\n"
      ],
      "metadata": {
        "id": "ROMqVt0EogZS"
      },
      "execution_count": 6,
      "outputs": []
    },
    {
      "cell_type": "code",
      "source": [
        "# Paso 2: preparamos los datos\n",
        "X = np.array([0.5, 0.75, 1, 1.25, 1.5, 1.75, 1.75, 2, 2.25, 2.5, 2.75, 3, 3.25, 3.5, 4, 4.25, 4.5, 4.75, 5, 5.5]).reshape(-1,1)\n",
        "y = np.array([0, 0, 0, 0, 0, 0, 1, 0, 1, 0, 1, 0, 1, 0, 1, 1, 1, 1, 1, 1])"
      ],
      "metadata": {
        "id": "nG46oPMiohll"
      },
      "execution_count": 7,
      "outputs": []
    },
    {
      "cell_type": "code",
      "source": [
        "# Paso 3: importamos la clase LogisticRegresion de scikit-learn\n",
        "from sklearn.linear_model import LogisticRegression\n",
        "\n",
        "# Paso 4: Creamos una instancia de la Regresión Logística\n",
        "regresion_logistica = LogisticRegression()\n",
        "\n",
        "# Paso 5: Entrena la regresión logística con los datos de entrenamiento\n",
        "regresion_logistica.fit(X,y)"
      ],
      "metadata": {
        "id": "aET-6Yv0oiSF",
        "outputId": "257e18bc-cca3-43e1-b6b8-55810971a917",
        "colab": {
          "base_uri": "https://localhost:8080/"
        }
      },
      "execution_count": 8,
      "outputs": [
        {
          "output_type": "execute_result",
          "data": {
            "text/plain": [
              "LogisticRegression()"
            ]
          },
          "metadata": {},
          "execution_count": 8
        }
      ]
    },
    {
      "cell_type": "code",
      "source": [
        "#prediccion\n",
        "X_nuevo = np.array([1, 2, 3, 4, 5, 6]).reshape(-1,1)\n",
        "\n",
        "# Paso 6: Usa el modelo entrenado para obtener las predicciones con datos nuevos\n",
        "prediccion = regresion_logistica.predict(X_nuevo)\n",
        "print(prediccion)\n",
        "# produce el resultado: [0 0 1 1 1 1]"
      ],
      "metadata": {
        "id": "Mun4mFOOoluH",
        "outputId": "c3c622c3-7e6a-47e2-fb85-11956ca17a5e",
        "colab": {
          "base_uri": "https://localhost:8080/"
        }
      },
      "execution_count": 9,
      "outputs": [
        {
          "output_type": "stream",
          "name": "stdout",
          "text": [
            "[0 0 1 1 1 1]\n"
          ]
        }
      ]
    },
    {
      "cell_type": "code",
      "source": [
        "# Paso 7: Opcionalmente, obtén las probabilidades de la predicción\n",
        "probabilidades_prediccion = regresion_logistica.predict_proba(X_nuevo)\n",
        "print(probabilidades_prediccion)\n",
        "\n",
        "# produce el siguiente resultado (la primera columna es \n",
        "# la probabilidad de suspender y la segunda columna es\n",
        "# la probabilidad de aprobar)\n",
        "# [[0.6801015  0.3198985 ]\n",
        "#  [0.53568295 0.46431705]\n",
        "#  [0.38502138 0.61497862]\n",
        "#  [0.25359079 0.74640921]\n",
        "#  [0.15566862 0.84433138]\n",
        "#  [0.09095092 0.90904908]]\n",
        "\n",
        "# Como seguramente estamos más interesados en la probabilidad de aprobar,\n",
        "# podemos centrarnos en la segunda columna\n",
        "print(probabilidades_prediccion[:,1])\n"
      ],
      "metadata": {
        "id": "jkUQZniPoseO",
        "outputId": "b62effef-f533-4245-b90c-e2ce8642a825",
        "colab": {
          "base_uri": "https://localhost:8080/"
        }
      },
      "execution_count": 10,
      "outputs": [
        {
          "output_type": "stream",
          "name": "stdout",
          "text": [
            "[[0.87984046 0.12015954]\n",
            " [0.69895285 0.30104715]\n",
            " [0.42402118 0.57597882]\n",
            " [0.18924992 0.81075008]\n",
            " [0.06891381 0.93108619]\n",
            " [0.02293029 0.97706971]]\n",
            "[0.12015954 0.30104715 0.57597882 0.81075008 0.93108619 0.97706971]\n"
          ]
        }
      ]
    }
  ]
}