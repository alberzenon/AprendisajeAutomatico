{
 "cells": [
  {
   "cell_type": "code",
   "execution_count": 1,
   "metadata": {},
   "outputs": [],
   "source": [
    "import numpy as np"
   ]
  },
  {
   "cell_type": "code",
   "execution_count": 6,
   "metadata": {},
   "outputs": [
    {
     "name": "stdout",
     "output_type": "stream",
     "text": [
      "[2 4 5 4 2]\n"
     ]
    }
   ],
   "source": [
    "#Que no se pueda predecir logicamente\n",
    "\n",
    "m = np.random.randint(10, size=5)\n",
    "print(m)"
   ]
  },
  {
   "cell_type": "code",
   "execution_count": 7,
   "metadata": {},
   "outputs": [
    {
     "name": "stdout",
     "output_type": "stream",
     "text": [
      "[[5 6 4]\n",
      " [7 5 4]\n",
      " [0 9 7]]\n"
     ]
    }
   ],
   "source": [
    "m = np.random.randint(10, size=(3,3))\n",
    "print(m)"
   ]
  },
  {
   "cell_type": "code",
   "execution_count": 11,
   "metadata": {},
   "outputs": [
    {
     "name": "stdout",
     "output_type": "stream",
     "text": [
      "[[0.36503915 0.31428485]\n",
      " [0.93182615 0.89350145]]\n"
     ]
    }
   ],
   "source": [
    "\n",
    "\n",
    "\n",
    "m1 = np.random.rand(2,2)\n",
    "print(m1)"
   ]
  },
  {
   "cell_type": "code",
   "execution_count": 13,
   "metadata": {},
   "outputs": [
    {
     "name": "stdout",
     "output_type": "stream",
     "text": [
      "8\n"
     ]
    }
   ],
   "source": [
    "m1 = np.random.choice([3,4,8,7,9,1])\n",
    "print(m1)"
   ]
  },
  {
   "cell_type": "code",
   "execution_count": 14,
   "metadata": {},
   "outputs": [
    {
     "name": "stdout",
     "output_type": "stream",
     "text": [
      "[[7 3 1]\n",
      " [9 7 4]]\n"
     ]
    }
   ],
   "source": [
    "m1 = np.random.choice([3,4,8,7,9,1], size=(2,3))\n",
    "print(m1)"
   ]
  },
  {
   "cell_type": "markdown",
   "metadata": {},
   "source": [
    "Distribucion Aleatoria\n",
    "\n",
    "Es una lista de todos los valores posibles y la frecuencia con la que se produce cada valor\n",
    "\n",
    "Es un conjunto de nuemros aleatorios que siguen una determinada funcion de densidad de probabilidad\n"
   ]
  },
  {
   "cell_type": "code",
   "execution_count": 69,
   "metadata": {},
   "outputs": [
    {
     "name": "stdout",
     "output_type": "stream",
     "text": [
      "[4 2 4 6 2 2]\n"
     ]
    }
   ],
   "source": [
    "#dados\n",
    "m = np.random.choice([2,4,6],p = [0.5,0.3,0.2], size=(6))\n",
    "print(m)"
   ]
  },
  {
   "cell_type": "code",
   "execution_count": 74,
   "metadata": {},
   "outputs": [
    {
     "name": "stdout",
     "output_type": "stream",
     "text": [
      "[ 2  2  2  8  2  4 10  4  8 10  4 10  8  2 10  4 10  8  2  2  4 10  4  4\n",
      "  2  2  8  8  2  2 10  8  2  4  4  2 10 10 10  4  4  8  8  2  4  8  2  4\n",
      "  4  4]\n"
     ]
    }
   ],
   "source": [
    "#Genere una matriz que contenga 50 valores, donde cada valor  debe de se 4, 2, 8 o 10\n",
    "m = np.random.choice([2,4,8,10],p = [0.3,0.3,0.2,0.2], size=(50))\n",
    "print(m)\n",
    "\n"
   ]
  }
 ],
 "metadata": {
  "kernelspec": {
   "display_name": "Python 3.6.5 32-bit",
   "language": "python",
   "name": "python3"
  },
  "language_info": {
   "codemirror_mode": {
    "name": "ipython",
    "version": 3
   },
   "file_extension": ".py",
   "mimetype": "text/x-python",
   "name": "python",
   "nbconvert_exporter": "python",
   "pygments_lexer": "ipython3",
   "version": "3.6.5"
  },
  "orig_nbformat": 4,
  "vscode": {
   "interpreter": {
    "hash": "43b119962622a055f7f17cb51cbc39f144b651538889cfff7ccea34a1bb9c3f1"
   }
  }
 },
 "nbformat": 4,
 "nbformat_minor": 2
}
