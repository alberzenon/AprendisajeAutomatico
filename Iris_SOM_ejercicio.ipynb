{
  "nbformat": 4,
  "nbformat_minor": 0,
  "metadata": {
    "colab": {
      "name": "Iris_SOM_ejercicio.ipynb",
      "provenance": [],
      "include_colab_link": true
    },
    "kernelspec": {
      "name": "python3",
      "display_name": "Python 3"
    },
    "language_info": {
      "name": "python"
    }
  },
  "cells": [
    {
      "cell_type": "markdown",
      "metadata": {
        "id": "view-in-github",
        "colab_type": "text"
      },
      "source": [
        "<a href=\"https://colab.research.google.com/github/alberzenon/TecMilenio/blob/main/Iris_SOM_ejercicio.ipynb\" target=\"_parent\"><img src=\"https://colab.research.google.com/assets/colab-badge.svg\" alt=\"Open In Colab\"/></a>"
      ]
    },
    {
      "cell_type": "code",
      "metadata": {
        "colab": {
          "base_uri": "https://localhost:8080/"
        },
        "id": "amB--gQ3HiKC",
        "outputId": "c19b9009-f3c7-4644-9a50-2d91d848fe5c"
      },
      "source": [
        "pip install minisom"
      ],
      "execution_count": 1,
      "outputs": [
        {
          "output_type": "stream",
          "name": "stdout",
          "text": [
            "Looking in indexes: https://pypi.org/simple, https://us-python.pkg.dev/colab-wheels/public/simple/\n",
            "Collecting minisom\n",
            "  Downloading MiniSom-2.3.0.tar.gz (8.8 kB)\n",
            "Building wheels for collected packages: minisom\n",
            "  Building wheel for minisom (setup.py) ... \u001b[?25l\u001b[?25hdone\n",
            "  Created wheel for minisom: filename=MiniSom-2.3.0-py3-none-any.whl size=9018 sha256=853661fafd33da6cb13fdf37cf898067d09bd0c7c4c26d063f24b0a0d7dbd63c\n",
            "  Stored in directory: /root/.cache/pip/wheels/d4/ca/4a/488772b0399fec45ff53132ed14c948dec4b30deee3a532f80\n",
            "Successfully built minisom\n",
            "Installing collected packages: minisom\n",
            "Successfully installed minisom-2.3.0\n"
          ]
        }
      ]
    },
    {
      "cell_type": "code",
      "metadata": {
        "id": "QsJiVeFFFdXh"
      },
      "source": [
        "import numpy as np\n",
        "import matplotlib.pyplot as plt\n",
        "from sklearn.datasets import load_iris\n",
        "from sklearn.model_selection import train_test_split"
      ],
      "execution_count": 2,
      "outputs": []
    },
    {
      "cell_type": "code",
      "metadata": {
        "id": "ND_NyvV9FsA0"
      },
      "source": [
        "iris = load_iris()\n",
        "datos = iris.data\n",
        "etiquetas = iris.target"
      ],
      "execution_count": 3,
      "outputs": []
    },
    {
      "cell_type": "code",
      "metadata": {
        "colab": {
          "base_uri": "https://localhost:8080/"
        },
        "id": "MvnVtQggk3oX",
        "outputId": "6d2c2418-e11f-4dc9-8c4e-24460ec24abf"
      },
      "source": [
        "etiquetas"
      ],
      "execution_count": 4,
      "outputs": [
        {
          "output_type": "execute_result",
          "data": {
            "text/plain": [
              "array([0, 0, 0, 0, 0, 0, 0, 0, 0, 0, 0, 0, 0, 0, 0, 0, 0, 0, 0, 0, 0, 0,\n",
              "       0, 0, 0, 0, 0, 0, 0, 0, 0, 0, 0, 0, 0, 0, 0, 0, 0, 0, 0, 0, 0, 0,\n",
              "       0, 0, 0, 0, 0, 0, 1, 1, 1, 1, 1, 1, 1, 1, 1, 1, 1, 1, 1, 1, 1, 1,\n",
              "       1, 1, 1, 1, 1, 1, 1, 1, 1, 1, 1, 1, 1, 1, 1, 1, 1, 1, 1, 1, 1, 1,\n",
              "       1, 1, 1, 1, 1, 1, 1, 1, 1, 1, 1, 1, 2, 2, 2, 2, 2, 2, 2, 2, 2, 2,\n",
              "       2, 2, 2, 2, 2, 2, 2, 2, 2, 2, 2, 2, 2, 2, 2, 2, 2, 2, 2, 2, 2, 2,\n",
              "       2, 2, 2, 2, 2, 2, 2, 2, 2, 2, 2, 2, 2, 2, 2, 2, 2, 2])"
            ]
          },
          "metadata": {},
          "execution_count": 4
        }
      ]
    },
    {
      "cell_type": "code",
      "metadata": {
        "id": "e8u9K09uG_ii"
      },
      "source": [
        "# data normalization\n",
        "data = np.apply_along_axis(lambda x: x/np.linalg.norm(x), 1, datos)\n",
        "\n",
        "X_train, X_test, y_train, y_test = train_test_split(data, etiquetas, test_size=0.33, random_state=42)"
      ],
      "execution_count": 5,
      "outputs": []
    },
    {
      "cell_type": "code",
      "metadata": {
        "colab": {
          "base_uri": "https://localhost:8080/"
        },
        "id": "nVmCgtf1UL95",
        "outputId": "9a80ca17-c6f1-4bb7-b0ae-616001041a8e"
      },
      "source": [
        "X_test.shape"
      ],
      "execution_count": 6,
      "outputs": [
        {
          "output_type": "execute_result",
          "data": {
            "text/plain": [
              "(50, 4)"
            ]
          },
          "metadata": {},
          "execution_count": 6
        }
      ]
    },
    {
      "cell_type": "code",
      "metadata": {
        "id": "ojt2aQ2wHW0K"
      },
      "source": [
        "from minisom import MiniSom\n",
        "som = MiniSom(6,6,4,sigma=1,learning_rate=0.5,neighborhood_function=\"gaussian\") "
      ],
      "execution_count": 7,
      "outputs": []
    },
    {
      "cell_type": "code",
      "metadata": {
        "id": "XP47qUccHgwR"
      },
      "source": [
        "som.train(X_train, 3000)"
      ],
      "execution_count": 8,
      "outputs": []
    },
    {
      "cell_type": "code",
      "metadata": {
        "colab": {
          "base_uri": "https://localhost:8080/",
          "height": 378
        },
        "id": "LgsCW0tbUb1Z",
        "outputId": "623048dd-4ac7-4e95-9c21-3fe8b7c3a3fe"
      },
      "source": [
        "plt.figure(figsize=(6, 6))\n",
        "frequencies = som.activation_response(X_train)\n",
        "plt.pcolor(frequencies.T, cmap='Blues') \n",
        "plt.colorbar()\n",
        "plt.show()"
      ],
      "execution_count": 11,
      "outputs": [
        {
          "output_type": "display_data",
          "data": {
            "text/plain": [
              "<Figure size 432x432 with 2 Axes>"
            ],
            "image/png": "[encoded data removed]"
          },
          "metadata": {
            "needs_background": "light"
          }
        }
      ]
    },
    {
      "cell_type": "code",
      "source": [
        "X_train[3]"
      ],
      "metadata": {
        "colab": {
          "base_uri": "https://localhost:8080/"
        },
        "id": "3zBrxZsS2P0e",
        "outputId": "fe8958e2-b8ba-44f7-9984-e5eec9296c73"
      },
      "execution_count": 13,
      "outputs": [
        {
          "output_type": "execute_result",
          "data": {
            "text/plain": [
              "array([0.80377277, 0.55160877, 0.22064351, 0.0315205 ])"
            ]
          },
          "metadata": {},
          "execution_count": 13
        }
      ]
    },
    {
      "cell_type": "code",
      "source": [
        "plt.figure(figsize=(6, 6))\n",
        "Muestra = som.activation_response([X_train[3]])\n",
        "plt.pcolor(Muestra.T, cmap='Blues') \n",
        "plt.colorbar()\n",
        "plt.show()"
      ],
      "metadata": {
        "colab": {
          "base_uri": "https://localhost:8080/",
          "height": 378
        },
        "id": "b9RXUP3g18nK",
        "outputId": "58cc9ade-e1f6-481c-b684-05be4523c349"
      },
      "execution_count": 22,
      "outputs": [
        {
          "output_type": "display_data",
          "data": {
            "text/plain": [
              "<Figure size 432x432 with 2 Axes>"
            ],
            "image/png": "[encoded data removed]"
          },
          "metadata": {
            "needs_background": "light"
          }
        }
      ]
    },
    {
      "cell_type": "code",
      "source": [
        "som_2 = MiniSom(1,3,4,sigma=0.2,learning_rate=0.5,neighborhood_function=\"gaussian\") "
      ],
      "metadata": {
        "id": "VEJY6dY44Uex"
      },
      "execution_count": 23,
      "outputs": []
    },
    {
      "cell_type": "code",
      "source": [
        "plt.figure(figsize=(1, 3))\n",
        "Muestra = som_2.activation_response([X_train[50]])\n",
        "plt.pcolor(Muestra.T, cmap='Blues') \n",
        "plt.colorbar()\n",
        "plt.show()"
      ],
      "metadata": {
        "colab": {
          "base_uri": "https://localhost:8080/",
          "height": 215
        },
        "id": "NDD7tkWK4VtS",
        "outputId": "365e6455-a5c0-41af-9bbe-929985c2764f"
      },
      "execution_count": 24,
      "outputs": [
        {
          "output_type": "display_data",
          "data": {
            "text/plain": [
              "<Figure size 72x216 with 2 Axes>"
            ],
            "image/png": "[encoded data removed]"
          },
          "metadata": {
            "needs_background": "light"
          }
        }
      ]
    },
    {
      "cell_type": "code",
      "metadata": {
        "id": "muTRr7dvRLiG",
        "colab": {
          "base_uri": "https://localhost:8080/",
          "height": 378
        },
        "outputId": "9f6285d8-281c-4870-fc16-0a17528b48bd"
      },
      "source": [
        "import matplotlib.pyplot as plt\n",
        "%matplotlib inline\n",
        "\n",
        "plt.figure(figsize=(6, 6))\n",
        "\n",
        "plt.pcolor(frequencies.T, cmap='Blues')  # plotting the distance map as background\n",
        "plt.colorbar()\n",
        "\n",
        "# Plotting the response for each pattern in the iris dataset\n",
        "# different colors and markers for each label\n",
        "markers = ['o', 's', 'D']\n",
        "colors = ['C0', 'C1', 'C2']\n",
        "for cnt, xx in enumerate(X_train):\n",
        "    w = som.winner(xx)  # getting the winner\n",
        "    # palce a marker on the winning position for the sample xx\n",
        "    plt.plot(w[0]+.5, w[1]+.5, markers[y_train[cnt]-1], markerfacecolor='None',\n",
        "             markeredgecolor=colors[y_train[cnt]-1], markersize=12, markeredgewidth=2)\n",
        "\n",
        "plt.show()"
      ],
      "execution_count": null,
      "outputs": [
        {
          "output_type": "display_data",
          "data": {
            "image/png": "[encoded data removed]",
            "text/plain": [
              "<Figure size 432x432 with 2 Axes>"
            ]
          },
          "metadata": {
            "needs_background": "light"
          }
        }
      ]
    },
    {
      "cell_type": "code",
      "metadata": {
        "colab": {
          "base_uri": "https://localhost:8080/",
          "height": 378
        },
        "id": "DKD2P5tnZ3R1",
        "outputId": "97189045-5d33-43c0-8dad-030d925a39e4"
      },
      "source": [
        "w_x, w_y = zip(*[som.winner(d) for d in X_train])\n",
        "w_x = np.array(w_x)\n",
        "w_y = np.array(w_y)\n",
        "\n",
        "plt.figure(figsize=(6, 6))\n",
        "plt.pcolor(frequencies.T, cmap='Blues') \n",
        "plt.colorbar()\n",
        "\n",
        "for c in np.unique(y_train):\n",
        "    idx_target = y_train==c\n",
        "    plt.scatter(w_x[idx_target]+.5+(np.random.rand(np.sum(idx_target))-.5)*.8,\n",
        "                w_y[idx_target]+.5+(np.random.rand(np.sum(idx_target))-.5)*.8, )\n",
        "\n",
        "plt.grid()\n",
        "plt.show()"
      ],
      "execution_count": null,
      "outputs": [
        {
          "output_type": "display_data",
          "data": {
            "image/png": "[encoded data removed]",
            "text/plain": [
              "<Figure size 432x432 with 2 Axes>"
            ]
          },
          "metadata": {
            "needs_background": "light"
          }
        }
      ]
    },
    {
      "cell_type": "code",
      "metadata": {
        "id": "wepFehdKwFwq"
      },
      "source": [
        "som.pca_weights_init(X_train)\n",
        "som.train_random(X_train, 5000, verbose=False)"
      ],
      "execution_count": null,
      "outputs": []
    },
    {
      "cell_type": "code",
      "metadata": {
        "id": "1VDTqJ5hwOED"
      },
      "source": [
        "class_assignments = som.labels_map(X_train, y_train)"
      ],
      "execution_count": null,
      "outputs": []
    },
    {
      "cell_type": "code",
      "metadata": {
        "colab": {
          "base_uri": "https://localhost:8080/"
        },
        "id": "c1QIm_BpwTSj",
        "outputId": "b4060d7e-3e43-45a1-a33c-c2f67c529bc8"
      },
      "source": [
        "class_assignments"
      ],
      "execution_count": null,
      "outputs": [
        {
          "output_type": "execute_result",
          "data": {
            "text/plain": [
              "defaultdict(list,\n",
              "            {(0, 0): Counter({1: 4}),\n",
              "             (0, 1): Counter({1: 1}),\n",
              "             (0, 2): Counter({1: 1}),\n",
              "             (0, 3): Counter({1: 3}),\n",
              "             (0, 4): Counter({1: 1, 2: 1}),\n",
              "             (0, 5): Counter({2: 6}),\n",
              "             (1, 1): Counter({1: 2}),\n",
              "             (1, 2): Counter({1: 3}),\n",
              "             (1, 3): Counter({1: 2}),\n",
              "             (1, 4): Counter({2: 1}),\n",
              "             (1, 5): Counter({1: 1, 2: 3}),\n",
              "             (2, 0): Counter({0: 1}),\n",
              "             (2, 2): Counter({1: 2}),\n",
              "             (2, 3): Counter({1: 3}),\n",
              "             (2, 4): Counter({2: 4}),\n",
              "             (2, 5): Counter({2: 3}),\n",
              "             (3, 0): Counter({0: 6}),\n",
              "             (3, 1): Counter({0: 2}),\n",
              "             (3, 3): Counter({1: 2}),\n",
              "             (3, 4): Counter({2: 3}),\n",
              "             (3, 5): Counter({2: 4}),\n",
              "             (4, 0): Counter({0: 4}),\n",
              "             (4, 1): Counter({0: 9}),\n",
              "             (4, 3): Counter({1: 7}),\n",
              "             (4, 4): Counter({1: 3, 2: 1}),\n",
              "             (4, 5): Counter({2: 4}),\n",
              "             (5, 0): Counter({0: 3}),\n",
              "             (5, 1): Counter({0: 4}),\n",
              "             (5, 2): Counter({0: 2}),\n",
              "             (5, 4): Counter({2: 2}),\n",
              "             (5, 5): Counter({2: 2})})"
            ]
          },
          "metadata": {},
          "execution_count": 34
        }
      ]
    },
    {
      "cell_type": "code",
      "metadata": {
        "colab": {
          "base_uri": "https://localhost:8080/"
        },
        "id": "-VyFQdNYzBvY",
        "outputId": "77e5c13f-066f-47fc-ee9a-c9d90ba6718f"
      },
      "source": [
        "class_assignments.values()"
      ],
      "execution_count": null,
      "outputs": [
        {
          "output_type": "execute_result",
          "data": {
            "text/plain": [
              "dict_values([Counter({1: 7}), Counter({2: 6}), Counter({1: 3, 2: 1}), Counter({0: 9}), Counter({1: 1}), Counter({0: 4}), Counter({0: 2}), Counter({1: 3}), Counter({2: 1}), Counter({0: 6}), Counter({0: 2}), Counter({1: 3}), Counter({2: 3}), Counter({1: 2}), Counter({2: 4}), Counter({0: 3}), Counter({2: 2}), Counter({1: 2}), Counter({0: 4}), Counter({1: 4}), Counter({2: 3}), Counter({1: 3}), Counter({2: 4}), Counter({1: 2}), Counter({2: 3, 1: 1}), Counter({1: 1, 2: 1}), Counter({2: 4}), Counter({2: 2}), Counter({1: 2}), Counter({0: 1}), Counter({1: 1})])"
            ]
          },
          "metadata": {},
          "execution_count": 42
        }
      ]
    },
    {
      "cell_type": "code",
      "metadata": {
        "id": "IHvHzaoPwUOf"
      },
      "source": [
        "def classify(som, data, class_assignments):\n",
        "    winmap = class_assignments\n",
        "    default_class = np.sum(list(winmap.values())).most_common()[0][0]\n",
        "    result = []\n",
        "    for d in data:\n",
        "        win_position = som.winner(d)\n",
        "        if win_position in winmap:\n",
        "            result.append(winmap[win_position].most_common()[0][0])\n",
        "        else:\n",
        "            result.append(default_class)\n",
        "    return result"
      ],
      "execution_count": null,
      "outputs": []
    },
    {
      "cell_type": "code",
      "metadata": {
        "id": "N_Ttg_4Uw9dv"
      },
      "source": [
        "from sklearn.metrics import classification_report"
      ],
      "execution_count": null,
      "outputs": []
    },
    {
      "cell_type": "code",
      "metadata": {
        "colab": {
          "base_uri": "https://localhost:8080/"
        },
        "id": "QRyovK20xA33",
        "outputId": "dc012396-9f3c-48c6-f573-db0e07d86a97"
      },
      "source": [
        "print(classification_report(y_test, classify(som, X_test, class_assignments)))"
      ],
      "execution_count": null,
      "outputs": [
        {
          "output_type": "stream",
          "name": "stdout",
          "text": [
            "              precision    recall  f1-score   support\n",
            "\n",
            "           0       1.00      1.00      1.00        19\n",
            "           1       0.88      1.00      0.94        15\n",
            "           2       1.00      0.88      0.93        16\n",
            "\n",
            "    accuracy                           0.96        50\n",
            "   macro avg       0.96      0.96      0.96        50\n",
            "weighted avg       0.96      0.96      0.96        50\n",
            "\n"
          ]
        }
      ]
    }
  ]
}