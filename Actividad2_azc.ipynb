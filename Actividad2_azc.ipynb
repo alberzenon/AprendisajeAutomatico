{
  "nbformat": 4,
  "nbformat_minor": 0,
  "metadata": {
    "colab": {
      "name": "Actividad2_azc.ipynb",
      "provenance": [],
      "authorship_tag": "ABX9TyM8/w5vCT+7EPmA02YkBrvg",
      "include_colab_link": true
    },
    "kernelspec": {
      "name": "python3",
      "display_name": "Python 3"
    },
    "language_info": {
      "name": "python"
    }
  },
  "cells": [
    {
      "cell_type": "markdown",
      "metadata": {
        "id": "view-in-github",
        "colab_type": "text"
      },
      "source": [
        "<a href=\"https://colab.research.google.com/github/alberzenon/AprendizajeAutomatico/blob/main/Actividad2_azc.ipynb\" target=\"_parent\"><img src=\"https://colab.research.google.com/assets/colab-badge.svg\" alt=\"Open In Colab\"/></a>"
      ]
    },
    {
      "cell_type": "code",
      "execution_count": 2,
      "metadata": {
        "id": "dJdUquwZ32k6"
      },
      "outputs": [],
      "source": [
        "import numpy as np\n",
        "import matplotlib.pyplot as plt\n",
        "\n",
        "import numpy.linalg as npl\n",
        "import matplotlib.pyplot as plt\n",
        "scale = 20\n",
        "origin2D = np.vstack([0,0])"
      ]
    },
    {
      "cell_type": "code",
      "source": [
        "def graficarVectores(vecs, cols, alpha = 1):\n",
        "  plt.figure()\n",
        "  plt.axvline(x = 0, color = \"grey\")\n",
        "  plt.axhline(y = 0, color = \"grey\")\n",
        "\n",
        "  for i in range(len(vecs)):\n",
        "        x = np.concatenate([[0,0], vecs[i]])\n",
        "        plt.quiver([x[0]],\n",
        "                   [x[1]],\n",
        "                   [x[2]],\n",
        "                   [x[3]],\n",
        "                  angles='xy', scale_units='xy', scale=1,\n",
        "                   color=cols[i],\n",
        "                  alpha = alpha)"
      ],
      "metadata": {
        "id": "_3-nDeNy_eDQ"
      },
      "execution_count": null,
      "outputs": []
    },
    {
      "cell_type": "code",
      "source": [
        "#vector\n",
        "b=np.array([5,3])\n",
        "\n",
        "print(b)\n",
        "b.shape"
      ],
      "metadata": {
        "colab": {
          "base_uri": "https://localhost:8080/"
        },
        "id": "x_HQePf__siU",
        "outputId": "e44ee171-9e9b-4e8c-eb07-8ee823425523"
      },
      "execution_count": null,
      "outputs": [
        {
          "output_type": "stream",
          "name": "stdout",
          "text": [
            "[5 3]\n"
          ]
        },
        {
          "output_type": "execute_result",
          "data": {
            "text/plain": [
              "(2,)"
            ]
          },
          "metadata": {},
          "execution_count": 3
        }
      ]
    },
    {
      "cell_type": "code",
      "source": [
        "graficarVectores([b], ['red'])\n",
        "plt.xlim(0, 6)\n",
        "plt.ylim(0, 5)"
      ],
      "metadata": {
        "colab": {
          "base_uri": "https://localhost:8080/",
          "height": 287
        },
        "id": "YE-khWRE_uHP",
        "outputId": "93ad7943-ffad-4bfe-c14c-523755498049"
      },
      "execution_count": null,
      "outputs": [
        {
          "output_type": "execute_result",
          "data": {
            "text/plain": [
              "(0.0, 5.0)"
            ]
          },
          "metadata": {},
          "execution_count": 8
        },
        {
          "output_type": "display_data",
          "data": {
            "text/plain": [
              "<Figure size 432x288 with 1 Axes>"
            ],
            "image/png": "[encoded data removed]"
          },
          "metadata": {
            "needs_background": "light"
          }
        }
      ]
    },
    {
      "cell_type": "code",
      "source": [
        "x =np.array([-2,7])\n",
        "print(b)\n",
        "b.shape"
      ],
      "metadata": {
        "colab": {
          "base_uri": "https://localhost:8080/"
        },
        "id": "P_75GDVBAIzN",
        "outputId": "ce8d1bd3-28ff-47b7-f409-6df4d730cddc"
      },
      "execution_count": null,
      "outputs": [
        {
          "output_type": "stream",
          "name": "stdout",
          "text": [
            "[5 3]\n"
          ]
        },
        {
          "output_type": "execute_result",
          "data": {
            "text/plain": [
              "(2,)"
            ]
          },
          "metadata": {},
          "execution_count": 9
        }
      ]
    },
    {
      "cell_type": "code",
      "source": [
        "graficarVectores([b, x, ], ['blue', 'green'])\n",
        "plt.xlim(-3, 6)\n",
        "plt.ylim(-1, 8)"
      ],
      "metadata": {
        "colab": {
          "base_uri": "https://localhost:8080/",
          "height": 287
        },
        "id": "eAhVkDBCATks",
        "outputId": "3eb3ad83-3a1d-4956-c486-3cfdc58838c8"
      },
      "execution_count": null,
      "outputs": [
        {
          "output_type": "execute_result",
          "data": {
            "text/plain": [
              "(-1.0, 8.0)"
            ]
          },
          "metadata": {},
          "execution_count": 17
        },
        {
          "output_type": "display_data",
          "data": {
            "text/plain": [
              "<Figure size 432x288 with 1 Axes>"
            ],
            "image/png": "[encoded data removed]"
          },
          "metadata": {
            "needs_background": "light"
          }
        }
      ]
    },
    {
      "cell_type": "markdown",
      "source": [
        "Genera una matriz cuadrada  y calcula su determinante y su traza.\n",
        "Calcula el rango de la matriz generada y los valores de los coeficientes de su polinomio característico.\n",
        "Encuentra las raíces polinomio característico de la matriz generad"
      ],
      "metadata": {
        "id": "-YxWD3RLA1N_"
      }
    },
    {
      "cell_type": "markdown",
      "source": [
        "![imagen.png](data:image/png;base64,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)"
      ],
      "metadata": {
        "id": "qoPsR_6pB5AJ"
      }
    },
    {
      "cell_type": "code",
      "source": [
        "m = np.array([[5,1],\n",
        "             [2,2]])"
      ],
      "metadata": {
        "id": "SrtoMzXvA496"
      },
      "execution_count": 5,
      "outputs": []
    },
    {
      "cell_type": "code",
      "source": [
        "m"
      ],
      "metadata": {
        "colab": {
          "base_uri": "https://localhost:8080/"
        },
        "id": "0cak342dB4pl",
        "outputId": "554d595a-0f1c-4370-b9ea-dba4fea622fd"
      },
      "execution_count": 6,
      "outputs": [
        {
          "output_type": "execute_result",
          "data": {
            "text/plain": [
              "array([[5, 1],\n",
              "       [2, 2]])"
            ]
          },
          "metadata": {},
          "execution_count": 6
        }
      ]
    },
    {
      "cell_type": "code",
      "source": [
        "valores, vectores = np.linalg.eig(m)"
      ],
      "metadata": {
        "id": "n4zE5pu2CpHB"
      },
      "execution_count": 9,
      "outputs": []
    },
    {
      "cell_type": "code",
      "source": [
        "valores"
      ],
      "metadata": {
        "colab": {
          "base_uri": "https://localhost:8080/"
        },
        "id": "NP_D4BPCC4Y1",
        "outputId": "e0373995-2619-4c09-baa7-646410269442"
      },
      "execution_count": 10,
      "outputs": [
        {
          "output_type": "execute_result",
          "data": {
            "text/plain": [
              "array([5.56155281, 1.43844719])"
            ]
          },
          "metadata": {},
          "execution_count": 10
        }
      ]
    },
    {
      "cell_type": "code",
      "source": [
        "vectores"
      ],
      "metadata": {
        "colab": {
          "base_uri": "https://localhost:8080/"
        },
        "id": "6NJITZnEC7Jq",
        "outputId": "6d7aea20-6fce-4a33-89e9-e4dda97db98d"
      },
      "execution_count": 11,
      "outputs": [
        {
          "output_type": "execute_result",
          "data": {
            "text/plain": [
              "array([[ 0.87192821, -0.27032301],\n",
              "       [ 0.48963374,  0.96276969]])"
            ]
          },
          "metadata": {},
          "execution_count": 11
        }
      ]
    }
  ]
}