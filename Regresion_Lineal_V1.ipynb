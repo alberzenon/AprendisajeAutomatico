{
  "cells": [
    {
      "cell_type": "markdown",
      "metadata": {
        "id": "view-in-github",
        "colab_type": "text"
      },
      "source": [
        "<a href=\"https://colab.research.google.com/github/alberzenon/AprendizajeAutomatico/blob/main/Regresion_Lineal_V1.ipynb\" target=\"_parent\"><img src=\"https://colab.research.google.com/assets/colab-badge.svg\" alt=\"Open In Colab\"/></a>"
      ]
    },
    {
      "cell_type": "code",
      "execution_count": null,
      "id": "bfae0a89",
      "metadata": {
        "id": "bfae0a89"
      },
      "outputs": [],
      "source": [
        "import numpy as np\n",
        "import matplotlib.pyplot as plt\n",
        "%matplotlib inline"
      ]
    },
    {
      "cell_type": "code",
      "execution_count": null,
      "id": "2eca5780",
      "metadata": {
        "id": "2eca5780"
      },
      "outputs": [],
      "source": [
        "from sklearn.linear_model import LinearRegression"
      ]
    },
    {
      "cell_type": "code",
      "execution_count": null,
      "id": "3ae287c7",
      "metadata": {
        "id": "3ae287c7"
      },
      "outputs": [],
      "source": [
        "x = np.array([20, 45, 80, 100, 160, 175, 190, 215, 223, 257,289,300,358,400,428,460,489])\n",
        "y = np.array([10, 19, 27, 38, 47, 56, 63, 74, 87, 96, 110, 126,148,159,170,200,216])"
      ]
    },
    {
      "cell_type": "code",
      "execution_count": null,
      "id": "8f86106c",
      "metadata": {
        "colab": {
          "base_uri": "https://localhost:8080/",
          "height": 281
        },
        "id": "8f86106c",
        "outputId": "9cc32fff-924c-4321-cc82-022b03b2d269"
      },
      "outputs": [
        {
          "output_type": "display_data",
          "data": {
            "text/plain": [
              "<Figure size 432x288 with 1 Axes>"
            ],
            "image/png": "[encoded data removed]"
          },
          "metadata": {
            "needs_background": "light"
          }
        }
      ],
      "source": [
        "plt.scatter(x,y,label='data', color='blue')\n",
        "plt.title('Datos');"
      ]
    },
    {
      "cell_type": "code",
      "execution_count": null,
      "id": "23efa97e",
      "metadata": {
        "id": "23efa97e"
      },
      "outputs": [],
      "source": [
        "regresion_lineal = LinearRegression()"
      ]
    },
    {
      "cell_type": "code",
      "execution_count": null,
      "id": "b1b3bd8e",
      "metadata": {
        "colab": {
          "base_uri": "https://localhost:8080/"
        },
        "id": "b1b3bd8e",
        "outputId": "485653b2-7509-4f8b-8cf2-eb0b7f2cf5b5"
      },
      "outputs": [
        {
          "output_type": "execute_result",
          "data": {
            "text/plain": [
              "LinearRegression()"
            ]
          },
          "metadata": {},
          "execution_count": 7
        }
      ],
      "source": [
        "regresion_lineal.fit(x.reshape(-1,1), y)"
      ]
    },
    {
      "cell_type": "code",
      "execution_count": null,
      "id": "87bec014",
      "metadata": {
        "colab": {
          "base_uri": "https://localhost:8080/"
        },
        "id": "87bec014",
        "outputId": "52fbf94a-4986-452b-82b9-c11a14fa264b"
      },
      "outputs": [
        {
          "output_type": "stream",
          "name": "stdout",
          "text": [
            "w = [0.43756815], b = -10.998410392752191\n"
          ]
        }
      ],
      "source": [
        "print('w = ' + str(regresion_lineal.coef_) + ', b = ' + str(regresion_lineal.intercept_))"
      ]
    },
    {
      "cell_type": "code",
      "execution_count": null,
      "id": "067a09db",
      "metadata": {
        "colab": {
          "base_uri": "https://localhost:8080/"
        },
        "id": "067a09db",
        "outputId": "edca4b7e-54cc-4c27-a4fb-bc27a204394a"
      },
      "outputs": [
        {
          "output_type": "stream",
          "name": "stdout",
          "text": [
            "[15.25567855]\n"
          ]
        }
      ],
      "source": [
        "# vamos a predecir y = regresion_lineal(5)\n",
        "nuevo_x = np.array([60]) \n",
        "prediccion = regresion_lineal.predict(nuevo_x.reshape(-1,1))\n",
        "print(prediccion)\n",
        "# resultado: [1.7449]"
      ]
    },
    {
      "cell_type": "code",
      "execution_count": null,
      "id": "e07fd6bf",
      "metadata": {
        "id": "e07fd6bf",
        "outputId": "e22011bf-7b85-4e3a-8bfb-db0adce5fe74"
      },
      "outputs": [
        {
          "name": "stdout",
          "output_type": "stream",
          "text": [
            "Error Cuadrático Medio (MSE) = 65.97544331439661\n",
            "Raíz del Error Cuadrático Medio (RMSE) = 8.122526904504324\n"
          ]
        }
      ],
      "source": [
        "# importamos el cálculo del error cuadrático medio (MSE)\n",
        "from sklearn.metrics import mean_squared_error\n",
        "\n",
        "# Predecimos los valores y para los datos usados en el entrenamiento\n",
        "prediccion_entrenamiento = regresion_lineal.predict(x.reshape(-1,1))\n",
        "\n",
        "# Calculamos el Error Cuadrático Medio (MSE = Mean Squared Error)\n",
        "mse = mean_squared_error(y_true = y, y_pred = prediccion_entrenamiento)\n",
        "\n",
        "# La raíz cuadrada del MSE es el RMSE\n",
        "rmse = np.sqrt(mse)\n",
        "print('Error Cuadrático Medio (MSE) = ' + str(mse))\n",
        "print('Raíz del Error Cuadrático Medio (RMSE) = ' + str(rmse))"
      ]
    },
    {
      "cell_type": "markdown",
      "source": [
        "## Cálculo del coeficiente de determinación $R^{2}$\n",
        "\n",
        "El R-cuadrado $R^{2}$ es una medida estadística que indica qué tan cerca están los datos de la línea de regresión ajustada. También se conoce como coeficiente de determinación, o coeficiente de determinación múltiple si se trata de regresión múltiple"
      ],
      "metadata": {
        "id": "GYxGUVHtxPyR"
      },
      "id": "GYxGUVHtxPyR"
    },
    {
      "cell_type": "code",
      "execution_count": null,
      "id": "0bfd26a9",
      "metadata": {
        "id": "0bfd26a9",
        "outputId": "2687511d-e61d-4cd8-e55b-43ee6c59a100"
      },
      "outputs": [
        {
          "name": "stdout",
          "output_type": "stream",
          "text": [
            "Coeficiente de Determinación R2 = 0.982890830689646\n"
          ]
        }
      ],
      "source": [
        "# calculamos el coeficiente de determinación R2\n",
        "r2 = regresion_lineal.score(x.reshape(-1,1), y)\n",
        "print('Coeficiente de Determinación R2 = ' + str(r2))"
      ]
    }
  ],
  "metadata": {
    "kernelspec": {
      "display_name": "Python 3",
      "language": "python",
      "name": "python3"
    },
    "language_info": {
      "codemirror_mode": {
        "name": "ipython",
        "version": 3
      },
      "file_extension": ".py",
      "mimetype": "text/x-python",
      "name": "python",
      "nbconvert_exporter": "python",
      "pygments_lexer": "ipython3",
      "version": "3.8.8"
    },
    "colab": {
      "name": "Regresion Lineal V1.ipynb",
      "provenance": [],
      "include_colab_link": true
    }
  },
  "nbformat": 4,
  "nbformat_minor": 5
}