{
  "nbformat": 4,
  "nbformat_minor": 0,
  "metadata": {
    "colab": {
      "name": "Tema_15.ipynb",
      "provenance": [],
      "include_colab_link": true
    },
    "kernelspec": {
      "name": "python3",
      "display_name": "Python 3"
    },
    "language_info": {
      "name": "python"
    }
  },
  "cells": [
    {
      "cell_type": "markdown",
      "metadata": {
        "id": "view-in-github",
        "colab_type": "text"
      },
      "source": [
        "<a href=\"https://colab.research.google.com/github/alberzenon/AprendizajeAutomatico/blob/main/Tema_15.ipynb\" target=\"_parent\"><img src=\"https://colab.research.google.com/assets/colab-badge.svg\" alt=\"Open In Colab\"/></a>"
      ]
    },
    {
      "cell_type": "code",
      "metadata": {
        "id": "8Wtpf_xL19BK"
      },
      "source": [
        "import numpy as np"
      ],
      "execution_count": 1,
      "outputs": []
    },
    {
      "cell_type": "code",
      "source": [
        "#parametro v: valores de los items\n",
        "#parametro w: pesos de los items\n",
        "#parametro C: capacidad de la mochila\n",
        "\n",
        "v = [500, 250, 1500, 1200, 1200, 1000, 800, 950]\n",
        "w = [4,3,10,12,9,5,6,7]\n",
        "C = 28\n"
      ],
      "metadata": {
        "id": "ZNqrAYUvIo8q"
      },
      "execution_count": null,
      "outputs": []
    },
    {
      "cell_type": "code",
      "metadata": {
        "id": "m1MZovyZ36sp"
      },
      "source": [
        "def opt_knapsack (v,w,C):\n",
        "  \n",
        "  N = len(v)\n",
        "  m = {}\n",
        "\n",
        "  for c in range(C+1):\n",
        "    m[(0,c)] = 0\n",
        "\n",
        "  for i in range(1, N+1):\n",
        "    for c in range(C+1):\n",
        "      if w[i-1]<= c:\n",
        "        m[(i,c)] = max(m[i-1,c], v[i-1] + m[(i-1,c-w[i-1])])\n",
        "      else:\n",
        "        m[(i,c)] = m[(i-1,c)]\n",
        "  \n",
        "  return m[(N,C)]"
      ],
      "execution_count": null,
      "outputs": []
    },
    {
      "cell_type": "code",
      "metadata": {
        "colab": {
          "base_uri": "https://localhost:8080/"
        },
        "id": "XbvUQIKQ7ETJ",
        "outputId": "bb8ad151-b9d3-4568-afae-a4d8ac57954c"
      },
      "source": [
        "opt_knapsack (v,w,C)"
      ],
      "execution_count": null,
      "outputs": [
        {
          "output_type": "execute_result",
          "data": {
            "text/plain": [
              "4250"
            ]
          },
          "metadata": {},
          "execution_count": 5
        }
      ]
    }
  ]
}