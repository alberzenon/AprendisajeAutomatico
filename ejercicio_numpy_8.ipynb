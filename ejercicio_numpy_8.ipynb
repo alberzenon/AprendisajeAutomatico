{
  "nbformat": 4,
  "nbformat_minor": 0,
  "metadata": {
    "colab": {
      "provenance": [],
      "authorship_tag": "ABX9TyOYk4E39j35BvphIe+qVKLu",
      "include_colab_link": true
    },
    "kernelspec": {
      "name": "python3",
      "display_name": "Python 3"
    },
    "language_info": {
      "name": "python"
    }
  },
  "cells": [
    {
      "cell_type": "markdown",
      "metadata": {
        "id": "view-in-github",
        "colab_type": "text"
      },
      "source": [
        "<a href=\"https://colab.research.google.com/github/alberzenon/TecMilenio/blob/main/ejercicio_numpy_8.ipynb\" target=\"_parent\"><img src=\"https://colab.research.google.com/assets/colab-badge.svg\" alt=\"Open In Colab\"/></a>"
      ]
    },
    {
      "cell_type": "markdown",
      "metadata": {
        "id": "iCKB28_RsmdG"
      },
      "source": [
        "Importa la librería NumPy a tu proyecto.\n",
        "Genera un ndarray de 50 elementos\n",
        "Realiza la siguiente operación aritmética con cada uno de los valores del ndarray (donde x es el valor del elemento):\n",
        "x2 + 2x + 1\n",
        "\n",
        "Guarda el resultado de la operación anterior en un archivo dentro de tu computadora con el nombre “ejercicio_numpy.npy”."
      ]
    },
    {
      "cell_type": "code",
      "metadata": {
        "id": "0NX4krBJshws"
      },
      "source": [
        "#Importamos la librería de numpy\n",
        "import numpy as np "
      ],
      "execution_count": null,
      "outputs": []
    },
    {
      "cell_type": "code",
      "metadata": {
        "id": "BZJDFkbHsxF-"
      },
      "source": [
        "#Me genera un vector con 50 elementos comenzando desde el cero.\n",
        "arreglo=np.arange(50)"
      ],
      "execution_count": null,
      "outputs": []
    },
    {
      "cell_type": "code",
      "metadata": {
        "colab": {
          "base_uri": "https://localhost:8080/"
        },
        "id": "GKwsTKBSs3MF",
        "outputId": "85826109-97f5-4952-c90b-9d2dae9493b0"
      },
      "source": [
        "arreglo2=(arreglo**2)+(2*arreglo)+1\n",
        "arreglo2"
      ],
      "execution_count": null,
      "outputs": [
        {
          "output_type": "execute_result",
          "data": {
            "text/plain": [
              "array([   1,    4,    9,   16,   25,   36,   49,   64,   81,  100,  121,\n",
              "        144,  169,  196,  225,  256,  289,  324,  361,  400,  441,  484,\n",
              "        529,  576,  625,  676,  729,  784,  841,  900,  961, 1024, 1089,\n",
              "       1156, 1225, 1296, 1369, 1444, 1521, 1600, 1681, 1764, 1849, 1936,\n",
              "       2025, 2116, 2209, 2304, 2401, 2500])"
            ]
          },
          "metadata": {},
          "execution_count": 13
        }
      ]
    },
    {
      "cell_type": "code",
      "metadata": {
        "colab": {
          "base_uri": "https://localhost:8080/"
        },
        "id": "Wd8Tov6Ts-5q",
        "outputId": "5b3a8a39-46b2-4239-b73c-e138d00267a7"
      },
      "source": [
        "#Guardamos el arreglo con el nombre \"ejercicio_numpy\" en formato .npy\"\n",
        "np.save(\"ejercicio_numpy\", arreglo)\n",
        "#Cargamos el arreglo que guardamos con la única finalidad de verificar que se guardó\n",
        "np.load(\"ejercicio_numpy.npy\")"
      ],
      "execution_count": null,
      "outputs": [
        {
          "output_type": "execute_result",
          "data": {
            "text/plain": [
              "array([ 0,  1,  2,  3,  4,  5,  6,  7,  8,  9, 10, 11, 12, 13, 14, 15, 16,\n",
              "       17, 18, 19, 20, 21, 22, 23, 24, 25, 26, 27, 28, 29, 30, 31, 32, 33,\n",
              "       34, 35, 36, 37, 38, 39, 40, 41, 42, 43, 44, 45, 46, 47, 48, 49])"
            ]
          },
          "metadata": {},
          "execution_count": 14
        }
      ]
    },
    {
      "cell_type": "markdown",
      "metadata": {
        "id": "cTE00RmDtMfZ"
      },
      "source": [
        "Importa la librería Pandas a tu proyecto.\n",
        "\n",
        "Genera un diccionario con al menos 10 elementos, donde las estructuras llave-valor correspondan a diferentes ciudades de México con su respectiva densidad de población (ejemplo: Guadalajara: 1,521,741).\n",
        "\n",
        "Genera una Series a partir del diccionario anterior.\n",
        "\n",
        "Incluye tres nuevos índices dentro de la Series, correspondientes a otras ciudades de México, y verifica que Pandas autocompletó los campos con los valores “NaN” para mantener el ajuste del arreglo.\n",
        "\n",
        "Finalmente, elige alguna de las herramientas de visualización vistas en clase y realiza la gráfica de los datos.\n"
      ]
    },
    {
      "cell_type": "code",
      "metadata": {
        "id": "hPO_2cXAtO0g"
      },
      "source": [
        "import pandas as pd\n"
      ],
      "execution_count": null,
      "outputs": []
    },
    {
      "cell_type": "code",
      "metadata": {
        "colab": {
          "base_uri": "https://localhost:8080/",
          "height": 495
        },
        "id": "clyZxtE-uYvl",
        "outputId": "332372c0-a4d0-4780-998a-d6d1b1f897b1"
      },
      "source": [
        "estados = {\n",
        "\"Ciudad de México\": 9209244,\n",
        "\"Tijuana\": 1922523,\n",
        "\"Iztapalapa\": 1835486,\n",
        "\"León\": 1721215,\n",
        "\"Puebla\": 1692181,\n",
        "\"Ecatepec\": 1645352,\n",
        "\"Juárez\": 1512450,\n",
        "\"Zapopan\": 1476491,\n",
        "\"Guadalajara\": 1385629,\n",
        "\"Monterrey\": 1142994\n",
        "}\n",
        "\n",
        "serie_estados = pd.Series(estados)\n",
        "datos = {\n",
        "    \"Ciudad/Estado\": list(estados.keys()),\n",
        "    \"Población\": list(estados.values())\n",
        "}\n",
        "\n",
        "indices = [\"Ciudad de México\", \"Tijuana\", \"Iztapalapa\", \"León\", \"Puebla\", \"Ecatepec\", \"Juárez\", \"Zapopan\", \"Guadalajara\", \"Monterrey\", \"Torreón\", \"Durango\", \"Mazatlán\"]\n",
        "series_estados = pd.Series(estados, index=indices)\n",
        "series_estados\n",
        "\n",
        "#df = pd.DataFrame.from_dict(series_estados)\n",
        "df = pd.DataFrame(datos,columns=[\"Ciudad/Estado\", \"Población\"])\n",
        "print (df)\n",
        "\n",
        "df.plot(x ='Ciudad/Estado', y='Población', kind = 'scatter')\n",
        "#plt.show()"
      ],
      "execution_count": null,
      "outputs": [
        {
          "output_type": "stream",
          "name": "stdout",
          "text": [
            "      Ciudad/Estado  Población\n",
            "0  Ciudad de México    9209244\n",
            "1           Tijuana    1922523\n",
            "2        Iztapalapa    1835486\n",
            "3              León    1721215\n",
            "4            Puebla    1692181\n",
            "5          Ecatepec    1645352\n",
            "6            Juárez    1512450\n",
            "7           Zapopan    1476491\n",
            "8       Guadalajara    1385629\n",
            "9         Monterrey    1142994\n"
          ]
        },
        {
          "output_type": "execute_result",
          "data": {
            "text/plain": [
              "<matplotlib.axes._subplots.AxesSubplot at 0x7f94f5c2fb90>"
            ]
          },
          "metadata": {},
          "execution_count": 20
        },
        {
          "output_type": "display_data",
          "data": {
            "image/png": "[encoded data removed]",
            "text/plain": [
              "<Figure size 432x288 with 1 Axes>"
            ]
          },
          "metadata": {
            "needs_background": "light"
          }
        }
      ]
    }
  ]
}