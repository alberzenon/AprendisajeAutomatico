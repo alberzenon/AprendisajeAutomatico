{
  "nbformat": 4,
  "nbformat_minor": 0,
  "metadata": {
    "colab": {
      "name": "Tema_4.ipynb",
      "provenance": []
    },
    "kernelspec": {
      "name": "python3",
      "display_name": "Python 3"
    },
    "language_info": {
      "name": "python"
    }
  },
  "cells": [
    {
      "cell_type": "code",
      "execution_count": null,
      "metadata": {
        "id": "qQncnKyKRCzF"
      },
      "outputs": [],
      "source": [
        "import numpy as np\n",
        "import matplotlib.pyplot as plt"
      ]
    },
    {
      "cell_type": "code",
      "source": [
        "u = np.array([1.5, 1])\n",
        "u"
      ],
      "metadata": {
        "colab": {
          "base_uri": "https://localhost:8080/"
        },
        "id": "bzNj_VYTVGMJ",
        "outputId": "41d35881-2b51-4a81-9c89-9b04bf8d370a"
      },
      "execution_count": null,
      "outputs": [
        {
          "output_type": "execute_result",
          "data": {
            "text/plain": [
              "array([1.5, 1. ])"
            ]
          },
          "metadata": {},
          "execution_count": 3
        }
      ]
    },
    {
      "cell_type": "code",
      "source": [
        "A = np.array([\n",
        "              [1.2, 0.9],\n",
        "              [0, -0.4]\n",
        "              ])"
      ],
      "metadata": {
        "id": "hl_m7fb8VMwH"
      },
      "execution_count": null,
      "outputs": []
    },
    {
      "cell_type": "code",
      "source": [
        "A"
      ],
      "metadata": {
        "colab": {
          "base_uri": "https://localhost:8080/"
        },
        "id": "0e4AlUhlVfu4",
        "outputId": "1a75da25-dd15-423b-c57a-b1f0822290a4"
      },
      "execution_count": null,
      "outputs": [
        {
          "output_type": "execute_result",
          "data": {
            "text/plain": [
              "array([[ 1.2,  0.9],\n",
              "       [ 0. , -0.4]])"
            ]
          },
          "metadata": {},
          "execution_count": 5
        }
      ]
    },
    {
      "cell_type": "code",
      "source": [
        "v = A@u\n",
        "print(v)"
      ],
      "metadata": {
        "colab": {
          "base_uri": "https://localhost:8080/"
        },
        "id": "JkTtpcIjVgXH",
        "outputId": "f3b3e01c-9768-46bb-cb64-467b8c2dcedb"
      },
      "execution_count": null,
      "outputs": [
        {
          "output_type": "stream",
          "name": "stdout",
          "text": [
            "[ 2.7 -0.4]\n"
          ]
        }
      ]
    },
    {
      "cell_type": "code",
      "source": [
        "x = np.array([-0.4902*2, 0.8715*2])"
      ],
      "metadata": {
        "id": "EHEi-8D3WlcO"
      },
      "execution_count": null,
      "outputs": []
    },
    {
      "cell_type": "code",
      "source": [
        "y = A@x\n",
        "print(y)"
      ],
      "metadata": {
        "colab": {
          "base_uri": "https://localhost:8080/"
        },
        "id": "PZo-hiLFYM4P",
        "outputId": "03b8f0c3-4077-4523-fbce-c2d1e3c2bad9"
      },
      "execution_count": null,
      "outputs": [
        {
          "output_type": "stream",
          "name": "stdout",
          "text": [
            "[ 0.39222 -0.6972 ]\n"
          ]
        }
      ]
    },
    {
      "cell_type": "code",
      "source": [
        "print(A)"
      ],
      "metadata": {
        "colab": {
          "base_uri": "https://localhost:8080/"
        },
        "id": "oON7IO7LanuF",
        "outputId": "fbe677e3-0637-4ebc-e06d-fe66e138e658"
      },
      "execution_count": null,
      "outputs": [
        {
          "output_type": "stream",
          "name": "stdout",
          "text": [
            "[[ 1.2  0.9]\n",
            " [ 0.  -0.4]]\n"
          ]
        }
      ]
    },
    {
      "cell_type": "code",
      "source": [
        "det_A = np.linalg.det(A)\n",
        "print(det_A)"
      ],
      "metadata": {
        "colab": {
          "base_uri": "https://localhost:8080/"
        },
        "id": "mVvN3_AdYkzW",
        "outputId": "96d8ac0e-5f9d-4ea0-a4bc-576e69911288"
      },
      "execution_count": null,
      "outputs": [
        {
          "output_type": "stream",
          "name": "stdout",
          "text": [
            "-0.48\n"
          ]
        }
      ]
    },
    {
      "cell_type": "code",
      "source": [
        "rango_A = np.linalg.matrix_rank(A)\n",
        "print(rango_A)"
      ],
      "metadata": {
        "colab": {
          "base_uri": "https://localhost:8080/"
        },
        "id": "groyr1Aja5F_",
        "outputId": "64e0fde3-49ea-4124-eca9-067c3ecb415c"
      },
      "execution_count": null,
      "outputs": [
        {
          "output_type": "stream",
          "name": "stdout",
          "text": [
            "2\n"
          ]
        }
      ]
    },
    {
      "cell_type": "code",
      "source": [
        "coef = np.poly(A)\n",
        "print(coef)"
      ],
      "metadata": {
        "colab": {
          "base_uri": "https://localhost:8080/"
        },
        "id": "wFS7hnz-bGI2",
        "outputId": "b7f354d4-4b9e-4509-fe25-e3d57d67757d"
      },
      "execution_count": null,
      "outputs": [
        {
          "output_type": "stream",
          "name": "stdout",
          "text": [
            "[ 1.   -0.8  -0.48]\n"
          ]
        }
      ]
    },
    {
      "cell_type": "code",
      "source": [
        "raices = np.roots(coef)\n",
        "print(raices)"
      ],
      "metadata": {
        "colab": {
          "base_uri": "https://localhost:8080/"
        },
        "id": "vrwhUK_gbt2u",
        "outputId": "71dc2f76-e49a-436e-e526-240446a87ece"
      },
      "execution_count": null,
      "outputs": [
        {
          "output_type": "stream",
          "name": "stdout",
          "text": [
            "[ 1.2 -0.4]\n"
          ]
        }
      ]
    },
    {
      "cell_type": "code",
      "source": [
        "datos_matriz = np.linalg.eig(A)\n",
        "print(datos_matriz)"
      ],
      "metadata": {
        "colab": {
          "base_uri": "https://localhost:8080/"
        },
        "id": "wgl-5xrocCKv",
        "outputId": "53f0b470-6391-4607-9db1-6eae47300f65"
      },
      "execution_count": null,
      "outputs": [
        {
          "output_type": "stream",
          "name": "stdout",
          "text": [
            "(array([ 1.2, -0.4]), array([[ 1.        , -0.49026124],\n",
            "       [ 0.        ,  0.87157554]]))\n"
          ]
        }
      ]
    },
    {
      "cell_type": "code",
      "source": [
        "autov1 =  datos_matriz[1][:,0]\n",
        "print(autov1)"
      ],
      "metadata": {
        "colab": {
          "base_uri": "https://localhost:8080/"
        },
        "id": "xCkgdmPXc6A0",
        "outputId": "d606198c-90c5-476c-ef7c-43e376ea9a2a"
      },
      "execution_count": null,
      "outputs": [
        {
          "output_type": "stream",
          "name": "stdout",
          "text": [
            "[1. 0.]\n"
          ]
        }
      ]
    },
    {
      "cell_type": "code",
      "source": [
        "autov2 =  datos_matriz[1][:,1]\n",
        "print(autov2)"
      ],
      "metadata": {
        "colab": {
          "base_uri": "https://localhost:8080/"
        },
        "id": "msFHLb7rdvhe",
        "outputId": "f06f73c9-1331-4bcc-e257-092a4809d49f"
      },
      "execution_count": null,
      "outputs": [
        {
          "output_type": "stream",
          "name": "stdout",
          "text": [
            "[-0.49026124  0.87157554]\n"
          ]
        }
      ]
    },
    {
      "cell_type": "code",
      "source": [
        "plt.quiver(0,0,u[0],u[1], color='orange', angles='xy', scale_units='xy', scale=1)\n",
        "plt.quiver(0,0,v[0],v[1], color='blue', angles='xy', scale_units='xy', scale=1)\n",
        "plt.quiver(0,0,x[0],x[1], color='green', angles='xy', scale_units='xy', scale=1)\n",
        "plt.quiver(0,0,y[0],y[1], color='red', angles='xy', scale_units='xy', scale=1)\n",
        "plt.quiver(0,0,autov2[0],autov2[1], color='000000', angles='xy', scale_units='xy', scale=1)\n",
        "plt.quiver(0,0,autov1[0],autov1[1], color='000000', angles='xy', scale_units='xy', scale=1)\n",
        "plt.xlim(-1.5,3)\n",
        "plt.ylim(-1.5,3)\n",
        "plt.show()"
      ],
      "metadata": {
        "colab": {
          "base_uri": "https://localhost:8080/",
          "height": 269
        },
        "id": "lh9KpItDVvwX",
        "outputId": "b1b44f00-bf81-48f6-b2c0-c39227f6cc26"
      },
      "execution_count": null,
      "outputs": [
        {
          "output_type": "display_data",
          "data": {
            "text/plain": [
              "<Figure size 432x288 with 1 Axes>"
            ],
            "image/png": "[encoded data removed]"
          },
          "metadata": {
            "needs_background": "light"
          }
        }
      ]
    },
    {
      "cell_type": "code",
      "source": [
        ""
      ],
      "metadata": {
        "id": "W3TNKZvGd2Fu"
      },
      "execution_count": null,
      "outputs": []
    }
  ]
}