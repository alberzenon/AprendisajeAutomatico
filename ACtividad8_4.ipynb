{
  "nbformat": 4,
  "nbformat_minor": 0,
  "metadata": {
    "colab": {
      "name": "ACtividad8_4",
      "provenance": [],
      "authorship_tag": "ABX9TyPX1DnaQu/LhI66h9FKiJan",
      "include_colab_link": true
    },
    "kernelspec": {
      "name": "python3",
      "display_name": "Python 3"
    },
    "language_info": {
      "name": "python"
    }
  },
  "cells": [
    {
      "cell_type": "markdown",
      "metadata": {
        "id": "view-in-github",
        "colab_type": "text"
      },
      "source": [
        "<a href=\"https://colab.research.google.com/github/alberzenon/AprendizajeAutomatico/blob/main/ACtividad8_4.ipynb\" target=\"_parent\"><img src=\"https://colab.research.google.com/assets/colab-badge.svg\" alt=\"Open In Colab\"/></a>"
      ]
    },
    {
      "cell_type": "markdown",
      "source": [
        "\n",
        "\n",
        "Maximizar una función\n",
        "\n",
        "Hoy voy a explicar dos enfoques de algoritmos genéticos para maximizar una función no lineal. Este problema fue el primero que resolví con algoritmos genéticos y fue toda una experiencia\n"
      ],
      "metadata": {
        "id": "U2Ns70u0ll_T"
      }
    },
    {
      "cell_type": "code",
      "execution_count": 49,
      "metadata": {
        "id": "F7VBroTgi_Mq"
      },
      "outputs": [],
      "source": [
        "#importo las bibliotecas necesarias\n",
        "import matplotlib.pyplot as plt\n",
        "import numpy as np\n",
        "import math\n",
        "\n"
      ]
    },
    {
      "cell_type": "code",
      "source": [
        "# Debemos encontrar el valor de X que maximice el valor de y en la siguiente función.\n",
        "\n",
        "\n",
        "def fx(x):\n",
        "    return -(0.1+(1-x)**2-0.1*math.cos(6*math.pi*(1-x)))+2\n",
        "\n"
      ],
      "metadata": {
        "id": "9_CQRvmYllfQ"
      },
      "execution_count": 50,
      "outputs": []
    },
    {
      "cell_type": "code",
      "source": [
        "y_axis = []\n",
        "x_axis=np.arange(0,2,0.02)\n",
        "\n",
        "for num in x_axis:\n",
        "    y_axis.append(fx(num))"
      ],
      "metadata": {
        "id": "karDcqr7l5hn"
      },
      "execution_count": 51,
      "outputs": []
    },
    {
      "cell_type": "code",
      "source": [
        "\n",
        "\n",
        "plt.plot(x_axis,y_axis)\n",
        "\n"
      ],
      "metadata": {
        "colab": {
          "base_uri": "https://localhost:8080/",
          "height": 283
        },
        "id": "Y3AxYwSZl7iQ",
        "outputId": "239b4a94-b249-4065-9fe1-8ebd6c2c1c3f"
      },
      "execution_count": 52,
      "outputs": [
        {
          "output_type": "execute_result",
          "data": {
            "text/plain": [
              "[<matplotlib.lines.Line2D at 0x7f9cbb290a90>]"
            ]
          },
          "metadata": {},
          "execution_count": 52
        },
        {
          "output_type": "display_data",
          "data": {
            "text/plain": [
              "<Figure size 432x288 with 1 Axes>"
            ],
            "image/png": "[encoded data removed]"
          },
          "metadata": {
            "needs_background": "light"
          }
        }
      ]
    },
    {
      "cell_type": "markdown",
      "source": [
        "Como se puede observar arriba, la función tiene varios máximos y mínimos locales. El objetivo es llegar al punto más alto que se encuentra en\n",
        "\n",
        ".\n",
        "\n",
        "Aquí realicé dos enfoques, uno donde los genes se representan mediante números decimales y otro donde se representan mediante código binario. Esto produce resultados interesantes, pero lo importante es entender los componentes principales del algoritmo genético. Así que avanzaré primero con el enfoque más obvio y luego pasaré al código binario.\n",
        "Algoritmos genéticos\n",
        "Representación de los genes\n",
        "\n",
        "Primero, tenemos que planificar qué representan los genes de nuestros individuos. Los genes deben tener la capacidad de resolver el problema, aunque no lo hagan de forma inmediata; y su efectividad debe poder medirse con precisión.\n"
      ],
      "metadata": {
        "id": "G6RGh2B9mCO2"
      }
    },
    {
      "cell_type": "code",
      "source": [
        "#individuo de ejemplo \n",
        "x = 0.54\n",
        "y = fx(x)"
      ],
      "metadata": {
        "id": "cfjO2fIomDXm"
      },
      "execution_count": 53,
      "outputs": []
    },
    {
      "cell_type": "code",
      "source": [
        "plt.plot(x_axis,y_axis)\n",
        "plt.plot(x,y,'x')"
      ],
      "metadata": {
        "colab": {
          "base_uri": "https://localhost:8080/",
          "height": 283
        },
        "id": "nFDPwA3QmFB1",
        "outputId": "f1960335-ee8f-44ec-8a7a-52ef7a0b3512"
      },
      "execution_count": 54,
      "outputs": [
        {
          "output_type": "execute_result",
          "data": {
            "text/plain": [
              "[<matplotlib.lines.Line2D at 0x7f9cbb20b3d0>]"
            ]
          },
          "metadata": {},
          "execution_count": 54
        },
        {
          "output_type": "display_data",
          "data": {
            "text/plain": [
              "<Figure size 432x288 with 1 Axes>"
            ],
            "image/png": "[encoded data removed]"
          },
          "metadata": {
            "needs_background": "light"
          }
        }
      ]
    },
    {
      "cell_type": "code",
      "source": [
        "#El individuo de ejemplo se encuentra representado por una x en el gráfico superior.\n",
        "# Así que nuestra población debe estar compuesta por números que van desde hasta .\n",
        "# Sabiendo esto, nuestros genes pueden representar valores decimales de ese número.\n",
        "\n",
        "\n",
        "\n",
        "#individuo de ejemplo \n",
        "#x = 0.54\n",
        "x = [0,5,4]\n",
        "\n",
        "\n"
      ],
      "metadata": {
        "id": "av-8KpArmJZd"
      },
      "execution_count": 55,
      "outputs": []
    },
    {
      "cell_type": "code",
      "source": [
        "# Necesitamos representar los genes como una lista para poder realizar la mutación y el entrecruzamiento. \n",
        "#Así que debemos manejar una función que convierta una lista en números decimales.\n",
        "\n",
        "\n",
        "def listToDecimal(num):\n",
        "    decimal=0\n",
        "    for i in range(len(num)):\n",
        "        decimal+=num[i]*10**(-i)\n",
        "    return decimal\n",
        "\n"
      ],
      "metadata": {
        "id": "-2MzF6IvmQHd"
      },
      "execution_count": 56,
      "outputs": []
    },
    {
      "cell_type": "code",
      "source": [
        "listToDecimal(x)"
      ],
      "metadata": {
        "colab": {
          "base_uri": "https://localhost:8080/"
        },
        "id": "RjA8TVN9mUtI",
        "outputId": "fa1b7d0b-03cf-410c-f98b-6c4301cd832d"
      },
      "execution_count": 57,
      "outputs": [
        {
          "output_type": "execute_result",
          "data": {
            "text/plain": [
              "0.54"
            ]
          },
          "metadata": {},
          "execution_count": 57
        }
      ]
    },
    {
      "cell_type": "code",
      "source": [
        "#Para hacer esto más interesante me gustaría manejar individuos con un código genético más grande, \n",
        "#así que voy a definir un ind_size con el cual generaré un primer código genético aleatorio\n",
        "\n",
        "\n",
        "ind_size =250\n",
        "#Genetic pool\n",
        "genetic_pool=[[0,1],[0,1,2,3,4,5,6,7,8,9]]\n",
        "\n",
        "individuo = []\n",
        "individuo += [np.random.choice(genetic_pool[0])]\n",
        "individuo += list(np.random.choice(genetic_pool[1],ind_size-1))\n",
        "\n",
        "individuo\n",
        "\n",
        "\n",
        "\n"
      ],
      "metadata": {
        "colab": {
          "base_uri": "https://localhost:8080/"
        },
        "id": "uPuPxor3mqux",
        "outputId": "2672010c-5cc5-4a85-976f-805a66a7374a"
      },
      "execution_count": 69,
      "outputs": [
        {
          "output_type": "execute_result",
          "data": {
            "text/plain": [
              "[1,\n",
              " 9,\n",
              " 2,\n",
              " 1,\n",
              " 0,\n",
              " 2,\n",
              " 0,\n",
              " 4,\n",
              " 4,\n",
              " 5,\n",
              " 7,\n",
              " 3,\n",
              " 4,\n",
              " 7,\n",
              " 1,\n",
              " 8,\n",
              " 3,\n",
              " 1,\n",
              " 8,\n",
              " 3,\n",
              " 8,\n",
              " 5,\n",
              " 2,\n",
              " 9,\n",
              " 2,\n",
              " 3,\n",
              " 4,\n",
              " 8,\n",
              " 3,\n",
              " 4,\n",
              " 8,\n",
              " 6,\n",
              " 9,\n",
              " 7,\n",
              " 8,\n",
              " 0,\n",
              " 3,\n",
              " 6,\n",
              " 2,\n",
              " 8,\n",
              " 6,\n",
              " 6,\n",
              " 3,\n",
              " 4,\n",
              " 5,\n",
              " 7,\n",
              " 3,\n",
              " 8,\n",
              " 9,\n",
              " 1,\n",
              " 8,\n",
              " 3,\n",
              " 7,\n",
              " 9,\n",
              " 5,\n",
              " 5,\n",
              " 6,\n",
              " 1,\n",
              " 8,\n",
              " 0,\n",
              " 5,\n",
              " 0,\n",
              " 3,\n",
              " 1,\n",
              " 6,\n",
              " 8,\n",
              " 4,\n",
              " 7,\n",
              " 2,\n",
              " 1,\n",
              " 1,\n",
              " 5,\n",
              " 9,\n",
              " 0,\n",
              " 1,\n",
              " 5,\n",
              " 8,\n",
              " 8,\n",
              " 6,\n",
              " 8,\n",
              " 1,\n",
              " 5,\n",
              " 1,\n",
              " 8,\n",
              " 6,\n",
              " 7,\n",
              " 7,\n",
              " 8,\n",
              " 8,\n",
              " 5,\n",
              " 4,\n",
              " 8,\n",
              " 6,\n",
              " 9,\n",
              " 3,\n",
              " 7,\n",
              " 0,\n",
              " 7,\n",
              " 7,\n",
              " 4,\n",
              " 6,\n",
              " 9,\n",
              " 1,\n",
              " 3,\n",
              " 9,\n",
              " 5,\n",
              " 4,\n",
              " 9,\n",
              " 6,\n",
              " 3,\n",
              " 4,\n",
              " 2,\n",
              " 6,\n",
              " 2,\n",
              " 6,\n",
              " 3,\n",
              " 8,\n",
              " 1,\n",
              " 2,\n",
              " 2,\n",
              " 2,\n",
              " 1,\n",
              " 3,\n",
              " 4,\n",
              " 0,\n",
              " 0,\n",
              " 5,\n",
              " 2,\n",
              " 5,\n",
              " 6,\n",
              " 9,\n",
              " 0,\n",
              " 9,\n",
              " 5,\n",
              " 6,\n",
              " 4,\n",
              " 7,\n",
              " 6,\n",
              " 0,\n",
              " 6,\n",
              " 1,\n",
              " 6,\n",
              " 3,\n",
              " 8,\n",
              " 7,\n",
              " 9,\n",
              " 7,\n",
              " 8,\n",
              " 3,\n",
              " 3,\n",
              " 2,\n",
              " 3,\n",
              " 0,\n",
              " 1,\n",
              " 3,\n",
              " 2,\n",
              " 8,\n",
              " 6,\n",
              " 9,\n",
              " 0,\n",
              " 0,\n",
              " 9,\n",
              " 2,\n",
              " 1,\n",
              " 7,\n",
              " 0,\n",
              " 2,\n",
              " 4,\n",
              " 0,\n",
              " 5,\n",
              " 9,\n",
              " 8,\n",
              " 0,\n",
              " 5,\n",
              " 3,\n",
              " 2,\n",
              " 5,\n",
              " 3,\n",
              " 1,\n",
              " 4,\n",
              " 0,\n",
              " 4,\n",
              " 7,\n",
              " 9,\n",
              " 7,\n",
              " 8,\n",
              " 3,\n",
              " 1,\n",
              " 1,\n",
              " 8,\n",
              " 4,\n",
              " 8,\n",
              " 0,\n",
              " 3,\n",
              " 1,\n",
              " 6,\n",
              " 0,\n",
              " 6,\n",
              " 6,\n",
              " 0,\n",
              " 8,\n",
              " 1,\n",
              " 5,\n",
              " 9,\n",
              " 7,\n",
              " 2,\n",
              " 1,\n",
              " 9,\n",
              " 4,\n",
              " 3,\n",
              " 7,\n",
              " 0,\n",
              " 7,\n",
              " 6,\n",
              " 5,\n",
              " 3,\n",
              " 7,\n",
              " 5,\n",
              " 0,\n",
              " 0,\n",
              " 3,\n",
              " 4,\n",
              " 6,\n",
              " 1,\n",
              " 6,\n",
              " 8,\n",
              " 3,\n",
              " 4,\n",
              " 4,\n",
              " 1,\n",
              " 9,\n",
              " 6,\n",
              " 9,\n",
              " 9,\n",
              " 1,\n",
              " 5,\n",
              " 1,\n",
              " 6,\n",
              " 9,\n",
              " 9,\n",
              " 5,\n",
              " 8,\n",
              " 0,\n",
              " 1,\n",
              " 2,\n",
              " 4,\n",
              " 6,\n",
              " 7,\n",
              " 7,\n",
              " 5]"
            ]
          },
          "metadata": {},
          "execution_count": 69
        }
      ]
    },
    {
      "cell_type": "code",
      "source": [
        "\n",
        "\n",
        "listToDecimal(individuo)\n",
        "\n"
      ],
      "metadata": {
        "colab": {
          "base_uri": "https://localhost:8080/"
        },
        "id": "shZ_yg1ymzWa",
        "outputId": "3164b694-1204-4487-e78d-8896f7b2f1ef"
      },
      "execution_count": 70,
      "outputs": [
        {
          "output_type": "execute_result",
          "data": {
            "text/plain": [
              "1.921020445734718"
            ]
          },
          "metadata": {},
          "execution_count": 70
        }
      ]
    },
    {
      "cell_type": "code",
      "source": [
        "#Al convertir la lista en decimal podemos notar una pequeña variación al final debido a la forma en que python realiza la suma de punto flotante, pero nada de mucho peso.\n",
        "\n",
        "\n",
        "poblacion = []\n",
        "\n",
        "for i in range(100):\n",
        "    individuo = []\n",
        "    individuo += [np.random.choice(genetic_pool[0])]\n",
        "    individuo += list(np.random.choice(genetic_pool[1],ind_size-1))\n",
        "    poblacion.append(individuo)\n",
        "poblacion[:10]\n",
        "\n"
      ],
      "metadata": {
        "colab": {
          "base_uri": "https://localhost:8080/"
        },
        "id": "dnqqT9rom4aH",
        "outputId": "2b278c98-570f-41f2-b632-f9812709895f"
      },
      "execution_count": 60,
      "outputs": [
        {
          "output_type": "execute_result",
          "data": {
            "text/plain": [
              "[[1, 5, 1, 2, 3, 8, 1, 1, 7, 9, 6, 1, 2, 2, 3],\n",
              " [0, 3, 4, 1, 8, 2, 9, 9, 3, 4, 6, 3, 9, 5, 2],\n",
              " [1, 9, 3, 6, 7, 2, 5, 8, 2, 1, 2, 1, 4, 4, 8],\n",
              " [0, 5, 8, 2, 0, 2, 1, 3, 0, 1, 0, 2, 2, 6, 9],\n",
              " [1, 1, 6, 2, 7, 6, 5, 7, 1, 9, 7, 0, 8, 0, 3],\n",
              " [0, 1, 7, 6, 5, 9, 4, 9, 9, 5, 2, 1, 0, 1, 8],\n",
              " [1, 1, 6, 6, 3, 4, 9, 4, 2, 1, 0, 8, 5, 2, 5],\n",
              " [0, 5, 1, 7, 3, 2, 2, 5, 3, 2, 3, 3, 3, 2, 5],\n",
              " [0, 5, 7, 0, 9, 2, 8, 2, 0, 8, 7, 1, 7, 9, 7],\n",
              " [0, 6, 0, 4, 0, 8, 8, 8, 0, 5, 2, 9, 6, 5, 9]]"
            ]
          },
          "metadata": {},
          "execution_count": 60
        }
      ]
    },
    {
      "cell_type": "code",
      "source": [
        "#Finalmente, genero una población llena de individuos con genes aleatorios. De esta población vamos a elegir los mejores para reproducirlos.\n",
        "#Abajo observarás cómo se encuentra repartida la población.\n",
        "\n",
        "\n",
        "for individuo in poblacion:\n",
        "    x = listToDecimal(individuo)\n",
        "    y = fx(x)\n",
        "    plt.plot(x,y,'x')\n",
        "plt.plot(x_axis,y_axis)\n",
        "\n"
      ],
      "metadata": {
        "colab": {
          "base_uri": "https://localhost:8080/",
          "height": 283
        },
        "id": "FP4kVbSDm-9V",
        "outputId": "5135ea69-75e0-45d4-c306-781bf395164e"
      },
      "execution_count": 61,
      "outputs": [
        {
          "output_type": "execute_result",
          "data": {
            "text/plain": [
              "[<matplotlib.lines.Line2D at 0x7f9cbb0b7710>]"
            ]
          },
          "metadata": {},
          "execution_count": 61
        },
        {
          "output_type": "display_data",
          "data": {
            "text/plain": [
              "<Figure size 432x288 with 1 Axes>"
            ],
            "image/png": "[encoded data removed]"
          },
          "metadata": {
            "needs_background": "light"
          }
        }
      ]
    },
    {
      "cell_type": "markdown",
      "source": [
        "\n",
        "Medición del éxito\n",
        "\n",
        "Esto se suele llamar fitness. Aquí vamos a medir el éxito del individuo para cumplir con el objetivo y determinar la probabilidad que tendrá de reproducirse.\n",
        "Ya que queremos maximizar una función, aquellos individuos que produzcan un valor más alto en\n",
        "serán seleccionados como los mejores."
      ],
      "metadata": {
        "id": "VWdyJ2OEojD2"
      }
    },
    {
      "cell_type": "code",
      "source": [
        "\n",
        "\n",
        "\n",
        "fitness =[]\n",
        "\n",
        "#extraigo los valores de y para medir su éxito\n",
        "for individuo in poblacion:\n",
        "    x = listToDecimal(individuo)\n",
        "    y = fx(x)\n",
        "    fitness += [y]\n",
        "    \n",
        "#convierto fitnees en un vector para realizar operaciones\n",
        "#más fácilmente\n",
        "fitness = np.array(fitness)\n",
        "\n",
        "#divido todos los valores de y para la suma total\n",
        "#y así obtener valores entre 0 y 1\n",
        "fitness=fitness/fitness.sum()\n",
        "\n",
        "\n",
        "    \n",
        "\n",
        "\n",
        "\n"
      ],
      "metadata": {
        "id": "woljH5m9oDot"
      },
      "execution_count": 62,
      "outputs": []
    },
    {
      "cell_type": "code",
      "source": [
        "fitness"
      ],
      "metadata": {
        "colab": {
          "base_uri": "https://localhost:8080/"
        },
        "id": "te_pFtSHomZv",
        "outputId": "530ddce9-4cef-4420-ed9f-be27b7d50175"
      },
      "execution_count": 63,
      "outputs": [
        {
          "output_type": "execute_result",
          "data": {
            "text/plain": [
              "array([0.0095137 , 0.00967032, 0.00654431, 0.0106419 , 0.01095666,\n",
              "       0.00694143, 0.01094772, 0.00971217, 0.01045601, 0.01100366,\n",
              "       0.01098444, 0.01234099, 0.00956532, 0.0099218 , 0.01179687,\n",
              "       0.01170416, 0.00897596, 0.00851181, 0.00750185, 0.01097903,\n",
              "       0.01102378, 0.00735113, 0.00938667, 0.00973768, 0.011116  ,\n",
              "       0.01153186, 0.01125067, 0.01101568, 0.01103617, 0.01207349,\n",
              "       0.0083856 , 0.00655543, 0.01176791, 0.01038976, 0.01004889,\n",
              "       0.00620021, 0.00637243, 0.00975208, 0.00677964, 0.0115592 ,\n",
              "       0.00934523, 0.01133346, 0.00963294, 0.01153807, 0.01167633,\n",
              "       0.01156621, 0.01075289, 0.00995417, 0.01108835, 0.01159553,\n",
              "       0.01157993, 0.00969649, 0.01134732, 0.00653395, 0.011471  ,\n",
              "       0.0072747 , 0.01169659, 0.00990226, 0.01210172, 0.01148317,\n",
              "       0.01161932, 0.01120431, 0.00659206, 0.0087236 , 0.00968306,\n",
              "       0.00964852, 0.00921966, 0.01226383, 0.00654293, 0.00976089,\n",
              "       0.01082037, 0.0066218 , 0.00975698, 0.00763895, 0.01102594,\n",
              "       0.00969338, 0.00966393, 0.01138336, 0.01059479, 0.01189568,\n",
              "       0.01098914, 0.0110178 , 0.0122381 , 0.00955387, 0.00972695,\n",
              "       0.00846356, 0.00653527, 0.00975394, 0.00654234, 0.00902481,\n",
              "       0.01150074, 0.00910336, 0.01169739, 0.01170152, 0.0122023 ,\n",
              "       0.01189349, 0.00726796, 0.01226659, 0.00997026, 0.01062249])"
            ]
          },
          "metadata": {},
          "execution_count": 63
        }
      ]
    },
    {
      "cell_type": "code",
      "source": [
        "array = np.array([8,5])\n",
        "array = array/array.sum()\n",
        "array"
      ],
      "metadata": {
        "colab": {
          "base_uri": "https://localhost:8080/"
        },
        "id": "2QrccFeIopQm",
        "outputId": "2c2f2702-b92e-427e-a4b4-3730fb244620"
      },
      "execution_count": 64,
      "outputs": [
        {
          "output_type": "execute_result",
          "data": {
            "text/plain": [
              "array([0.61538462, 0.38461538])"
            ]
          },
          "metadata": {},
          "execution_count": 64
        }
      ]
    },
    {
      "cell_type": "code",
      "source": [
        "\n",
        "\n",
        "array = np.array([8,2])\n",
        "array = array/array.sum()\n",
        "array\n",
        "\n"
      ],
      "metadata": {
        "colab": {
          "base_uri": "https://localhost:8080/"
        },
        "id": "ETZxBlAVoqN6",
        "outputId": "3b355366-f96b-419a-e21d-7cea3145a839"
      },
      "execution_count": 65,
      "outputs": [
        {
          "output_type": "execute_result",
          "data": {
            "text/plain": [
              "array([0.8, 0.2])"
            ]
          },
          "metadata": {},
          "execution_count": 65
        }
      ]
    },
    {
      "cell_type": "markdown",
      "source": [
        "Los números más grandes producen un porcentaje mayor, y ya que la probabilidad se mide entre 0 y 1, esto ya nos permite darle una probabilidad mayor de reproducirse a los mejores individuos, aquellos que obtuvieron números más grandes en\n",
        "\n",
        ".\n",
        "Entrecruzamiento\n",
        "\n",
        "El entrecruzamiento consiste en mezclar los genes de los mejores individuos. En este caso vamos a elegir dos padres al azar, de acuerdo a la probabilidad del fitness, para que produzcan un nuevo individuo.\n",
        "Es importante no descartar de lleno a los peores individuos ya que, tal vez, su código genético puede servir para lograr algo mejor más tarde.\n",
        "Luego, se elige un cross_point a partir del cual se van a combinar los genes de los padres. Se va a copiar los genes del primer padre hasta este punto, y luego los genes del otro padre.\n"
      ],
      "metadata": {
        "id": "vE9iZLhkpFV0"
      }
    },
    {
      "cell_type": "code",
      "source": [
        "size_poblacion = len(poblacion)\n",
        "#hijos\n",
        "offspring = []\n",
        "for i in range(size_poblacion//2):\n",
        "    parents = np.random.choice(size_poblacion, 2, p=fitness)\n",
        "    cross_point = np.random.randint(ind_size)\n",
        "    offspring += [poblacion[parents[0]][:cross_point] + poblacion[parents[1]][cross_point:]]\n",
        "    offspring += [poblacion[parents[1]][:cross_point] + poblacion[parents[0]][cross_point:]]\n",
        "\n"
      ],
      "metadata": {
        "id": "skAIKt9lor0l"
      },
      "execution_count": 66,
      "outputs": []
    },
    {
      "cell_type": "code",
      "source": [
        "offspring[:10]"
      ],
      "metadata": {
        "colab": {
          "base_uri": "https://localhost:8080/"
        },
        "id": "LqIZXZCFovSo",
        "outputId": "7ab1e624-fd83-41ff-91bf-5b3a9dd09255"
      },
      "execution_count": 71,
      "outputs": [
        {
          "output_type": "execute_result",
          "data": {
            "text/plain": [
              "[[1, 9, 4, 6, 0, 5, 2, 6, 0, 3, 3, 2, 5, 4, 2],\n",
              " [1, 2, 6, 5, 3, 4, 9, 7, 3, 8, 4, 9, 1, 8, 2],\n",
              " [1, 6, 2, 9, 0, 1, 7, 7, 7, 2, 7, 5, 0, 2, 0],\n",
              " [1, 0, 2, 8, 2, 1, 1, 3, 2, 9, 7, 6, 0, 4, 7],\n",
              " [0, 2, 5, 5, 9, 4, 0, 1, 5, 1, 4, 9, 9, 9, 1],\n",
              " [0, 5, 3, 8, 1, 6, 3, 5, 0, 3, 7, 9, 0, 5, 6],\n",
              " [1, 7, 9, 6, 0, 2, 2, 4, 2, 3, 2, 2, 5, 0, 5],\n",
              " [1, 2, 8, 6, 0, 9, 2, 0, 7, 8, 0, 2, 3, 7, 9],\n",
              " [1, 0, 7, 5, 1, 0, 8, 6, 7, 8, 0, 2, 5, 0, 5],\n",
              " [1, 2, 8, 6, 0, 9, 2, 0, 6, 1, 1, 0, 8, 3, 4]]"
            ]
          },
          "metadata": {},
          "execution_count": 71
        }
      ]
    },
    {
      "cell_type": "code",
      "source": [
        "\n",
        "\n",
        "poblacion = offspring\n",
        "for individuo in poblacion:\n",
        "    x = listToDecimal(individuo)\n",
        "    y = fx(x)\n",
        "    plt.plot(x,y,'x')\n",
        "plt.plot(x_axis,y_axis)\n",
        "\n"
      ],
      "metadata": {
        "colab": {
          "base_uri": "https://localhost:8080/",
          "height": 283
        },
        "id": "2JGK3iY0ow75",
        "outputId": "210f8532-d6de-4b07-d863-468caa93a4ee"
      },
      "execution_count": 72,
      "outputs": [
        {
          "output_type": "execute_result",
          "data": {
            "text/plain": [
              "[<matplotlib.lines.Line2D at 0x7f9cbacfa490>]"
            ]
          },
          "metadata": {},
          "execution_count": 72
        },
        {
          "output_type": "display_data",
          "data": {
            "text/plain": [
              "<Figure size 432x288 with 1 Axes>"
            ],
            "image/png": "[encoded data removed]"
          },
          "metadata": {
            "needs_background": "light"
          }
        }
      ]
    }
  ]
}