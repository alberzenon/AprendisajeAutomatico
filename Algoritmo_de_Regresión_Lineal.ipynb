{
  "cells": [
    {
      "cell_type": "markdown",
      "metadata": {
        "id": "view-in-github",
        "colab_type": "text"
      },
      "source": [
        "<a href=\"https://colab.research.google.com/github/alberzenon/AprendizajeAutomatico/blob/main/Algoritmo_de_Regresi%C3%B3n_Lineal.ipynb\" target=\"_parent\"><img src=\"https://colab.research.google.com/assets/colab-badge.svg\" alt=\"Open In Colab\"/></a>"
      ]
    },
    {
      "cell_type": "code",
      "execution_count": null,
      "id": "23f01fa6",
      "metadata": {
        "id": "23f01fa6"
      },
      "outputs": [],
      "source": [
        "import numpy as np\n",
        "import matplotlib.pyplot as plt"
      ]
    },
    {
      "cell_type": "markdown",
      "source": [
        "## Método de los mínimos cuadrados"
      ],
      "metadata": {
        "id": "m7VWz4bo_Pfn"
      },
      "id": "m7VWz4bo_Pfn"
    },
    {
      "cell_type": "markdown",
      "source": [
        "$$h(x_{i}) = \\beta_{1}x_{i}+\\beta_{0}$$"
      ],
      "metadata": {
        "id": "t_xoXYcMjVAC"
      },
      "id": "t_xoXYcMjVAC"
    },
    {
      "cell_type": "code",
      "execution_count": null,
      "id": "4d60c65a",
      "metadata": {
        "id": "4d60c65a"
      },
      "outputs": [],
      "source": [
        "def funcion_estimacion(x,y):\n",
        "    #numero de observaciones\n",
        "    n = np.size(x)\n",
        "    \n",
        "    m_x = np.mean(x)\n",
        "    m_y = np.mean(y)\n",
        "    \n",
        "    SS_xy = np.sum(y*x) - n*m_y*m_x\n",
        "    SS_xx = np.sum(x*x) - n*m_x*m_x\n",
        "    \n",
        "    # calculo de los coeficientes\n",
        "    b_1 = SS_xy / SS_xx\n",
        "    b_0 = m_y - b_1*m_x\n",
        "    \n",
        "    return (b_0, b_1)"
      ]
    },
    {
      "cell_type": "code",
      "execution_count": null,
      "id": "57042809",
      "metadata": {
        "id": "57042809"
      },
      "outputs": [],
      "source": [
        "def grafica_regresion(x, y, b):\n",
        "    \n",
        "    # grafica de las muestras \n",
        "    plt.scatter(x, y, color = \"r\",\n",
        "    marker = \"o\", s = 30)\n",
        "    \n",
        "    \n",
        "    # calculo del vector de prediccion \n",
        "    y_pred = b[0] + b[1]*x\n",
        "    \n",
        "    # ploteo de la grafica\n",
        "    plt.plot(x, y_pred, color = \"blue\")\n",
        "    \n",
        "    # etiquetas del grafico\n",
        "    plt.xlabel('x')\n",
        "    plt.ylabel('y')\n",
        "    \n",
        "    # function to show plot\n",
        "    plt.show()"
      ]
    },
    {
      "cell_type": "code",
      "execution_count": null,
      "id": "53cbe8f5",
      "metadata": {
        "colab": {
          "base_uri": "https://localhost:8080/",
          "height": 332
        },
        "id": "53cbe8f5",
        "outputId": "cdde6960-89a0-42ad-86ed-a4f975046a13"
      },
      "outputs": [
        {
          "output_type": "stream",
          "name": "stdout",
          "text": [
            "Coeficientes estimados:\n",
            "b_0 = -10.998410392752206 \n",
            "b_1 = 0.4375681491231291\n"
          ]
        },
        {
          "output_type": "display_data",
          "data": {
            "text/plain": [
              "<Figure size 432x288 with 1 Axes>"
            ],
            "image/png": "[encoded data removed]"
          },
          "metadata": {
            "needs_background": "light"
          }
        }
      ],
      "source": [
        "# caracteristicas / respuestas\n",
        "x = np.array([20, 45, 80, 100, 160, 175, 190, 215, 223, 257,289,300,358,400,428,460,489])\n",
        "y = np.array([10, 19, 27, 38, 47, 56, 63, 74, 87, 96, 110, 126,148,159,170,200,216])\n",
        "    \n",
        "# estimacion de los coeficientes\n",
        "b = funcion_estimacion(x, y)\n",
        "print(\"Coeficientes estimados:\\nb_0 = {} \\nb_1 = {}\".format(b[0], b[1]))\n",
        "    \n",
        "# grafica de la regresion \n",
        "grafica_regresion(x, y, b)\n",
        "\n"
      ]
    },
    {
      "cell_type": "code",
      "execution_count": null,
      "id": "143e938e",
      "metadata": {
        "colab": {
          "base_uri": "https://localhost:8080/"
        },
        "id": "143e938e",
        "outputId": "a8fbd065-2adb-4753-fca8-3f59e5b85b58"
      },
      "outputs": [
        {
          "output_type": "execute_result",
          "data": {
            "text/plain": [
              "427"
            ]
          },
          "metadata": {},
          "execution_count": 13
        }
      ],
      "source": [
        "def prediccion(x,b):\n",
        "    y_pred = b[0] + b[1]*x\n",
        "    return  round(y_pred)\n",
        "\n",
        "prediccion(1000,b)"
      ]
    }
  ],
  "metadata": {
    "kernelspec": {
      "display_name": "Python 3",
      "language": "python",
      "name": "python3"
    },
    "language_info": {
      "codemirror_mode": {
        "name": "ipython",
        "version": 3
      },
      "file_extension": ".py",
      "mimetype": "text/x-python",
      "name": "python",
      "nbconvert_exporter": "python",
      "pygments_lexer": "ipython3",
      "version": "3.8.8"
    },
    "colab": {
      "name": "Algoritmo de Regresión Lineal.ipynb",
      "provenance": [],
      "include_colab_link": true
    }
  },
  "nbformat": 4,
  "nbformat_minor": 5
}