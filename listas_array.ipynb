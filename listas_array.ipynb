{
  "nbformat": 4,
  "nbformat_minor": 0,
  "metadata": {
    "colab": {
      "provenance": [],
      "authorship_tag": "ABX9TyN5/mm39QFMa+twAzZY/etE",
      "include_colab_link": true
    },
    "kernelspec": {
      "name": "python3",
      "display_name": "Python 3"
    },
    "language_info": {
      "name": "python"
    }
  },
  "cells": [
    {
      "cell_type": "markdown",
      "metadata": {
        "id": "view-in-github",
        "colab_type": "text"
      },
      "source": [
        "<a href=\"https://colab.research.google.com/github/alberzenon/TecMilenio/blob/main/listas_array.ipynb\" target=\"_parent\"><img src=\"https://colab.research.google.com/assets/colab-badge.svg\" alt=\"Open In Colab\"/></a>"
      ]
    },
    {
      "cell_type": "markdown",
      "source": [
        "**Lista**:\n",
        "Es una coleccion de elementos que pueden contener elementos miltiples tipos de datos\n",
        "\n",
        "lista = [1,\"yacklyon\",['a','e']]\n",
        "\n",
        "**LISTAS**\n",
        "puede constar de elementos pertenecientes a diferentes tipos de datos\n",
        "Array\n",
        "Una matriz o array es un vector que contiene elementos homogeneo, es decir, que pertenecen al mismo tipo de datos.\n",
        "\n",
        "import array as ar\n",
        "\n",
        "\n",
        "a = arr.array('d',[1.1,3.5,4.5])\n",
        "\n",
        "**ARRAYS**\n",
        "solo consta de elementos que pertenecen al mismo tipo de datos"
      ],
      "metadata": {
        "id": "FGI2tBK3BJLJ"
      }
    },
    {
      "cell_type": "code",
      "source": [
        "import array as ar"
      ],
      "metadata": {
        "id": "vgm5cB1sAXzA"
      },
      "execution_count": null,
      "outputs": []
    },
    {
      "cell_type": "code",
      "execution_count": null,
      "metadata": {
        "colab": {
          "base_uri": "https://localhost:8080/"
        },
        "id": "m4qO8yNN_CFU",
        "outputId": "bdd07163-f6dd-4900-b0ec-204f623bf9aa"
      },
      "outputs": [
        {
          "output_type": "stream",
          "name": "stdout",
          "text": [
            "array('i', [1, 2, 3, 4, 5])\n"
          ]
        }
      ],
      "source": [
        "matriz = ar.array('i', [1,2,3,4,5])\n",
        "print(matriz)"
      ]
    },
    {
      "cell_type": "code",
      "source": [
        "for ar in matriz:\n",
        "  print(ar)"
      ],
      "metadata": {
        "colab": {
          "base_uri": "https://localhost:8080/"
        },
        "id": "C8W95xhfCyPv",
        "outputId": "82081e6d-ec6a-4319-8f05-ecac3b0067be"
      },
      "execution_count": null,
      "outputs": [
        {
          "output_type": "stream",
          "name": "stdout",
          "text": [
            "1\n",
            "2\n",
            "3\n",
            "4\n",
            "5\n"
          ]
        }
      ]
    },
    {
      "cell_type": "markdown",
      "source": [
        "# *Arreglos con numpy *"
      ],
      "metadata": {
        "id": "oWNkxnDmC_Ar"
      }
    },
    {
      "cell_type": "code",
      "source": [
        "import numpy as np"
      ],
      "metadata": {
        "id": "Bt9zIbSfC6d7"
      },
      "execution_count": null,
      "outputs": []
    },
    {
      "cell_type": "code",
      "source": [
        "matr = np.array([1,2,3,4,5])\n",
        "print(matr)"
      ],
      "metadata": {
        "colab": {
          "base_uri": "https://localhost:8080/"
        },
        "id": "1Vgfr1AZDNfB",
        "outputId": "65f7c4a2-ffaa-401e-f847-92cfd5200e1b"
      },
      "execution_count": null,
      "outputs": [
        {
          "output_type": "stream",
          "name": "stdout",
          "text": [
            "[1 2 3 4 5]\n"
          ]
        }
      ]
    }
  ]
}