{
  "nbformat": 4,
  "nbformat_minor": 0,
  "metadata": {
    "colab": {
      "name": "listas_array.ipynb",
      "provenance": [],
      "authorship_tag": "ABX9TyN7zRSfEGmtCZ7qyJVPSHqY",
      "include_colab_link": true
    },
    "kernelspec": {
      "name": "python3",
      "display_name": "Python 3"
    },
    "language_info": {
      "name": "python"
    }
  },
  "cells": [
    {
      "cell_type": "markdown",
      "metadata": {
        "id": "view-in-github",
        "colab_type": "text"
      },
      "source": [
        "<a href=\"https://colab.research.google.com/github/alberzenon/AprendizajeAutomatico/blob/main/listas_array.ipynb\" target=\"_parent\"><img src=\"https://colab.research.google.com/assets/colab-badge.svg\" alt=\"Open In Colab\"/></a>"
      ]
    },
    {
      "cell_type": "code",
      "source": [
        "Lista:\n",
        "Es una coleccion de elementos que pueden contener elementos miltiples tipos de datos\n",
        "\n",
        "lista = [1,\"yacklyon\",['a','e']]"
      ],
      "metadata": {
        "id": "vgm5cB1sAXzA"
      },
      "execution_count": null,
      "outputs": []
    },
    {
      "cell_type": "code",
      "execution_count": null,
      "metadata": {
        "id": "m4qO8yNN_CFU"
      },
      "outputs": [],
      "source": [
        ""
      ]
    }
  ]
}