{
  "nbformat": 4,
  "nbformat_minor": 0,
  "metadata": {
    "colab": {
      "name": "Tema_5 (Parte_2).ipynb",
      "provenance": []
    },
    "kernelspec": {
      "name": "python3",
      "display_name": "Python 3"
    },
    "language_info": {
      "name": "python"
    }
  },
  "cells": [
    {
      "cell_type": "code",
      "metadata": {
        "id": "xM0km3ye2EhT"
      },
      "source": [
        "import numpy \n",
        "import matplotlib.pyplot"
      ],
      "execution_count": null,
      "outputs": []
    },
    {
      "cell_type": "code",
      "source": [
        "def sigmoid(sop):\n",
        "    return 1.0/(1+numpy.exp(-1*sop))"
      ],
      "metadata": {
        "id": "DEiByCISP4Z3"
      },
      "execution_count": null,
      "outputs": []
    },
    {
      "cell_type": "code",
      "source": [
        "def error(predicted, target):\n",
        "    return numpy.power(predicted-target, 2)"
      ],
      "metadata": {
        "id": "_Dc0XPX3QD-E"
      },
      "execution_count": null,
      "outputs": []
    },
    {
      "cell_type": "code",
      "source": [
        "def error_predicted_deriv(predicted, target):\n",
        "\n",
        "\n",
        "    w1 = update_w(w1, gradw1, razon_de_aprendizaje)\n",
        "    w2 = update_w(w2, gradw2, razon_de_aprendizaje)\n",
        "\n",
        "    #print(predicted)"
      ],
      "metadata": {
        "id": "0K_dXzxzQOxH"
      },
      "execution_count": null,
      "outputs": []
    },
    {
      "cell_type": "code",
      "source": [
        "def sigmoid_sop_deriv(sop):\n",
        "    return sigmoid(sop)*(1.0-sigmoid(sop))"
      ],
      "metadata": {
        "id": "xBFToXFHQV1S"
      },
      "execution_count": null,
      "outputs": []
    },
    {
      "cell_type": "code",
      "source": [
        "def sop_w_deriv(x):\n",
        "    return x"
      ],
      "metadata": {
        "id": "-T8q-HqRQkGg"
      },
      "execution_count": null,
      "outputs": []
    },
    {
      "cell_type": "code",
      "metadata": {
        "id": "NwF0LDJE2Wka"
      },
      "source": [
        "def update_w(w, grad, learning_rate):\n",
        "    return w - learning_rate*grad"
      ],
      "execution_count": null,
      "outputs": []
    },
    {
      "cell_type": "code",
      "metadata": {
        "colab": {
          "base_uri": "https://localhost:8080/"
        },
        "id": "SH1Q_bFi3NGp",
        "outputId": "29c1bcc1-ce4a-4d51-c363-e806449bc8f7"
      },
      "source": [
        "x1=0.1\n",
        "x2=0.4\n",
        "\n",
        "valor_objetivo = 0.7\n",
        "razon_de_aprendizaje = 0.01\n",
        "\n",
        "w1=numpy.random.rand()\n",
        "w2=numpy.random.rand()\n",
        "\n",
        "print(\"Valor de los pesos W1 y W2 :\", w1, w2)\n",
        "\n",
        "predicted_output = []\n",
        "network_error = []"
      ],
      "execution_count": null,
      "outputs": [
        {
          "output_type": "stream",
          "name": "stdout",
          "text": [
            "Valor de los pesos W1 y W2 : 0.7793306286887675 0.5392538375932046\n"
          ]
        }
      ]
    },
    {
      "cell_type": "code",
      "metadata": {
        "id": "3u9KXFat35Oa"
      },
      "source": [
        "old_err = 0\n",
        "for k in range(10000):\n",
        "\n",
        "    # Paso hacia adelante\n",
        "    y = w1*x1 + w2*x2\n",
        "    predicted = sigmoid(y)\n",
        "    err = error(predicted, valor_objetivo)\n",
        "    \n",
        "    predicted_output.append(predicted)\n",
        "    network_error.append(err)\n",
        "\n",
        "    # Paso hacia atrás\n",
        "    g1 = error_predicted_deriv(predicted, valor_objetivo)\n",
        "\n",
        "    g2 = sigmoid_sop_deriv(y)\n",
        "    \n",
        "    g3w1 = sop_w_deriv(x1)\n",
        "    g3w2 = sop_w_deriv(x2)\n",
        "    \n",
        "    gradw1 = g3w1*g2*g1\n",
        "    gradw2 = g3w2*g2*g1\n",
        "\n",
        "    w1 = update_w(w1, gradw1, razon_de_aprendizaje)\n",
        "    w2 = update_w(w2, gradw2, razon_de_aprendizaje)\n",
        "\n",
        "    #print(predicted)"
      ],
      "execution_count": null,
      "outputs": []
    },
    {
      "cell_type": "code",
      "metadata": {
        "id": "qPmXOWi14m_6",
        "outputId": "c44285b2-f49a-4912-a0ef-0b99445c8d18",
        "colab": {
          "base_uri": "https://localhost:8080/"
        }
      },
      "source": [
        "print(\"Valor de los pesos W1 y W2 :\", w1, w2)"
      ],
      "execution_count": null,
      "outputs": [
        {
          "output_type": "stream",
          "name": "stdout",
          "text": [
            "Valor de los pesos W1 y W2 : 0.995477838174205 1.812600672092386\n"
          ]
        }
      ]
    }
  ]
}