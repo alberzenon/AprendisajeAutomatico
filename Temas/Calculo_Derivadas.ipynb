{
  "nbformat": 4,
  "nbformat_minor": 0,
  "metadata": {
    "colab": {
      "name": "Calculo_Derivadas.ipynb",
      "provenance": [],
      "authorship_tag": "ABX9TyNYsL2lGA+1w+EsERmgody/",
      "include_colab_link": true
    },
    "kernelspec": {
      "name": "python3",
      "display_name": "Python 3"
    },
    "language_info": {
      "name": "python"
    }
  },
  "cells": [
    {
      "cell_type": "markdown",
      "metadata": {
        "id": "view-in-github",
        "colab_type": "text"
      },
      "source": [
        "<a href=\"https://colab.research.google.com/github/alberzenon/AprendisajeAutomatico/blob/main/Calculo_Derivadas.ipynb\" target=\"_parent\"><img src=\"https://colab.research.google.com/assets/colab-badge.svg\" alt=\"Open In Colab\"/></a>"
      ]
    },
    {
      "cell_type": "code",
      "execution_count": null,
      "metadata": {
        "id": "d4no5655o_Yq"
      },
      "outputs": [],
      "source": [
        "import sympy as sp\n",
        "from sympy import *\n"
      ]
    },
    {
      "cell_type": "code",
      "source": [
        "#ejercicio 1\n",
        "x,y = symbols('x't,y)\n",
        "\n",
        "fx = '5'\n",
        "\n",
        "dfx = diff(fx,x)\n",
        "print(dfx)"
      ],
      "metadata": {
        "colab": {
          "base_uri": "https://localhost:8080/"
        },
        "id": "QBN5oy0fpQ_q",
        "outputId": "ed816b1e-2e16-4143-f19e-ffd96ff90709"
      },
      "execution_count": null,
      "outputs": [
        {
          "output_type": "stream",
          "name": "stdout",
          "text": [
            "0\n"
          ]
        }
      ]
    },
    {
      "cell_type": "code",
      "source": [
        "#ejercicio 2\n",
        "x = symbols('x')\n",
        "\n",
        "fx = '-2*x'\n",
        "\n",
        "dfx = diff(fx,x)\n",
        "print(dfx)"
      ],
      "metadata": {
        "colab": {
          "base_uri": "https://localhost:8080/"
        },
        "id": "RmY9a4MHqHoj",
        "outputId": "3d160f46-3213-4a40-e5dd-be0d8626fda8"
      },
      "execution_count": null,
      "outputs": [
        {
          "output_type": "stream",
          "name": "stdout",
          "text": [
            "-2\n"
          ]
        }
      ]
    },
    {
      "cell_type": "code",
      "source": [
        "#ejersicio 3\n",
        "\n",
        "x = symbols('x')\n",
        "\n",
        "fx = -2*x + 5\n",
        "\n",
        "dfx = diff(fx,x)\n",
        "print(dfx)"
      ],
      "metadata": {
        "colab": {
          "base_uri": "https://localhost:8080/"
        },
        "id": "paUqrwF6qbsD",
        "outputId": "1d9ae7e9-19e0-4a25-bd0f-035f52a158b5"
      },
      "execution_count": null,
      "outputs": [
        {
          "output_type": "stream",
          "name": "stdout",
          "text": [
            "-2\n"
          ]
        }
      ]
    },
    {
      "cell_type": "code",
      "source": [
        "#ejersicio 4\n",
        "x = symbols ('x')\n",
        "\n",
        "fx = '-2*x**2 -5'\n",
        "\n",
        "fdx = diff(fx,x)\n",
        "\n",
        "print(fdx)"
      ],
      "metadata": {
        "colab": {
          "base_uri": "https://localhost:8080/"
        },
        "id": "X92i3s1hqwSm",
        "outputId": "e389032f-99e6-40ba-ceb6-5059d30fbdbc"
      },
      "execution_count": null,
      "outputs": [
        {
          "output_type": "stream",
          "name": "stdout",
          "text": [
            "-4*x\n"
          ]
        }
      ]
    },
    {
      "cell_type": "code",
      "source": [
        "#ejersicio 5\n",
        "x = symbols ('x')\n",
        "\n",
        "fx = '-2*x**4 + x**3 - x**2 +4'\n",
        "\n",
        "fdx = diff(fx,x)\n",
        "\n",
        "print(fdx)\n"
      ],
      "metadata": {
        "colab": {
          "base_uri": "https://localhost:8080/"
        },
        "id": "sxF-61YxrZak",
        "outputId": "83b90b20-a600-49c1-9f54-f5a1d5bce7d5"
      },
      "execution_count": null,
      "outputs": [
        {
          "output_type": "stream",
          "name": "stdout",
          "text": [
            "-8*x**3 + 3*x**2 - 2*x\n"
          ]
        }
      ]
    },
    {
      "cell_type": "code",
      "source": [
        "#ejercicio 6 \n",
        "\n",
        "\n",
        "fx = '5/x**5'\n",
        "\n",
        "fdx = diff(fx,x)\n",
        "\n",
        "print(fdx)"
      ],
      "metadata": {
        "colab": {
          "base_uri": "https://localhost:8080/"
        },
        "id": "C4WFi2hst0IJ",
        "outputId": "5d23cc98-7cdf-41fc-945b-6cedae121bf4"
      },
      "execution_count": null,
      "outputs": [
        {
          "output_type": "stream",
          "name": "stdout",
          "text": [
            "-25/x**6\n"
          ]
        }
      ]
    },
    {
      "cell_type": "code",
      "source": [
        "fx = 'exp(3*x +4*exp(-4*x))'\n",
        "\n",
        "fdx = diff(fx,x)\n",
        "\n",
        "print(fdx)"
      ],
      "metadata": {
        "colab": {
          "base_uri": "https://localhost:8080/"
        },
        "id": "5W35Xm4ZuepH",
        "outputId": "36701e5c-f3fc-43fb-aea8-7462247ded18"
      },
      "execution_count": null,
      "outputs": [
        {
          "output_type": "stream",
          "name": "stdout",
          "text": [
            "(3 - 16*exp(-4*x))*exp(3*x + 4*exp(-4*x))\n"
          ]
        }
      ]
    },
    {
      "cell_type": "code",
      "source": [
        "fx = 'exp(3x**2)'\n",
        "\n",
        "fdx = diff(fx,x)\n",
        "\n",
        "print(fdx)"
      ],
      "metadata": {
        "id": "Qn5Ph7olu82Y"
      },
      "execution_count": null,
      "outputs": []
    }
  ]
}