{
 "cells": [
  {
   "cell_type": "code",
   "execution_count": 1,
   "metadata": {},
   "outputs": [],
   "source": [
    "#pip install request\n"
   ]
  },
  {
   "cell_type": "code",
   "execution_count": 2,
   "metadata": {},
   "outputs": [],
   "source": [
    "import requests"
   ]
  },
  {
   "cell_type": "code",
   "execution_count": 3,
   "metadata": {},
   "outputs": [],
   "source": [
    "response = requests.get('https://yts.mx/api/v2/list_movies.json')"
   ]
  },
  {
   "cell_type": "code",
   "execution_count": 4,
   "metadata": {},
   "outputs": [],
   "source": [
    "data =response.json()"
   ]
  },
  {
   "cell_type": "code",
   "execution_count": 5,
   "metadata": {},
   "outputs": [],
   "source": [
    "results = data['data']"
   ]
  },
  {
   "cell_type": "code",
   "execution_count": 6,
   "metadata": {},
   "outputs": [],
   "source": [
    "movies = results['movies']"
   ]
  },
  {
   "cell_type": "code",
   "execution_count": 7,
   "metadata": {},
   "outputs": [
    {
     "name": "stdout",
     "output_type": "stream",
     "text": [
      "Speak No Evil\n",
      "A Danish family visits a Dutch family they met on a holiday. What was supposed to be an idyllic weekend slowly starts unraveling as the Danes try to stay polite in the face of unpleasantness.\n",
      "Kate Berlant: Cinnamon in the Wind\n",
      "Kate Berlant performs an intimate, absurdist set in front of an audience, and a mirrored reflection of herself. Kate's special finds her exploring her clairvoyant connection to the crowd, and her inability to stop performing.\n",
      "You've Got A Friend\n",
      "Yoshio Yoshida, a diligent man who works for the city's water department and lives with his bedridden mother, is a hardcore masochist man. He regularly visits to the SM club queen Miho, but he still cannot forget the legendary S.M. queen Yukiko who brought him into the sadism and masochism world. who brought him into the sadism and masochism world. While he chases the afterimages of Yukiko, he sees her in an unexpected place.\n",
      "History of the TT 1907-2020\n",
      "Discover the stories of legends like Hailwood, Dunlop and more, and their contributions to the epic story of the Isle of Man TT.\n",
      "Sex Abuse in the Church: Code of Silence\n",
      "Secret internal documents reveal how Catholic Church officials protect priests accused of pedophilia and sexual abuse by moving them from country to country, sometimes as far away as Africa. Even Pope Francis is implicated. When he was bishop of Buenos Aires, he tried to influence the Argentinean justice system in order to protect a convicted priest.\n",
      "The Adventures of Thomasina Sawyer\n",
      "In this adaptation of Mark Twain's timeless classic, Thomasina Sawyer and Huck Finn must decide what to do after witnessing the pinning of a murder on an innocent man.\n",
      "As I Am\n",
      "A story of a young man running from the truth about his childhood returns in order to correct his past but ends up discovering a side of himself that he suppressed.\n",
      "The Nursery\n",
      "When Ranae agrees to babysit for a family with a tragic past, a run-of-the-mill Saturday night quickly turns into a confrontation with unspeakable horror.\n",
      "The Cat\n",
      "So-Yeon suffers from claustrophobia due to a traumatic incident that occurred to her as a child. So-Yeon is still treated for her condition to this day. She works as a groomer at a pet shop. One day, a cat named Bidanyi comes into the store. The next day, the owner of Bidanyi is found dead in an elevator. So-Yeon, by request from police officer Joon-Suk, takes the cat home. Shortly after, So-Yeon starts to see a mysterious young girl. She becomes frightened. Then, So-Yeon's good friend Bo-Hee is found dead. Near Bo-Hee, there is a cat which Bo-Hee recently adopted from an animal shelter. So-Yeon now fears for her own life. So-Yeon and Joon-Suk investigate deeper into the mysterious case. There is a hidden story related to the cats.\n",
      "An Autumn's Tale\n",
      "Hong Kong native Jennifer (Cherie Chung) moves to New York City to study for her Master's Degree and to reunite with her boyfriend Vincent (Danny Chan Bak-Keung). There, she meets her very distant relative Samuel Pang (Yun-Fat Chow), a street smart and wise-talking waiter-by-day and gambler-by-night, who helps Jennifer settle in her apartment building in the outskirts of Brooklyn. When Jennifer discovers that Vincent is being unfaithful, she nearly puts all her plans to a halt. But, Pang talks sense into her and helps her adjust to her new life in the Big Apple and without Vincent, resulting in an unlikely relationship.\n",
      "Mighty Flash\n",
      "Halfway between documentary and fiction, Destello Bravío (Mighty Flash) tells the story of Puebla de la Reina, a little town set in the deepest heart of Badajoz, Extremadura (west-center to Spain). Apparently struck in time, living as generations ago, in this place their neighbors spend the days trapped by the remembers and ancient costumes front to an each more globalized world where the old folklore, traditions, myths, and lifestyles seem not to have space. With its population aging and the young ones moving from the town to the city, the remaining inhabitants live the best they can. In this way, Isa is a woman who records messages for herself for the day she dies or loses her memory; Carmencita \"Cita\" feels trapped in her marriage, in a house full of religious images of virgins and saints collected by her long-deceased mother-in-law; and María comes back to town after to become widowed, facing her own loneliness. In this gray environment where nothing extraordinary happens, halfway between bizarre and surrealism, women of the town dream of leaving behind their apathy and living all kind of liberating experiences to find their lost joy and meet again with the place where they dreamed to be happy.\n",
      "The Sex Perils of Paulette\n",
      "A young girl arrives in New York City from Ohio determined to make it in the big city, but circumstances result in her becoming a waitress, then a prostitute.\n",
      "Tattoo\n",
      "Two police detectives, a grizzled veteran and one fresh-faced rookie, hunt a ritualistic serial killer murdering people with tattoos and skinning them.\n",
      "Linda and Abilene\n",
      "In the 19th century, siblings Abilene and Tod, orphaned on their western farm, become attracted to each other, sexually. The confused Tod fleas to a nearby town where he meets Linda, a local bar girl, and begins a sexual relationship with her, while a rough cowboy, named Rawhide, sexually assaults Abilene leading Tod wanting revenge despite Linda's wariness and growing compassion for Abilene.\n",
      "Allez, Eddy!\n",
      "The eleven year old cycling talent Freddy is the son of a butcher in an idyllic village in no man's land. His isolated life is turned upside down completely in 1975 when the first supermarket in the village opens its doors. To mark the opening the supermarket organizes a cycling race and the winner of that match will meet Eddy Merckx. Freddy's father is a fervent opponent of the supermarket and the competition, but Freddy subscribes behind his back. By participating in the race a new world opens, not only for Freddy, but also for all those around him.\n",
      "Hell of a Cruise\n",
      "Onboard at the luxury Diamond Princess cruise ship in January of 2020, people had no idea that the deadly novel coronavirus boarded the ship with them turning the floating paradise into their worst nightmare.\n",
      "The Invisible Life\n",
      "Night falls over Lisbon. But Hugo can't go home. Antonio has died, and for some reason, he can't stop thinking about his old love, Adriana.\n",
      "Jack Irish: Black Tide\n",
      "Jack Irish has no shortage of friends, but family members are few and far between. His wife was murdered by an ex-client and his father is a fading photo on the pubs football wall of fame. So when Des Connors, the last link to his dad, calls to ask for help in the matter of a missing son, Jack is more than happy to lend a hand. But sometimes prodigal sons go missing for a reason... As Jack begins to dig, he discovers that Gary Connors was a man with something to hide, and his friends are people with yet darker and even more deadly secrets.\n",
      "The 74th Primetime Emmy Awards\n",
      "Host Kenan Thompson welcomes guests and nominees to the 74th annual awards show that honors the best in American TV across a wide array of categories; \"Succession (2018)\" leads the way 25 nominations, followed by \"Ted Lasso (2020).\"\n",
      "BalletBoyz: Next Generation\n",
      "Filmed over two years BalletBoyz: Next Generation follows the meteoric rise of our all male dance company. The film explores what it takes to turn eight individuals into one formidable company and follows the process from first auditions, through bootcamp training and creating work - right up to our recent performance in Addis Ababa, Ethiopia. Altitude sickness, broken bones, rolling power cuts and a punishing schedule are only some of the hurdles we faced to bring the BalletBoyz magic to Ethiopia and stage a performance in the prestigious City Hall, Addis Ababa. The film also features performance footage of \"The Talent\" from the last two years.\n"
     ]
    }
   ],
   "source": [
    "for movie in movies:\n",
    "    title = movie['title']\n",
    "    synopsis = movie['synopsis']\n",
    "    print(title)\n",
    "    print(synopsis)"
   ]
  }
 ],
 "metadata": {
  "kernelspec": {
   "display_name": "Python 3.8.10 64-bit",
   "language": "python",
   "name": "python3"
  },
  "language_info": {
   "codemirror_mode": {
    "name": "ipython",
    "version": 3
   },
   "file_extension": ".py",
   "mimetype": "text/x-python",
   "name": "python",
   "nbconvert_exporter": "python",
   "pygments_lexer": "ipython3",
   "version": "3.8.10"
  },
  "orig_nbformat": 4,
  "vscode": {
   "interpreter": {
    "hash": "916dbcbb3f70747c44a77c7bcd40155683ae19c65e1c03b4aa3499c5328201f1"
   }
  }
 },
 "nbformat": 4,
 "nbformat_minor": 2
}
