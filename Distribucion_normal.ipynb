{
  "nbformat": 4,
  "nbformat_minor": 0,
  "metadata": {
    "colab": {
      "name": "Distribucion normal.ipynb",
      "provenance": []
    },
    "kernelspec": {
      "name": "python3",
      "display_name": "Python 3"
    },
    "language_info": {
      "name": "python"
    }
  },
  "cells": [
    {
      "cell_type": "code",
      "metadata": {
        "id": "Iv8FruE6IJue"
      },
      "source": [
        "import numpy as np\n",
        "import matplotlib.pyplot as plt"
      ],
      "execution_count": null,
      "outputs": []
    },
    {
      "cell_type": "code",
      "metadata": {
        "id": "fyobrHCn4JY4"
      },
      "source": [
        "media, sigma = 8.5, 0.4\n",
        "s = np.random.normal(media, sigma,1000)\n",
        "compilacion_notas = s.round(2)"
      ],
      "execution_count": null,
      "outputs": []
    },
    {
      "cell_type": "code",
      "metadata": {
        "colab": {
          "base_uri": "https://localhost:8080/",
          "height": 295
        },
        "id": "1dGdaWedITPX",
        "outputId": "f6efba20-7c1e-44a6-f8d3-ce6cae06da41"
      },
      "source": [
        "frecuencia, notas, ignorar = plt.hist(compilacion_notas, 30)\n",
        "plt.ylabel('frequencia')\n",
        "plt.xlabel('notas')\n",
        "plt.title('Histograma')\n",
        "plt.show()"
      ],
      "execution_count": null,
      "outputs": [
        {
          "output_type": "display_data",
          "data": {
            "text/plain": [
              "<Figure size 432x288 with 1 Axes>"
            ],
            "image/png": "[encoded data removed]"
          },
          "metadata": {
            "needs_background": "light"
          }
        }
      ]
    },
    {
      "cell_type": "code",
      "metadata": {
        "colab": {
          "base_uri": "https://localhost:8080/"
        },
        "id": "Y8DZlerE6Vtw",
        "outputId": "2e16d337-9f2e-4660-a2f0-a71f969c2d1e"
      },
      "source": [
        "sigma = compilacion_notas.std()\n",
        "print(sigma)\n",
        "mu = np.mean(compilacion_notas)\n",
        "print(mu)\n",
        "mediana = np.median(compilacion_notas)\n",
        "print(mediana)"
      ],
      "execution_count": null,
      "outputs": [
        {
          "output_type": "stream",
          "name": "stdout",
          "text": [
            "0.3940659939654778\n",
            "8.49382\n",
            "8.51\n"
          ]
        }
      ]
    },
    {
      "cell_type": "markdown",
      "source": [
        "## Distribución normal \n",
        "\n",
        "\n",
        "$$P(X) = \\frac{1}{\\sigma \\sqrt{2 \\pi}} \\exp{\\left[-\\frac{1}{2}\\left(\\frac{X-\\mu}{\\sigma} \\right)^2 \\right]}$$\n",
        "\n",
        "* $\\mu$: media de la distribución\n",
        "* $\\sigma$: desviación estándar de la distribución"
      ],
      "metadata": {
        "id": "PnioN04VxpJP"
      }
    },
    {
      "cell_type": "code",
      "metadata": {
        "colab": {
          "base_uri": "https://localhost:8080/",
          "height": 265
        },
        "id": "U0U7s3M9Ixy1",
        "outputId": "d69d0118-9476-4ce8-f8f4-180979bf33bb"
      },
      "source": [
        "import matplotlib.pyplot as plt\n",
        "frecuencia, notas, ignored = plt.hist(compilacion_notas, 30, density=True)\n",
        "plt.plot(notas, 1/(sigma * np.sqrt(2 * np.pi)) *np.exp( - (notas - mu)**2 / (2 * sigma**2) ),linewidth=2, color='r')\n",
        "plt.show()"
      ],
      "execution_count": null,
      "outputs": [
        {
          "output_type": "display_data",
          "data": {
            "text/plain": [
              "<Figure size 432x288 with 1 Axes>"
            ],
            "image/png": "[encoded data removed]"
          },
          "metadata": {
            "needs_background": "light"
          }
        }
      ]
    },
    {
      "cell_type": "markdown",
      "source": [
        ""
      ],
      "metadata": {
        "id": "lQ-2OqiylYyw"
      }
    },
    {
      "cell_type": "code",
      "source": [
        ""
      ],
      "metadata": {
        "id": "STpZLrz85V6r"
      },
      "execution_count": null,
      "outputs": []
    }
  ]
}