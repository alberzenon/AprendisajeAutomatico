{
  "nbformat": 4,
  "nbformat_minor": 0,
  "metadata": {
    "colab": {
      "name": "(Algoritmo genético_evidencia2).ipynb",
      "provenance": [],
      "include_colab_link": true
    },
    "kernelspec": {
      "name": "python3",
      "display_name": "Python 3"
    },
    "language_info": {
      "name": "python"
    }
  },
  "cells": [
    {
      "cell_type": "markdown",
      "metadata": {
        "id": "view-in-github",
        "colab_type": "text"
      },
      "source": [
        "<a href=\"https://colab.research.google.com/github/alberzenon/AprendizajeAutomatico/blob/main/(Algoritmo_gen%C3%A9tico_evidencia2).ipynb\" target=\"_parent\"><img src=\"https://colab.research.google.com/assets/colab-badge.svg\" alt=\"Open In Colab\"/></a>"
      ]
    },
    {
      "cell_type": "code",
      "metadata": {
        "id": "PNn1dfQbSHXt"
      },
      "source": [
        "import numpy as np, random, operator, pandas as pd, matplotlib.pyplot as plt"
      ],
      "execution_count": 11,
      "outputs": []
    },
    {
      "cell_type": "code",
      "metadata": {
        "id": "0dgtuERuqIBA"
      },
      "source": [
        "df = pd.read_csv('https://raw.githubusercontent.com/alberzenon/AprendizajeAutomatico/main/Actividades/Evidencia2/Maravillas.csv')"
      ],
      "execution_count": 12,
      "outputs": []
    },
    {
      "cell_type": "code",
      "metadata": {
        "id": "ar0S-dvluPYV"
      },
      "source": [
        "class maravilla:\n",
        "    def __init__(self, x, y):\n",
        "        self.x = x\n",
        "        self.y = y\n",
        "    \n",
        "    def distancia(self, maravilla):\n",
        "        xDis = abs(self.x - maravilla.x)\n",
        "        yDis = abs(self.y - maravilla.y)\n",
        "        distancia = np.sqrt((xDis ** 2) + (yDis ** 2))\n",
        "        return distancia\n",
        "    \n",
        "    def __repr__(self):\n",
        "        return \"(\" + str(self.x) + \",\" + str(self.y) + \")\""
      ],
      "execution_count": 13,
      "outputs": []
    },
    {
      "cell_type": "code",
      "metadata": {
        "colab": {
          "base_uri": "https://localhost:8080/"
        },
        "id": "IVlKtcZ4kCxq",
        "outputId": "bff20160-f5fe-4c9e-c6d8-bc5c49b8c70a"
      },
      "source": [
        "listamaravillas = []\n",
        "\n",
        "for i in range(0,len(df)):\n",
        "    listamaravillas.append(maravilla(x=df.Longitud[i], y=df.Latitud[i]))\n",
        "\n",
        "#vista previa de la informacion de las ubiciones de los municipios\n",
        "listamaravillas[0:5]"
      ],
      "execution_count": 14,
      "outputs": [
        {
          "output_type": "execute_result",
          "data": {
            "text/plain": [
              "[(-43.2065,-22.951),\n",
              " (-72.545128,-13.163068),\n",
              " (116.5703749,40.4319077),\n",
              " (35.444832,30.32896),\n",
              " (78.042068,27.173891)]"
            ]
          },
          "metadata": {},
          "execution_count": 14
        }
      ]
    },
    {
      "cell_type": "code",
      "metadata": {
        "id": "KPqzpfRTuhd1"
      },
      "source": [
        "class Aptitud:\n",
        "    def __init__(self, ruta):\n",
        "        self.ruta = ruta\n",
        "        self.distancia = 0\n",
        "        self.aptitud= 0.0\n",
        "    \n",
        "    def distanciaRuta(self):\n",
        "        if self.distancia ==0:\n",
        "            distanciaRelativa = 0\n",
        "            for i in range(0, len(self.ruta)):\n",
        "                puntoInicial = self.ruta[i]\n",
        "                puntoFinal = None\n",
        "                if i + 1 < len(self.ruta):\n",
        "                    puntoFinal = self.ruta[i + 1]\n",
        "                else:\n",
        "                    puntoFinal = self.ruta[0]\n",
        "                distanciaRelativa += puntoInicial.distancia(puntoFinal)\n",
        "            self.distancia = distanciaRelativa\n",
        "        return self.distancia\n",
        "    \n",
        "    def rutaApta(self):\n",
        "        if self.aptitud == 0:\n",
        "            self.aptitud = 1 / float(self.distanciaRuta())\n",
        "        return self.aptitud"
      ],
      "execution_count": 15,
      "outputs": []
    },
    {
      "cell_type": "code",
      "metadata": {
        "id": "kRuvYWnGu1SE"
      },
      "source": [
        "def crearRuta(listamaravillas):\n",
        "    route = random.sample(listamaravillas, len(listamaravillas))\n",
        "    return route"
      ],
      "execution_count": 16,
      "outputs": []
    },
    {
      "cell_type": "code",
      "metadata": {
        "id": "BRXu4fDlvYwc"
      },
      "source": [
        "def poblacionInicial(tamanoPob,listamaravillas):\n",
        "    poblacion = []\n",
        "\n",
        "    for i in range(0, tamanoPob):\n",
        "        poblacion.append(crearRuta(listamaravillas))\n",
        "    return poblacion"
      ],
      "execution_count": 17,
      "outputs": []
    },
    {
      "cell_type": "code",
      "metadata": {
        "id": "ftHKfr_si5Nt"
      },
      "source": [
        "def clasificacionRutas(poblacion):\n",
        "    fitnessResults = {}\n",
        "    for i in range(0,len(poblacion)):\n",
        "        fitnessResults[i] = Aptitud(poblacion[i]).rutaApta()\n",
        "    return sorted(fitnessResults.items(), key = operator.itemgetter(1), reverse = True)"
      ],
      "execution_count": 18,
      "outputs": []
    },
    {
      "cell_type": "code",
      "metadata": {
        "id": "gJA3Rtwpi9QU"
      },
      "source": [
        "def seleccionRutas(popRanked, indivSelecionados):\n",
        "    resultadosSeleccion = []\n",
        "    df = pd.DataFrame(np.array(popRanked), columns=[\"Indice\",\"Aptitud\"])\n",
        "    df['cum_sum'] = df.Aptitud.cumsum()\n",
        "    df['cum_perc'] = 100*df.cum_sum/df.Aptitud.sum()\n",
        "    \n",
        "    for i in range(0, indivSelecionados):\n",
        "        resultadosSeleccion.append(popRanked[i][0])\n",
        "    for i in range(0, len(popRanked) - indivSelecionados):\n",
        "        pick = 100*random.random()\n",
        "        for i in range(0, len(popRanked)):\n",
        "            if pick <= df.iat[i,3]:\n",
        "                resultadosSeleccion.append(popRanked[i][0])\n",
        "                break\n",
        "    return resultadosSeleccion"
      ],
      "execution_count": 19,
      "outputs": []
    },
    {
      "cell_type": "code",
      "metadata": {
        "id": "u5vSrloMjCd8"
      },
      "source": [
        "def grupoApareamiento(poblacion, resultadosSeleccion):\n",
        "    grupoApareamiento = []\n",
        "    for i in range(0, len(resultadosSeleccion)):\n",
        "        index = resultadosSeleccion[i]\n",
        "        grupoApareamiento.append(poblacion[index])\n",
        "    return grupoApareamiento"
      ],
      "execution_count": 20,
      "outputs": []
    },
    {
      "cell_type": "code",
      "metadata": {
        "id": "yUNtTC48jGgY"
      },
      "source": [
        "def reproduccion(progenitor1, progenitor2):\n",
        "    hijo = []\n",
        "    hijoP1 = []\n",
        "    hijoP2 = []\n",
        "    \n",
        "    geneA = int(random.random() * len(progenitor1))\n",
        "    geneB = int(random.random() * len(progenitor2))\n",
        "    \n",
        "    startGene = min(geneA, geneB)\n",
        "    endGene = max(geneA, geneB)\n",
        "\n",
        "    for i in range(startGene, endGene):\n",
        "        hijoP1.append(progenitor1[i])\n",
        "        \n",
        "    hijoP2 = [item for item in progenitor2 if item not in hijoP1]\n",
        "\n",
        "    hijo = hijoP1 + hijoP2\n",
        "    return hijo"
      ],
      "execution_count": 21,
      "outputs": []
    },
    {
      "cell_type": "code",
      "metadata": {
        "id": "FdvRkDdMjJKl"
      },
      "source": [
        "def reproduccionPoblacion(grupoApareamiento, indivSelecionados):\n",
        "    hijos = []\n",
        "    tamano = len(grupoApareamiento) - indivSelecionados\n",
        "    espacio = random.sample(grupoApareamiento, len(grupoApareamiento))\n",
        "\n",
        "    for i in range(0,indivSelecionados):\n",
        "        hijos.append(grupoApareamiento[i])\n",
        "    \n",
        "    for i in range(0, tamano):\n",
        "        hijo = reproduccion(espacio[i], espacio[len(grupoApareamiento)-i-1])\n",
        "        hijos.append(hijo)\n",
        "    return hijos"
      ],
      "execution_count": 22,
      "outputs": []
    },
    {
      "cell_type": "code",
      "metadata": {
        "id": "OUPhGwCyjJ1G"
      },
      "source": [
        "def mutacion(individuo, razonMutacion):\n",
        "    for swapped in range(len(individuo)):\n",
        "        if(random.random() < razonMutacion):\n",
        "            swapWith = int(random.random() * len(individuo))\n",
        "            \n",
        "            lugar1 = individuo[swapped]\n",
        "            lugar2 = individuo[swapWith]\n",
        "            \n",
        "            individuo[swapped] = lugar2\n",
        "            individuo[swapWith] = lugar1\n",
        "    return individuo"
      ],
      "execution_count": 23,
      "outputs": []
    },
    {
      "cell_type": "code",
      "metadata": {
        "id": "CNpS1RJPjMPc"
      },
      "source": [
        "def mutacionPoblacion(poblacion, razonMutacion):\n",
        "    pobMutada = []\n",
        "    \n",
        "    for ind in range(0, len(poblacion)):\n",
        "        individuoMutar = mutacion(poblacion[ind], razonMutacion)\n",
        "        pobMutada.append(individuoMutar)\n",
        "    return pobMutada"
      ],
      "execution_count": 24,
      "outputs": []
    },
    {
      "cell_type": "code",
      "metadata": {
        "id": "fji9ACsmjQm1"
      },
      "source": [
        "def nuevaGeneracion(generacionActual, indivSelecionados, razonMutacion):\n",
        "\n",
        "    #clasificar rutas \n",
        "    popRanked = clasificacionRutas(generacionActual)\n",
        "\n",
        "    #seleccion de los candidatos\n",
        "    selectionResults = seleccionRutas(popRanked, indivSelecionados)\n",
        "\n",
        "    #generar grupo de apareamiento\n",
        "    grupoApa = grupoApareamiento(generacionActual, selectionResults)\n",
        "\n",
        "    #generacion de la poblacion cruzada, reproducida\n",
        "    hijos = reproduccionPoblacion(grupoApa, indivSelecionados)\n",
        "\n",
        "    #incluir las mutaciones en la nueva generacion  \n",
        "    nextGeneration = mutacionPoblacion(hijos, razonMutacion)\n",
        "\n",
        "    return nextGeneration"
      ],
      "execution_count": 25,
      "outputs": []
    },
    {
      "cell_type": "code",
      "metadata": {
        "id": "KTdUdXHtjSws"
      },
      "source": [
        "def algoritmoGenetico(poblacion, tamanoPoblacion, indivSelecionados, razonMutacion, generaciones):\n",
        "    pop = poblacionInicial(tamanoPoblacion, poblacion)\n",
        "    print(\"Distancia Inicial: \" + str(1 / clasificacionRutas(pop)[0][1]))\n",
        "    \n",
        "    for i in range(0, generaciones):\n",
        "        pop = nuevaGeneracion(pop, indivSelecionados, razonMutacion)\n",
        "    \n",
        "    print(\"Distancia Final: \" + str(1 / clasificacionRutas(pop)[0][1]))\n",
        "    bestRouteIndex = clasificacionRutas(pop)[0][0]\n",
        "    mejorRuta = pop[bestRouteIndex]\n",
        "    return mejorRuta"
      ],
      "execution_count": 26,
      "outputs": []
    },
    {
      "cell_type": "code",
      "metadata": {
        "colab": {
          "base_uri": "https://localhost:8080/"
        },
        "id": "efroF_MdjX0T",
        "outputId": "0c0b7b3b-a2c8-4f7d-cc43-7ab920e0c37e"
      },
      "source": [
        "algoritmoGenetico(poblacion=listamaravillas, \n",
        "                  tamanoPoblacion=100, \n",
        "                  indivSelecionados=20,\n",
        "                  razonMutacion=0.01, \n",
        "                  generaciones=500)"
      ],
      "execution_count": 27,
      "outputs": [
        {
          "output_type": "stream",
          "name": "stdout",
          "text": [
            "Distancia Inicial: 465.790906773671\n",
            "Distancia Final: 451.03620069391883\n"
          ]
        },
        {
          "output_type": "execute_result",
          "data": {
            "text/plain": [
              "[(-88.5677826,20.6842849),\n",
              " (-72.545128,-13.163068),\n",
              " (-43.2065,-22.951),\n",
              " (78.042068,27.173891),\n",
              " (116.5703749,40.4319077),\n",
              " (35.444832,30.32896),\n",
              " (12.4922309,41.8902102)]"
            ]
          },
          "metadata": {},
          "execution_count": 27
        }
      ]
    },
    {
      "cell_type": "code",
      "metadata": {
        "id": "YRQtwZkN6NmA"
      },
      "source": [
        "def geneticAlgorithmPlot(population, popSize, eliteSize, mutationRate, generations):\n",
        "    pop = poblacionInicial(popSize, population)\n",
        "    progress = []\n",
        "    progress.append(1 / clasificacionRutas(pop)[0][1])\n",
        "    \n",
        "    for i in range(0, generations):\n",
        "        pop = nuevaGeneracion(pop, eliteSize, mutationRate)\n",
        "        progress.append(1 / clasificacionRutas(pop)[0][1])\n",
        "    \n",
        "    plt.plot(progress)\n",
        "    plt.ylabel('Distancia')\n",
        "    plt.xlabel('Generacion')\n",
        "    plt.show()"
      ],
      "execution_count": 28,
      "outputs": []
    },
    {
      "cell_type": "code",
      "metadata": {
        "id": "i5Jg08666Prz"
      },
      "source": [
        "geneticAlgorithmPlot(population=listamaravillas, popSize=100, eliteSize=20, mutationRate=0.01, generations=500)"
      ],
      "execution_count": null,
      "outputs": []
    }
  ]
}