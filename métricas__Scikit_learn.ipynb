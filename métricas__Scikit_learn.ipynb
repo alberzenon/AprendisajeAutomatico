{
  "nbformat": 4,
  "nbformat_minor": 0,
  "metadata": {
    "colab": {
      "name": "métricas _Scikit-learn.ipynb",
      "provenance": [],
      "authorship_tag": "ABX9TyNaGpFZ5NX0u2C7Qe/i5HCC",
      "include_colab_link": true
    },
    "kernelspec": {
      "name": "python3",
      "display_name": "Python 3"
    },
    "language_info": {
      "name": "python"
    }
  },
  "cells": [
    {
      "cell_type": "markdown",
      "metadata": {
        "id": "view-in-github",
        "colab_type": "text"
      },
      "source": [
        "<a href=\"https://colab.research.google.com/github/alberzenon/AprendizajeAutomatico/blob/main/m%C3%A9tricas__Scikit_learn.ipynb\" target=\"_parent\"><img src=\"https://colab.research.google.com/assets/colab-badge.svg\" alt=\"Open In Colab\"/></a>"
      ]
    },
    {
      "cell_type": "code",
      "execution_count": null,
      "metadata": {
        "id": "uxyijlUgyAZj"
      },
      "outputs": [],
      "source": [
        "from sklearn.metrics import mean_squared_error\n"
      ]
    },
    {
      "cell_type": "code",
      "source": [
        "#error cuadrático medio \n",
        "y_verdadero =[1, 2, 3, 4, 5]\n",
        "y_predicho =[1, 2, 3, 4, -5]\n",
        "\n",
        "mean_squared_error(y_verdadero, y_predicho)"
      ],
      "metadata": {
        "colab": {
          "base_uri": "https://localhost:8080/"
        },
        "id": "Knpr2oxQyDNN",
        "outputId": "77f5aba8-33da-4328-e2c4-65318bdf09bc"
      },
      "execution_count": 23,
      "outputs": [
        {
          "output_type": "execute_result",
          "data": {
            "text/plain": [
              "20.0"
            ]
          },
          "metadata": {},
          "execution_count": 23
        }
      ]
    },
    {
      "cell_type": "code",
      "source": [
        "from sklearn.metrics import r2_score"
      ],
      "metadata": {
        "id": "VGnh2hhF7BG9"
      },
      "execution_count": null,
      "outputs": []
    },
    {
      "cell_type": "code",
      "source": [
        "#coeficiente de determinación \n",
        "y_verdadero =[1, 2, 3, 4, 5]\n",
        "y_predicho =[1, 2, 3, 4, 4]\n",
        "r2_score(y_verdadero, y_predicho)"
      ],
      "metadata": {
        "colab": {
          "base_uri": "https://localhost:8080/"
        },
        "id": "Q2vNL9op7MGL",
        "outputId": "930c332c-1ad5-4af4-f029-ac7360c95ce4"
      },
      "execution_count": null,
      "outputs": [
        {
          "output_type": "execute_result",
          "data": {
            "text/plain": [
              "0.9"
            ]
          },
          "metadata": {},
          "execution_count": 22
        }
      ]
    }
  ]
}