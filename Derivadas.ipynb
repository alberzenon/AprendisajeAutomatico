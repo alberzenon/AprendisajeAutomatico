{
  "nbformat": 4,
  "nbformat_minor": 0,
  "metadata": {
    "colab": {
      "provenance": [],
      "authorship_tag": "ABX9TyNJAGpoIXMGJ2L40B4/MUAS",
      "include_colab_link": true
    },
    "kernelspec": {
      "name": "python3",
      "display_name": "Python 3"
    },
    "language_info": {
      "name": "python"
    }
  },
  "cells": [
    {
      "cell_type": "markdown",
      "metadata": {
        "id": "view-in-github",
        "colab_type": "text"
      },
      "source": [
        "<a href=\"https://colab.research.google.com/github/alberzenon/TecMilenio/blob/main/Derivadas.ipynb\" target=\"_parent\"><img src=\"https://colab.research.google.com/assets/colab-badge.svg\" alt=\"Open In Colab\"/></a>"
      ]
    },
    {
      "cell_type": "code",
      "execution_count": null,
      "metadata": {
        "id": "OhCAppPws4EI"
      },
      "outputs": [],
      "source": [
        "import sympy as sp\n",
        "from sympy import *"
      ]
    },
    {
      "cell_type": "code",
      "source": [
        "#ejercicio 1\n",
        "x = symbols('x')\n",
        "\n",
        "fx = '5'\n",
        "\n",
        "dfx = diff(fx,x)\n",
        "print(dfx)"
      ],
      "metadata": {
        "colab": {
          "base_uri": "https://localhost:8080/"
        },
        "id": "vTmx97WYtA1f",
        "outputId": "b259e384-8191-4cf8-95aa-092fedc98838"
      },
      "execution_count": null,
      "outputs": [
        {
          "output_type": "stream",
          "name": "stdout",
          "text": [
            "0\n"
          ]
        }
      ]
    },
    {
      "cell_type": "code",
      "source": [
        "#ejercicio 2\n",
        "x = symbols('x')\n",
        "\n",
        "fx = '-2*x'\n",
        "\n",
        "dfx = diff(fx,x)\n",
        "print(dfx)"
      ],
      "metadata": {
        "colab": {
          "base_uri": "https://localhost:8080/"
        },
        "id": "GtoPS3uetDL1",
        "outputId": "55386f37-c906-40f0-82a3-096eb1cf859e"
      },
      "execution_count": null,
      "outputs": [
        {
          "output_type": "stream",
          "name": "stdout",
          "text": [
            "-2\n"
          ]
        }
      ]
    },
    {
      "cell_type": "code",
      "source": [
        "#ejersicio 3\n",
        "\n",
        "x = symbols('x')\n",
        "\n",
        "fx = -2*x + 5\n",
        "\n",
        "dfx = diff(fx,x)\n",
        "print(dfx)"
      ],
      "metadata": {
        "colab": {
          "base_uri": "https://localhost:8080/"
        },
        "id": "MOmZ2W6rtFVd",
        "outputId": "6fd22ca7-5c46-4fbb-d856-6a926c82577a"
      },
      "execution_count": null,
      "outputs": [
        {
          "output_type": "stream",
          "name": "stdout",
          "text": [
            "-2\n"
          ]
        }
      ]
    },
    {
      "cell_type": "code",
      "source": [
        "#ejersicio 4\n",
        "x = symbols ('x')\n",
        "\n",
        "fx = '-2*x**2 -5'\n",
        "\n",
        "fdx = diff(fx,x)\n",
        "\n",
        "print(fdx)"
      ],
      "metadata": {
        "id": "h-pgCMfptHYK",
        "outputId": "93b0a384-b62a-4201-c51b-96a5a4ffe961",
        "colab": {
          "base_uri": "https://localhost:8080/"
        }
      },
      "execution_count": null,
      "outputs": [
        {
          "output_type": "stream",
          "name": "stdout",
          "text": [
            "-4*x\n"
          ]
        }
      ]
    }
  ]
}